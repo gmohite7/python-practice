{
 "cells": [
  {
   "cell_type": "markdown",
   "metadata": {},
   "source": [
    "### What are modules ?\n",
    "\n",
    "* code libraries in Python\n",
    "* Contains functions for use\n",
    "\n",
    "- Examples\n",
    "\n",
    "* Math : Math ops\n",
    "* Random : Random numbers\n",
    "* os : operating system interactions\n",
    "* time : Tim tasks\n"
   ]
  },
  {
   "cell_type": "code",
   "execution_count": 2,
   "metadata": {},
   "outputs": [
    {
     "name": "stdout",
     "output_type": "stream",
     "text": [
      "\n",
      "Please wait a moment while I gather a list of all available modules...\n",
      "\n"
     ]
    },
    {
     "name": "stderr",
     "output_type": "stream",
     "text": [
      "/Library/Frameworks/Python.framework/Versions/3.11/lib/python3.11/pkgutil.py:92: DeprecationWarning:\n",
      "\n",
      "The distutils package is deprecated and slated for removal in Python 3.12. Use setuptools or check PEP 632 for potential alternatives\n",
      "\n"
     ]
    },
    {
     "name": "stdout",
     "output_type": "stream",
     "text": [
      "IPython             chunk               jedi                pypika\n",
      "InstructorEmbedding click               jinja2              pyproject_hooks\n",
      "PIL                 cmath               jiter               pythonjsonlogger\n",
      "__future__          cmd                 joblib              pytz\n",
      "__hello__           code                json                quantize_helper\n",
      "__phello__          codecs              json5               queue\n",
      "_abc                codeop              jsonpatch           quopri\n",
      "_aix_support        collections         jsonpointer         random\n",
      "_argon2_cffi_bindings coloredlogs         jsonschema          re\n",
      "_ast                colorsys            jsonschema_specifications readline\n",
      "_asyncio            comm                jupyter             referencing\n",
      "_bisect             compare_bert_results jupyter_client      regex\n",
      "_blake2             compileall          jupyter_core        reprlib\n",
      "_bootsubprocess     concurrent          jupyter_events      requests\n",
      "_bz2                configparser        jupyter_lsp         requests_oauthlib\n",
      "_cffi_backend       constants           jupyter_server      requests_toolbelt\n",
      "_codecs             contextlib          jupyter_server_terminals resource\n",
      "_codecs_cn          contextvars         jupyterlab          rfc3339_validator\n",
      "_codecs_hk          contourpy           jupyterlab_plotly   rfc3986_validator\n",
      "_codecs_iso2022     convert_generation  jupyterlab_pygments rich\n",
      "_codecs_jp          convert_tf_models_to_pytorch jupyterlab_server   rlcompleter\n",
      "_codecs_kr          convert_to_packing_mode keyword             rpds\n",
      "_codecs_tw          copy                kiwisolver          rsa\n",
      "_collections        copyreg             kubernetes          runpy\n",
      "_collections_abc    crypt               langchain           safetensors\n",
      "_compat_pickle      cryptography        langchain_community sched\n",
      "_compression        csv                 langchain_core      scipy\n",
      "_contextvars        ctypes              langchain_elasticsearch seaborn\n",
      "_crypt              curses              langchain_openai    secrets\n",
      "_csv                cycler              langchain_text_splitters select\n",
      "_ctypes             dataclasses         langchainhub        selectors\n",
      "_ctypes_test        dataclasses_json    langgraph_sdk       send2trash\n",
      "_curses             datasets            langsmith           sentence_transformers\n",
      "_curses_panel       datetime            large_model_exporter setuptools\n",
      "_datetime           dateutil            lib2to3             shape_infer_helper\n",
      "_dbm                dbm                 linecache           shape_optimizer\n",
      "_decimal            debugpy             locale              shellingham\n",
      "_distutils_hack     decimal             logging             shelve\n",
      "_elementtree        decorator           lzma                shlex\n",
      "_functools          defusedxml          machine_info        shutil\n",
      "_hashlib            deprecated          mailbox             signal\n",
      "_heapq              difflib             mailcap             site\n",
      "_imp                dill                markdown_it         six\n",
      "_io                 dis                 markupsafe          sklearn\n",
      "_json               distro              marshal             smmap\n",
      "_locale             distutils           marshmallow         smtpd\n",
      "_lsprof             doctest             math                smtplib\n",
      "_lzma               dotenv              matplotlib          sndhdr\n",
      "_markupbase         durationpy          matplotlib_inline   sniffio\n",
      "_md5                dynamo_onnx_helper  mdurl               socket\n",
      "_multibytecodec     elastic_transport   metrics             socketserver\n",
      "_multiprocess       elasticsearch       mimetypes           soupsieve\n",
      "_multiprocessing    email               mistune             sqlalchemy\n",
      "_opcode             encodings           mmap                sqlite3\n",
      "_operator           ensurepip           mmh3                sre_compile\n",
      "_osx_support        entrypoints         modulefinder        sre_constants\n",
      "_pickle             enum                monotonic           sre_parse\n",
      "_plotly_future_     errno               mpmath              ssl\n",
      "_plotly_utils       executing           msgpack             stack_data\n",
      "_posixshmem         fastapi             multidict           starlette\n",
      "_posixsubprocess    fastjsonschema      multiprocess        stat\n",
      "_py_abc             faulthandler        multiprocessing     statistics\n",
      "_pydecimal          fcntl               mypy_extensions     streamlit\n",
      "_pyio               filecmp             narwhals            string\n",
      "_queue              fileinput           nbclient            stringprep\n",
      "_random             filelock            nbconvert           struct\n",
      "_remote_module_non_scriptable flatbuffers         nbformat            subprocess\n",
      "_scproxy            float16             nest_asyncio        sunau\n",
      "_sha1               fnmatch             netrc               sympy\n",
      "_sha256             fontTools           networkx            symtable\n",
      "_sha3               fqdn                nis                 sys\n",
      "_sha512             fractions           nlpcloud            sysconfig\n",
      "_signal             frozenlist          nltk                syslog\n",
      "_sitebuiltins       fsspec              nntplib             tabnanny\n",
      "_socket             ftplib              notebook            tarfile\n",
      "_sqlite3            functools           notebook_shim       telnetlib\n",
      "_sre                functorch           ntpath              tempfile\n",
      "_ssl                fusion_attention    nturl2path          tenacity\n",
      "_stat               fusion_attention_clip numbers             terminado\n",
      "_statistics         fusion_attention_sam2 numpy               termios\n",
      "_string             fusion_attention_unet oauthlib            test\n",
      "_strptime           fusion_attention_vae onnx_exporter       textblob\n",
      "_struct             fusion_bart_attention onnx_model          textwrap\n",
      "_symtable           fusion_base         onnx_model_bart     this\n",
      "_sysconfigdata__darwin_darwin fusion_bias_add     onnx_model_bert     threading\n",
      "_testbuffer         fusion_biasgelu     onnx_model_bert_keras threadpoolctl\n",
      "_testcapi           fusion_biassplitgelu onnx_model_bert_tf  tiktoken\n",
      "_testclinic         fusion_conformer_attention onnx_model_clip     time\n",
      "_testimportmultiple fusion_embedlayer   onnx_model_conformer timeit\n",
      "_testinternalcapi   fusion_fastgelu     onnx_model_gpt2     tinycss2\n",
      "_testmultiphase     fusion_gelu         onnx_model_phi      tkinter\n",
      "_thread             fusion_gelu_approximation onnx_model_sam2     token\n",
      "_threading_local    fusion_gemmfastgelu onnx_model_t5       tokenize\n",
      "_tkinter            fusion_gpt_attention onnx_model_tnlr     tokenizers\n",
      "_tokenize           fusion_gpt_attention_megatron onnx_model_unet     toml\n",
      "_tracemalloc        fusion_gpt_attention_no_past onnx_model_vae      tomllib\n",
      "_typing             fusion_group_norm   onnx_utils          torch\n",
      "_uuid               fusion_layernorm    onnxruntime         torch_onnx_export_helper\n",
      "_warnings           fusion_nhwc_conv    opcode              torchgen\n",
      "_weakref            fusion_options      openai              tornado\n",
      "_weakrefset         fusion_qordered_attention operator            tqdm\n",
      "_xxsubinterpreters  fusion_qordered_gelu operator_type_usage_processors trace\n",
      "_xxtestfuzz         fusion_qordered_layernorm optimizer           traceback\n",
      "_yaml               fusion_qordered_matmul optparse            tracemalloc\n",
      "_zoneinfo           fusion_quickgelu    orjson              traitlets\n",
      "abc                 fusion_reshape      ort_flatbuffers_py  transformers\n",
      "affinity_helper     fusion_rotary_attention ort_model_processor tty\n",
      "aifc                fusion_shape        os                  turtle\n",
      "aiohttp             fusion_simplified_layernorm overrides           turtledemo\n",
      "aiosignal           fusion_skip_group_norm packaging           typer\n",
      "altair              fusion_skiplayernorm pandas              types\n",
      "annotated_types     fusion_transpose    pandocfilters       typing\n",
      "antigravity         fusion_utils        parso               typing_extensions\n",
      "anyio               gc                  pathlib             typing_inspect\n",
      "appnope             genericpath         pdb                 tzdata\n",
      "argon2              getopt              pexpect             unicodedata\n",
      "argparse            getpass             pickle              unittest\n",
      "array               gettext             pickletools         uri_template\n",
      "arrow               git                 pip                 urllib\n",
      "asgiref             gitdb               pipes               urllib3\n",
      "ast                 glob                pkg_resources       utils\n",
      "asttokens           graphlib            pkgutil             uu\n",
      "async_lru           grp                 platform            uuid\n",
      "asynchat            grpc                platformdirs        uvicorn\n",
      "asyncio             gzip                plistlib            uvloop\n",
      "asyncore            h11                 plotly              venv\n",
      "atexit              hashlib             poplib              warnings\n",
      "attr                heapq               posix               watchfiles\n",
      "attrs               hmac                posixpath           wave\n",
      "audioop             hnswlib             posthog             wcwidth\n",
      "babel               html                pprint              weakref\n",
      "backoff             http                profile             webbrowser\n",
      "base64              httpcore            profiler            webcolors\n",
      "bcrypt              httptools           prometheus_client   webencodings\n",
      "bdb                 httpx               prompt_toolkit      websocket\n",
      "benchmark           httpx_sse           pstats              websockets\n",
      "benchmark_helper    huggingface_hub     psutil              wrapt\n",
      "benchmarks          huggingface_models  pty                 wsgiref\n",
      "bert_perf_test      humanfriendly       ptyprocess          xdrlib\n",
      "bert_test_data      idlelib             pure_eval           xml\n",
      "binascii            idna                pwd                 xmlrpc\n",
      "bisect              imaplib             py_compile          xxhash\n",
      "bleach              imghdr              pyarrow             xxlimited\n",
      "blinker             imp                 pyasn1              xxlimited_35\n",
      "bs4                 import_utils        pyasn1_modules      xxsubtype\n",
      "build               importlib           pyclbr              yaml\n",
      "builtins            importlib_metadata  pycparser           yarl\n",
      "bz2                 importlib_resources pydantic            youtube_search\n",
      "cProfile            inspect             pydantic_core       zipapp\n",
      "cachetools          io                  pydantic_settings   zipfile\n",
      "calendar            io_binding_helper   pydeck              zipimport\n",
      "certifi             ipaddress           pydoc               zipp\n",
      "cffi                ipykernel           pydoc_data          zlib\n",
      "cgi                 ipykernel_launcher  pyexpat             zmq\n",
      "cgitb               isoduration         pygments            zoneinfo\n",
      "charset_normalizer  isympy              pylab               \n",
      "chromadb            itertools           pyparsing           \n",
      "\n",
      "Enter any module name to get more help.  Or, type \"modules spam\" to search\n",
      "for modules whose name or summary contain the string \"spam\".\n",
      "\n"
     ]
    }
   ],
   "source": [
    "help('modules')"
   ]
  },
  {
   "cell_type": "code",
   "execution_count": 3,
   "metadata": {},
   "outputs": [
    {
     "name": "stdout",
     "output_type": "stream",
     "text": [
      "['False', 'None', 'True', 'and', 'as', 'assert', 'async', 'await', 'break', 'class', 'continue', 'def', 'del', 'elif', 'else', 'except', 'finally', 'for', 'from', 'global', 'if', 'import', 'in', 'is', 'lambda', 'nonlocal', 'not', 'or', 'pass', 'raise', 'return', 'try', 'while', 'with', 'yield']\n"
     ]
    }
   ],
   "source": [
    "# keyword module\n",
    "import keyword\n",
    "print(keyword.kwlist)"
   ]
  },
  {
   "cell_type": "code",
   "execution_count": 4,
   "metadata": {},
   "outputs": [],
   "source": [
    "# Math module\n",
    "import math"
   ]
  },
  {
   "cell_type": "code",
   "execution_count": 5,
   "metadata": {},
   "outputs": [
    {
     "data": {
      "text/plain": [
       "3.141592653589793"
      ]
     },
     "execution_count": 5,
     "metadata": {},
     "output_type": "execute_result"
    }
   ],
   "source": [
    "math.pi"
   ]
  },
  {
   "cell_type": "code",
   "execution_count": 6,
   "metadata": {},
   "outputs": [
    {
     "data": {
      "text/plain": [
       "2.718281828459045"
      ]
     },
     "execution_count": 6,
     "metadata": {},
     "output_type": "execute_result"
    }
   ],
   "source": [
    "math.e"
   ]
  },
  {
   "cell_type": "code",
   "execution_count": 7,
   "metadata": {},
   "outputs": [
    {
     "data": {
      "text/plain": [
       "120"
      ]
     },
     "execution_count": 7,
     "metadata": {},
     "output_type": "execute_result"
    }
   ],
   "source": [
    "math.factorial(5)"
   ]
  },
  {
   "cell_type": "code",
   "execution_count": 8,
   "metadata": {},
   "outputs": [
    {
     "data": {
      "text/plain": [
       "7"
      ]
     },
     "execution_count": 8,
     "metadata": {},
     "output_type": "execute_result"
    }
   ],
   "source": [
    "math.ceil(6.3)"
   ]
  },
  {
   "cell_type": "code",
   "execution_count": 9,
   "metadata": {},
   "outputs": [
    {
     "data": {
      "text/plain": [
       "6"
      ]
     },
     "execution_count": 9,
     "metadata": {},
     "output_type": "execute_result"
    }
   ],
   "source": [
    "math.floor(6.9)"
   ]
  },
  {
   "cell_type": "markdown",
   "metadata": {},
   "source": [
    "### Random module"
   ]
  },
  {
   "cell_type": "code",
   "execution_count": 11,
   "metadata": {},
   "outputs": [],
   "source": [
    "import random"
   ]
  },
  {
   "cell_type": "code",
   "execution_count": 12,
   "metadata": {},
   "outputs": [
    {
     "data": {
      "text/plain": [
       "42"
      ]
     },
     "execution_count": 12,
     "metadata": {},
     "output_type": "execute_result"
    }
   ],
   "source": [
    "random.randint(1,100)"
   ]
  },
  {
   "cell_type": "code",
   "execution_count": 14,
   "metadata": {},
   "outputs": [
    {
     "data": {
      "text/plain": [
       "[5, 4, 2, 1, 3]"
      ]
     },
     "execution_count": 14,
     "metadata": {},
     "output_type": "execute_result"
    }
   ],
   "source": [
    "a = [1,2,3,4,5]\n",
    "random.shuffle(a)\n",
    "a"
   ]
  },
  {
   "cell_type": "markdown",
   "metadata": {},
   "source": [
    "### Time module"
   ]
  },
  {
   "cell_type": "code",
   "execution_count": 15,
   "metadata": {},
   "outputs": [],
   "source": [
    "import time\n"
   ]
  },
  {
   "cell_type": "code",
   "execution_count": 16,
   "metadata": {},
   "outputs": [
    {
     "data": {
      "text/plain": [
       "1733443472.242872"
      ]
     },
     "execution_count": 16,
     "metadata": {},
     "output_type": "execute_result"
    }
   ],
   "source": [
    "time.time()"
   ]
  },
  {
   "cell_type": "code",
   "execution_count": 17,
   "metadata": {},
   "outputs": [
    {
     "data": {
      "text/plain": [
       "'Fri Dec  6 05:34:46 2024'"
      ]
     },
     "execution_count": 17,
     "metadata": {},
     "output_type": "execute_result"
    }
   ],
   "source": [
    "time.ctime()"
   ]
  },
  {
   "cell_type": "code",
   "execution_count": 18,
   "metadata": {},
   "outputs": [
    {
     "name": "stdout",
     "output_type": "stream",
     "text": [
      "hello\n",
      "world\n"
     ]
    }
   ],
   "source": [
    "print('hello')\n",
    "time.sleep(5)\n",
    "print('world')"
   ]
  },
  {
   "cell_type": "markdown",
   "metadata": {},
   "source": [
    "### Datetime module"
   ]
  },
  {
   "cell_type": "code",
   "execution_count": 19,
   "metadata": {},
   "outputs": [
    {
     "name": "stdout",
     "output_type": "stream",
     "text": [
      "2024-12-06 05:36:37.301171\n"
     ]
    }
   ],
   "source": [
    "import datetime\n",
    "print(datetime.datetime.now())"
   ]
  },
  {
   "cell_type": "markdown",
   "metadata": {},
   "source": [
    "### OS module"
   ]
  },
  {
   "cell_type": "code",
   "execution_count": 21,
   "metadata": {},
   "outputs": [],
   "source": [
    "import os"
   ]
  },
  {
   "cell_type": "code",
   "execution_count": 22,
   "metadata": {},
   "outputs": [
    {
     "data": {
      "text/plain": [
       "'/Users/girishmohite/gmohite7/python-practice/notebooks'"
      ]
     },
     "execution_count": 22,
     "metadata": {},
     "output_type": "execute_result"
    }
   ],
   "source": [
    "os.getcwd() # current working directory"
   ]
  },
  {
   "cell_type": "code",
   "execution_count": 23,
   "metadata": {},
   "outputs": [
    {
     "data": {
      "text/plain": [
       "['Day 08 operators.ipynb',\n",
       " 'Day 15 break-continue-pass.ipynb',\n",
       " 'Day 17 builtin-modules.ipynb',\n",
       " 'Day 06 user-input-type-conv.ipynb',\n",
       " 'Day 09 decision-control.ipynb',\n",
       " 'Day 04 variables.ipynb',\n",
       " 'Day 11 while-loop.ipynb',\n",
       " 'Day 14 nested-loops.ipynb',\n",
       " 'Day 12 guessing-game.ipynb',\n",
       " 'Day 13 for-loop.ipynb',\n",
       " 'Day 03 comments.ipynb',\n",
       " 'session1-python-fundamentals.ipynb',\n",
       " 'Day 10 indentation.ipynb',\n",
       " 'Day 07 literals.ipynb',\n",
       " 'Day 01 print-function.ipynb',\n",
       " 'Day 05 keyword-identifiers.ipynb',\n",
       " 'Day 02 data-types.ipynb',\n",
       " 'Day 16 builtin-functions.ipynb']"
      ]
     },
     "execution_count": 23,
     "metadata": {},
     "output_type": "execute_result"
    }
   ],
   "source": [
    "os.listdir()"
   ]
  }
 ],
 "metadata": {
  "kernelspec": {
   "display_name": "Python 3",
   "language": "python",
   "name": "python3"
  },
  "language_info": {
   "codemirror_mode": {
    "name": "ipython",
    "version": 3
   },
   "file_extension": ".py",
   "mimetype": "text/x-python",
   "name": "python",
   "nbconvert_exporter": "python",
   "pygments_lexer": "ipython3",
   "version": "3.11.6"
  }
 },
 "nbformat": 4,
 "nbformat_minor": 2
}
