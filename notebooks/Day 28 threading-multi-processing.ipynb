{
 "cells": [
  {
   "cell_type": "markdown",
   "metadata": {},
   "source": [
    "#### What is Threading ?"
   ]
  },
  {
   "cell_type": "code",
   "execution_count": null,
   "metadata": {},
   "outputs": [],
   "source": [
    "+-------------------------------------+          +----------------------------------+\n",
    "|       Single-Threaded Process       |          |      Multi-Threaded Process      |\n",
    "|-------------------------------------|          |----------------------------------|\n",
    "|  +------------+                     |          |  +------------+  +------------+  |\n",
    "|  |  Thread 1  |                     |          |  |  Thread 1  |  |  Thread 2  |  |\n",
    "|  +------------+                     |          |  +------------+  +------------+  |\n",
    "|  |  Task 1    |                     |          |  |  Task A    |  |  Task C    |  |\n",
    "|  |  Task 2    |                     |          |  |  Task B    |  |  Task D    |  |\n",
    "|  |  Task 3    |                     |          |  +------------+  +------------+  |\n",
    "|  +------------+                     |          |  +------------+  +------------+  |\n",
    "+-------------------------------------+          |  |  Thread 3  |  |  Thread 4  |  |\n",
    "                                                 |  +------------+  +------------+  |\n",
    "                                                 |  |  Task E    |  |  Task G    |  |\n",
    "                                                 |  |  Task F    |  |  Task H    |  |\n",
    "                                                 |  +------------+  +------------+  |\n",
    "                                                 +----------------------------------+\n"
   ]
  },
  {
   "cell_type": "markdown",
   "metadata": {},
   "source": [
    "Single Thread : Default,main thread executes code sequentially\n",
    "\n",
    "Multithreading : Needed for concurrent/simultaneous code execution"
   ]
  },
  {
   "cell_type": "markdown",
   "metadata": {},
   "source": [
    "#### What is a thread ?\n",
    "\n",
    "* Threads are basic CPU units\n",
    "* Single process contains multiple threads\n",
    "* Threads share code,data,files\n",
    "* Each thread has its own registers,separate stack"
   ]
  },
  {
   "cell_type": "markdown",
   "metadata": {},
   "source": [
    "#### Why or When Threading ?\n",
    "\n",
    "App-Screen persistence\n",
    "\n",
    "1. Static Image Display:\n",
    "\n",
    "- Main thread\n",
    "while(True):\n",
    "    displayScreen()\n",
    "\n",
    "Shows fleeting images,appears like the app is running but isnt\n",
    "\n",
    "2. Heavy Operation + Display\n",
    "\n",
    "- Main Thread\n",
    "while(True):\n",
    "    - Heavy operation\n",
    "    displayScreen()\n",
    "\n",
    "Results in flicker,heavy op delays screen display\n",
    "\n",
    "3. Network call + Display\n",
    "\n",
    "- Main Thread\n",
    "Image = None\n",
    "\n",
    "def startAnotherThread():\n",
    "    while(True):\n",
    "        Image = request(ImageUrl)\n",
    "\n",
    "while(True):\n",
    "    displayScreen(Image)\n",
    "\n",
    "startAnotherThread() fetches images concurrently;displayScreen() shows available images."
   ]
  },
  {
   "cell_type": "code",
   "execution_count": null,
   "metadata": {},
   "outputs": [],
   "source": []
  }
 ],
 "metadata": {
  "kernelspec": {
   "display_name": "Python 3",
   "language": "python",
   "name": "python3"
  },
  "language_info": {
   "name": "python",
   "version": "3.11.6"
  }
 },
 "nbformat": 4,
 "nbformat_minor": 2
}
