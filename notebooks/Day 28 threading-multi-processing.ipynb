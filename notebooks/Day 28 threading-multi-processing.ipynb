{
 "cells": [
  {
   "cell_type": "markdown",
   "metadata": {},
   "source": [
    "#### What is Threading ?"
   ]
  },
  {
   "cell_type": "code",
   "execution_count": null,
   "metadata": {},
   "outputs": [],
   "source": [
    "+-------------------------------------+          +----------------------------------+\n",
    "|       Single-Threaded Process       |          |      Multi-Threaded Process      |\n",
    "|-------------------------------------|          |----------------------------------|\n",
    "|  +------------+                     |          |  +------------+  +------------+  |\n",
    "|  |  Thread 1  |                     |          |  |  Thread 1  |  |  Thread 2  |  |\n",
    "|  +------------+                     |          |  +------------+  +------------+  |\n",
    "|  |  Task 1    |                     |          |  |  Task A    |  |  Task C    |  |\n",
    "|  |  Task 2    |                     |          |  |  Task B    |  |  Task D    |  |\n",
    "|  |  Task 3    |                     |          |  +------------+  +------------+  |\n",
    "|  +------------+                     |          |  +------------+  +------------+  |\n",
    "+-------------------------------------+          |  |  Thread 3  |  |  Thread 4  |  |\n",
    "                                                 |  +------------+  +------------+  |\n",
    "                                                 |  |  Task E    |  |  Task G    |  |\n",
    "                                                 |  |  Task F    |  |  Task H    |  |\n",
    "                                                 |  +------------+  +------------+  |\n",
    "                                                 +----------------------------------+\n"
   ]
  },
  {
   "cell_type": "markdown",
   "metadata": {},
   "source": [
    "Single Thread : Default,main thread executes code sequentially\n",
    "\n",
    "Multithreading : Needed for concurrent/simultaneous code execution"
   ]
  },
  {
   "cell_type": "markdown",
   "metadata": {},
   "source": [
    "#### What is a thread ?\n",
    "\n",
    "* Threads are basic CPU units\n",
    "* Single process contains multiple threads\n",
    "* Threads share code,data,files\n",
    "* Each thread has its own registers,separate stack"
   ]
  },
  {
   "cell_type": "markdown",
   "metadata": {},
   "source": [
    "#### Why or When Threading ?\n",
    "\n",
    "App-Screen persistence\n",
    "\n",
    "1. Static Image Display:\n",
    "\n",
    "- Main thread\n",
    "while(True):\n",
    "    displayScreen()\n",
    "\n",
    "Shows fleeting images,appears like the app is running but isnt\n",
    "\n",
    "2. Heavy Operation + Display\n",
    "\n",
    "- Main Thread\n",
    "while(True):\n",
    "    - Heavy operation\n",
    "    displayScreen()\n",
    "\n",
    "Results in flicker,heavy op delays screen display\n",
    "\n",
    "3. Network call + Display\n",
    "\n",
    "- Main Thread\n",
    "Image = None\n",
    "\n",
    "def startAnotherThread():\n",
    "    while(True):\n",
    "        Image = request(ImageUrl)\n",
    "\n",
    "while(True):\n",
    "    displayScreen(Image)\n",
    "\n",
    "startAnotherThread() fetches images concurrently;displayScreen() shows available images."
   ]
  },
  {
   "cell_type": "code",
   "execution_count": 1,
   "metadata": {},
   "outputs": [],
   "source": [
    "# another example --> multithreading in servers is used to handle multiple requests\n",
    "#                   mechanism involves diff threads for each request"
   ]
  },
  {
   "cell_type": "markdown",
   "metadata": {},
   "source": [
    "#### How threads are handled by OS ?\n",
    "\n",
    "Threads running concurrently a 'False Statement' .Threads are not truly running concurrently\n",
    "\n",
    "Reality : Limited by single-core CPU's;Concurrent does not means Parallel"
   ]
  },
  {
   "cell_type": "code",
   "execution_count": null,
   "metadata": {},
   "outputs": [],
   "source": [
    "                Web Server                         Thread\n",
    "+-----------------------------------------+          ^           +--------------------------------+\n",
    "|       +-------------------------+       |          |  t3 ----> | Running  | Sleeping | Running  |\n",
    "|       |     Request Handler     |       |          |           +--------------------------------+\n",
    "|       +-------------------------+       |          |           +--------------------------------+\n",
    "|  +---------+  +---------+  +---------+  |          |  t2 ----> | Sleeping | Running  | Sleeping |\n",
    "|  | Client1 |  | Client2 |  | Client3 |  |          |           +--------------------------------+\n",
    "|  +---------+  +---------+  +---------+  |          |           +--------------------------------+\n",
    "+-----------------------------------------+          |  t1 ----> | Running  | Running  | Sleeping |\n",
    "                                                     |           +--------------------------------+  \n",
    "                                                     +-----------------------------------------------> Time\n"
   ]
  },
  {
   "cell_type": "markdown",
   "metadata": {},
   "source": [
    "3 threads\n",
    "\n",
    "CPU switches between them\n",
    "\n",
    "Only 1 thead executes at a time\n",
    "\n",
    "Effect : concurrency\n",
    "\n",
    "#### Implementation"
   ]
  },
  {
   "cell_type": "code",
   "execution_count": 3,
   "metadata": {},
   "outputs": [
    {
     "name": "stdout",
     "output_type": "stream",
     "text": [
      "Sleeping...0Sleeping...1\n",
      "\n",
      "Sleeping...2\n",
      "Sleeping...3\n",
      "Sleeping...4\n",
      "Sleeping...5\n",
      "Sleeping...6\n",
      "Sleeping...7\n",
      "Sleeping...8\n",
      "Sleeping...9\n",
      "Woke up...6Woke up...2\n",
      "\n",
      "Woke up...1\n",
      "Woke up...0\n",
      "Woke up...5\n",
      "Woke up...3\n",
      "Woke up...7\n",
      "Woke up...4\n",
      "Woke up...9\n",
      "Woke up...8\n",
      "Main Thread Duration: 1.0074281692504883 sec\n"
     ]
    }
   ],
   "source": [
    "from time import sleep,time\n",
    "import threading\n",
    "\n",
    "start = time()\n",
    "\n",
    "def task(id):\n",
    "    print(f'Sleeping...{id}')\n",
    "    sleep(1)\n",
    "    print(f'Woke up...{id}')\n",
    "\n",
    "threads = [threading.Thread(target = task,args=[i]) for i in range(10)]\n",
    "for t in threads:\n",
    "    t.start()\n",
    "\n",
    "for t in threads:\n",
    "    t.join()\n",
    "\n",
    "end = time()\n",
    "print(f'Main Thread Duration: {end - start} sec')"
   ]
  },
  {
   "cell_type": "markdown",
   "metadata": {},
   "source": [
    "#### Thread Synchronization"
   ]
  },
  {
   "cell_type": "code",
   "execution_count": 4,
   "metadata": {},
   "outputs": [
    {
     "name": "stdout",
     "output_type": "stream",
     "text": [
      "200\n"
     ]
    }
   ],
   "source": [
    "import threading\n",
    "balance = 200\n",
    "lock = threading.Lock()\n",
    "\n",
    "def deposit(amount,times,lock):\n",
    "    global balance\n",
    "    for _ in range(times):\n",
    "        lock.acquire()\n",
    "        balance += amount\n",
    "        lock.release()\n",
    "\n",
    "def withdraw(amount,times,lock):\n",
    "    global balance\n",
    "    for _ in range(times):\n",
    "        lock.acquire()\n",
    "        balance -= amount\n",
    "        lock.release()\n",
    "\n",
    "deposit_thread = threading.Thread(target = deposit,args=[1,100000,lock])\n",
    "withdraw_thread = threading.Thread(target=withdraw,args=[1,100000,lock])\n",
    "\n",
    "deposit_thread.start()\n",
    "withdraw_thread.start()\n",
    "deposit_thread.join()\n",
    "withdraw_thread.join()\n",
    "\n",
    "print(balance)"
   ]
  }
 ],
 "metadata": {
  "kernelspec": {
   "display_name": "Python 3",
   "language": "python",
   "name": "python3"
  },
  "language_info": {
   "codemirror_mode": {
    "name": "ipython",
    "version": 3
   },
   "file_extension": ".py",
   "mimetype": "text/x-python",
   "name": "python",
   "nbconvert_exporter": "python",
   "pygments_lexer": "ipython3",
   "version": "3.11.6"
  }
 },
 "nbformat": 4,
 "nbformat_minor": 2
}
