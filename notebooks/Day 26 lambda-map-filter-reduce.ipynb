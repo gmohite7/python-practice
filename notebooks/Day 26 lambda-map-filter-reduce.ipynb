{
 "cells": [
  {
   "cell_type": "markdown",
   "metadata": {},
   "source": [
    "#### Lambda Functions\n",
    "\n",
    "Anonymous functions\n",
    "\n",
    "- Single expression limit\n",
    "\n",
    "- Syntax : lambda args:expr\n",
    "\n",
    "- Example landa a,b:a+b"
   ]
  },
  {
   "cell_type": "code",
   "execution_count": 1,
   "metadata": {},
   "outputs": [
    {
     "data": {
      "text/plain": [
       "81"
      ]
     },
     "execution_count": 1,
     "metadata": {},
     "output_type": "execute_result"
    }
   ],
   "source": [
    "x = lambda x:x**2\n",
    "\n",
    "x(9)"
   ]
  },
  {
   "cell_type": "code",
   "execution_count": 2,
   "metadata": {},
   "outputs": [
    {
     "data": {
      "text/plain": [
       "5"
      ]
     },
     "execution_count": 2,
     "metadata": {},
     "output_type": "execute_result"
    }
   ],
   "source": [
    "a = lambda x,y:x + y\n",
    "\n",
    "a(2,3)\n"
   ]
  },
  {
   "cell_type": "code",
   "execution_count": 3,
   "metadata": {},
   "outputs": [
    {
     "data": {
      "text/plain": [
       "function"
      ]
     },
     "execution_count": 3,
     "metadata": {},
     "output_type": "execute_result"
    }
   ],
   "source": [
    "type(a)"
   ]
  },
  {
   "cell_type": "markdown",
   "metadata": {},
   "source": [
    "#### Lambda Function vs Normal Function\n",
    "\n",
    "#### Lambda Function\n",
    "\n",
    "* No return value\n",
    "* Written in single line\n",
    "* Not used for code reusability\n",
    "* Anonymous/No name\n",
    "\n",
    "#### Normal function\n",
    "\n",
    "* Has a return value\n",
    "* Multi line\n",
    "* Encouraged code reusability via named functions"
   ]
  },
  {
   "cell_type": "code",
   "execution_count": 4,
   "metadata": {},
   "outputs": [],
   "source": [
    "# why\n",
    "\n",
    "# Lambda functions are anonymous functions --> lambda args:expr\n",
    "# ideal for Higher order functions,offers concise function writing without naming."
   ]
  },
  {
   "cell_type": "code",
   "execution_count": 5,
   "metadata": {},
   "outputs": [],
   "source": [
    "# Higher order Functions\n",
    "\n",
    "# Functions that take/return other functions\n",
    "# Useful for abstraction,Code reuse\n",
    "\n",
    "# Enhances code modularity,readability\n",
    "# Encourages functional programming\n",
    "\n",
    "# Can lead to coomplexity and Performance overhead(if reused)."
   ]
  },
  {
   "cell_type": "code",
   "execution_count": 6,
   "metadata": {},
   "outputs": [
    {
     "data": {
      "text/plain": [
       "True"
      ]
     },
     "execution_count": 6,
     "metadata": {},
     "output_type": "execute_result"
    }
   ],
   "source": [
    "b = lambda x:x[0] == 'a'\n",
    "b('apple')"
   ]
  },
  {
   "cell_type": "code",
   "execution_count": 7,
   "metadata": {},
   "outputs": [
    {
     "data": {
      "text/plain": [
       "False"
      ]
     },
     "execution_count": 7,
     "metadata": {},
     "output_type": "execute_result"
    }
   ],
   "source": [
    "b('banana')"
   ]
  },
  {
   "cell_type": "code",
   "execution_count": 8,
   "metadata": {},
   "outputs": [
    {
     "data": {
      "text/plain": [
       "'Odd'"
      ]
     },
     "execution_count": 8,
     "metadata": {},
     "output_type": "execute_result"
    }
   ],
   "source": [
    "b = lambda x:'Even' if x%2 == 0 else 'Odd'\n",
    "b(3)"
   ]
  },
  {
   "cell_type": "code",
   "execution_count": 9,
   "metadata": {},
   "outputs": [
    {
     "data": {
      "text/plain": [
       "'Even'"
      ]
     },
     "execution_count": 9,
     "metadata": {},
     "output_type": "execute_result"
    }
   ],
   "source": [
    "b(2)"
   ]
  },
  {
   "cell_type": "markdown",
   "metadata": {},
   "source": [
    "#### Higher Order Function (HOF)"
   ]
  },
  {
   "cell_type": "code",
   "execution_count": 10,
   "metadata": {},
   "outputs": [
    {
     "name": "stdout",
     "output_type": "stream",
     "text": [
      "(206, 195, 240)\n"
     ]
    }
   ],
   "source": [
    "L = [11,14,27,21,23,56,78,39,45,29,28,30]\n",
    "\n",
    "# Even Sum\n",
    "# Odd Sum\n",
    "# Div3 Sum\n",
    "\n",
    "def return_sum(L):\n",
    "    even_sum = 0\n",
    "    odd_sum = 0\n",
    "    div3_sum = 0\n",
    "    for i in L:\n",
    "        if i%2 == 0:\n",
    "            even_sum = even_sum + i\n",
    "    for i in L:\n",
    "        if i%2 != 0:\n",
    "            odd_sum = odd_sum + i\n",
    "    for i in L:\n",
    "        if i%3 == 0:\n",
    "            div3_sum = div3_sum + i\n",
    "    return(even_sum,odd_sum,div3_sum)\n",
    "\n",
    "print(return_sum(L))\n"
   ]
  },
  {
   "cell_type": "code",
   "execution_count": 11,
   "metadata": {},
   "outputs": [
    {
     "name": "stdout",
     "output_type": "stream",
     "text": [
      "206\n",
      "195\n",
      "240\n"
     ]
    }
   ],
   "source": [
    "L = [11,14,27,21,23,56,78,39,45,29,28,30]\n",
    "def return_sum(func,L):\n",
    "    result = 0\n",
    "    for i in L:\n",
    "        if func(i):\n",
    "            result = result + i\n",
    "    return result\n",
    "\n",
    "x = lambda x:x%2 == 0 # Even Sum\n",
    "y = lambda x:x%2 != 0 # Odd Sum\n",
    "z = lambda x:x%3 == 0 # Div3 Sum\n",
    "\n",
    "print(return_sum(x,L))\n",
    "print(return_sum(y,L))\n",
    "print(return_sum(z,L))"
   ]
  },
  {
   "cell_type": "markdown",
   "metadata": {},
   "source": [
    "Higher order functions (HOF) accepts input + define operations of function"
   ]
  },
  {
   "cell_type": "markdown",
   "metadata": {},
   "source": [
    "#### Higher Order Functions\n",
    "\n",
    "1. Map\n",
    "2. Filter\n",
    "3. Reduce\n",
    "\n",
    "#### 1. Map\n",
    "\n",
    "Applies a function to each item in iterable\n",
    "\n",
    "Syntax:\n",
    "\n",
    "map(function,iterable)\n",
    "\n",
    "Returns an iterator of results"
   ]
  },
  {
   "cell_type": "code",
   "execution_count": 12,
   "metadata": {},
   "outputs": [
    {
     "data": {
      "text/plain": [
       "[1, 2, 3, 4, 5, 6, 7]"
      ]
     },
     "execution_count": 12,
     "metadata": {},
     "output_type": "execute_result"
    }
   ],
   "source": [
    "L = [1,2,3,4,5,6,7]\n",
    "L"
   ]
  },
  {
   "cell_type": "code",
   "execution_count": 13,
   "metadata": {},
   "outputs": [
    {
     "data": {
      "text/plain": [
       "<map at 0x1078eac50>"
      ]
     },
     "execution_count": 13,
     "metadata": {},
     "output_type": "execute_result"
    }
   ],
   "source": [
    "map(lambda x:x*2,L)"
   ]
  },
  {
   "cell_type": "code",
   "execution_count": 14,
   "metadata": {},
   "outputs": [
    {
     "data": {
      "text/plain": [
       "[2, 4, 6, 8, 10, 12, 14]"
      ]
     },
     "execution_count": 14,
     "metadata": {},
     "output_type": "execute_result"
    }
   ],
   "source": [
    "list(map(lambda x:x * 2,L))"
   ]
  },
  {
   "cell_type": "code",
   "execution_count": 15,
   "metadata": {},
   "outputs": [
    {
     "data": {
      "text/plain": [
       "[False, True, False, True, False, True, False]"
      ]
     },
     "execution_count": 15,
     "metadata": {},
     "output_type": "execute_result"
    }
   ],
   "source": [
    "list(map(lambda x:x % 2 == 0,L))"
   ]
  },
  {
   "cell_type": "code",
   "execution_count": 16,
   "metadata": {},
   "outputs": [
    {
     "data": {
      "text/plain": [
       "['Jacob Martin', 'Angela Stevens', 'Ricky Smartn']"
      ]
     },
     "execution_count": 16,
     "metadata": {},
     "output_type": "execute_result"
    }
   ],
   "source": [
    "students = [\n",
    "    {\n",
    "        'name':'Jacob Martin',\n",
    "        'Father name':'Ros Martin',\n",
    "        'Address':'123 Hills Street',\n",
    "    },{\n",
    "        'name':'Angela Stevens',\n",
    "        'Father name':'Robert Stevens',\n",
    "        'Address':'3 Upper street London',\n",
    "    },{\n",
    "        'name':'Ricky Smartn',\n",
    "        'Father name':'William Smart',\n",
    "        'Address':'Unknown',\n",
    "    }\n",
    "]\n",
    "\n",
    "list(map(lambda student: student['name'],students))"
   ]
  },
  {
   "cell_type": "markdown",
   "metadata": {},
   "source": [
    "#### 2. Filter\n",
    "\n",
    "Applies a function to sequence.\n",
    "\n",
    "Syntax :\n",
    "filter(function,sequence)\n",
    "Returns elements where function is True."
   ]
  },
  {
   "cell_type": "code",
   "execution_count": 17,
   "metadata": {},
   "outputs": [
    {
     "data": {
      "text/plain": [
       "[1, 2, 3, 4, 5, 6, 7]"
      ]
     },
     "execution_count": 17,
     "metadata": {},
     "output_type": "execute_result"
    }
   ],
   "source": [
    "L"
   ]
  },
  {
   "cell_type": "code",
   "execution_count": 18,
   "metadata": {},
   "outputs": [
    {
     "data": {
      "text/plain": [
       "[5, 6, 7]"
      ]
     },
     "execution_count": 18,
     "metadata": {},
     "output_type": "execute_result"
    }
   ],
   "source": [
    "list(filter(lambda x:x>4,L))"
   ]
  },
  {
   "cell_type": "code",
   "execution_count": 19,
   "metadata": {},
   "outputs": [
    {
     "data": {
      "text/plain": [
       "['Apple', 'Orange']"
      ]
     },
     "execution_count": 19,
     "metadata": {},
     "output_type": "execute_result"
    }
   ],
   "source": [
    "fruits = ['Apple','Orange','Mango','Guava']\n",
    "list(filter(lambda fruit:'e' in fruit,fruits))"
   ]
  },
  {
   "cell_type": "markdown",
   "metadata": {},
   "source": [
    "#### 3. Reduce\n",
    "\n",
    "Reduces an iterable to a single value\n",
    "\n",
    "syntax:\n",
    "\n",
    "from functools import reduce\n",
    "reduce(function,iterable)\n",
    "\n",
    "- Operates on pairs of elements until a single value remains\n",
    "\n",
    "- Useful for culumative Operations(e.g sum,product)"
   ]
  },
  {
   "cell_type": "code",
   "execution_count": 20,
   "metadata": {},
   "outputs": [],
   "source": [
    "import functools"
   ]
  },
  {
   "cell_type": "code",
   "execution_count": 21,
   "metadata": {},
   "outputs": [
    {
     "data": {
      "text/plain": [
       "[1, 2, 3, 4, 5, 6, 7]"
      ]
     },
     "execution_count": 21,
     "metadata": {},
     "output_type": "execute_result"
    }
   ],
   "source": [
    "L"
   ]
  },
  {
   "cell_type": "code",
   "execution_count": 23,
   "metadata": {},
   "outputs": [
    {
     "data": {
      "text/plain": [
       "28"
      ]
     },
     "execution_count": 23,
     "metadata": {},
     "output_type": "execute_result"
    }
   ],
   "source": [
    "functools.reduce(lambda x,y:x+y,L)"
   ]
  },
  {
   "cell_type": "code",
   "execution_count": 24,
   "metadata": {},
   "outputs": [
    {
     "data": {
      "text/plain": [
       "[12, 34, 56, 11, 21, 58]"
      ]
     },
     "execution_count": 24,
     "metadata": {},
     "output_type": "execute_result"
    }
   ],
   "source": [
    "L1 = [12,34,56,11,21,58]\n",
    "L1"
   ]
  },
  {
   "cell_type": "code",
   "execution_count": 26,
   "metadata": {},
   "outputs": [
    {
     "data": {
      "text/plain": [
       "58"
      ]
     },
     "execution_count": 26,
     "metadata": {},
     "output_type": "execute_result"
    }
   ],
   "source": [
    "functools.reduce(lambda x,y:x if x>y else y,L1)"
   ]
  },
  {
   "cell_type": "code",
   "execution_count": 29,
   "metadata": {},
   "outputs": [
    {
     "data": {
      "text/plain": [
       "11"
      ]
     },
     "execution_count": 29,
     "metadata": {},
     "output_type": "execute_result"
    }
   ],
   "source": [
    "functools.reduce(lambda x,y : x if x<y else y,L1)"
   ]
  }
 ],
 "metadata": {
  "kernelspec": {
   "display_name": "Python 3",
   "language": "python",
   "name": "python3"
  },
  "language_info": {
   "codemirror_mode": {
    "name": "ipython",
    "version": 3
   },
   "file_extension": ".py",
   "mimetype": "text/x-python",
   "name": "python",
   "nbconvert_exporter": "python",
   "pygments_lexer": "ipython3",
   "version": "3.11.6"
  }
 },
 "nbformat": 4,
 "nbformat_minor": 2
}
