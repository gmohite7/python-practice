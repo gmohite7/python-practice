{
 "cells": [
  {
   "cell_type": "code",
   "execution_count": null,
   "metadata": {},
   "outputs": [],
   "source": [
    "# In other languages\n",
    "if (name == 'xyz') {\n",
    "    something;\n",
    "    something;\n",
    "} else {\n",
    "    something else;\n",
    "    something else;\n",
    "}"
   ]
  },
  {
   "cell_type": "code",
   "execution_count": 1,
   "metadata": {},
   "outputs": [
    {
     "name": "stdout",
     "output_type": "stream",
     "text": [
      "line1\n",
      "line2\n",
      "line5\n"
     ]
    }
   ],
   "source": [
    "# In Python\n",
    "name = 'xyz'\n",
    "if name == 'xyz':\n",
    "    print('line1')\n",
    "    print('line2')\n",
    "    if 5 == 5:\n",
    "        print('line5')\n",
    "else:\n",
    "    print('line3')"
   ]
  }
 ],
 "metadata": {
  "kernelspec": {
   "display_name": "Python 3",
   "language": "python",
   "name": "python3"
  },
  "language_info": {
   "codemirror_mode": {
    "name": "ipython",
    "version": 3
   },
   "file_extension": ".py",
   "mimetype": "text/x-python",
   "name": "python",
   "nbconvert_exporter": "python",
   "pygments_lexer": "ipython3",
   "version": "3.11.6"
  }
 },
 "nbformat": 4,
 "nbformat_minor": 2
}
