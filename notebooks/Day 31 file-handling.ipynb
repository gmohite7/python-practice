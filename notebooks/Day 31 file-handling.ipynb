{
 "cells": [
  {
   "cell_type": "markdown",
   "metadata": {},
   "source": [
    "#### File I/O Basics\n",
    "\n",
    "Data Types :\n",
    "\n",
    "1. Text : Unicode chars (e.g '12345' in UTF-8/ASCII)\n",
    "\n",
    "2. Binary : Raw Bytes (e.g number : 12345)\n",
    "\n",
    "File Types :\n",
    "\n",
    "1. Text Files : Human readable (e.g source code,config files)\n",
    "\n",
    "2. Binary Files : Non readable (e.g images,multi media)\n",
    "\n",
    "Process :\n",
    "\n",
    "1. Open : Connects program to a file\n",
    "2. Read/Write : Handles data based on the type\n",
    "3. Close : Completes Operation ,frees resources\n",
    "\n"
   ]
  },
  {
   "cell_type": "code",
   "execution_count": null,
   "metadata": {},
   "outputs": [],
   "source": [
    "Writing to a File --> '.txt' extension (notepad)"
   ]
  },
  {
   "cell_type": "code",
   "execution_count": 1,
   "metadata": {},
   "outputs": [],
   "source": [
    "# Case 1 file not present\n",
    "f = open('sample.txt','w')\n",
    "f.write('Hello world')\n",
    "f.close()\n",
    "\n",
    "# Creates file in the current directory"
   ]
  },
  {
   "cell_type": "code",
   "execution_count": 2,
   "metadata": {},
   "outputs": [
    {
     "ename": "ValueError",
     "evalue": "I/O operation on closed file.",
     "output_type": "error",
     "traceback": [
      "\u001b[0;31m---------------------------------------------------------------------------\u001b[0m",
      "\u001b[0;31mValueError\u001b[0m                                Traceback (most recent call last)",
      "Cell \u001b[0;32mIn[2], line 2\u001b[0m\n\u001b[1;32m      1\u001b[0m \u001b[38;5;66;03m# Error file closed\u001b[39;00m\n\u001b[0;32m----> 2\u001b[0m \u001b[43mf\u001b[49m\u001b[38;5;241;43m.\u001b[39;49m\u001b[43mwrite\u001b[49m\u001b[43m(\u001b[49m\u001b[38;5;124;43m'\u001b[39;49m\u001b[38;5;124;43mHello\u001b[39;49m\u001b[38;5;124;43m'\u001b[39;49m\u001b[43m)\u001b[49m\n",
      "\u001b[0;31mValueError\u001b[0m: I/O operation on closed file."
     ]
    }
   ],
   "source": [
    "# Error file closed\n",
    "f.write('Hello')"
   ]
  },
  {
   "cell_type": "code",
   "execution_count": 3,
   "metadata": {},
   "outputs": [],
   "source": [
    "# write multiline strings to a file\n",
    "\n",
    "f = open('sample1.txt','w')\n",
    "f.write('Hello world')\n",
    "f.write('\\n how are you?')\n",
    "f.close()"
   ]
  },
  {
   "cell_type": "code",
   "execution_count": 4,
   "metadata": {},
   "outputs": [],
   "source": [
    "# Case 2 file overwrite in write mode\n",
    "\n",
    "f = open('sample.txt','w')\n",
    "f.write('salman khan')\n",
    "f.close()\n",
    "\n",
    "# Note : Opening in w mode replaces all existing content in sample.txt"
   ]
  },
  {
   "cell_type": "markdown",
   "metadata": {},
   "source": [
    "#### How open() works in Python\n",
    "\n",
    "Handles file I/O;interacts with disk files\n",
    "\n",
    "Example : f = open('sample.txt','w') : Opens sample.txt in write mode\n",
    "\n",
    "File Access & RAM interaction : File loaded from disk (ROM) to RAM buffer\n",
    "\n",
    "File Operation and Modes : Modes (e.g 'w' for write) determine file interactions (f.write('Salman') writes to RAM)\n",
    "\n",
    "Data integrity : f.close() saves buffer changes back to disk"
   ]
  },
  {
   "cell_type": "code",
   "execution_count": null,
   "metadata": {},
   "outputs": [],
   "source": [
    "'open()' --> File in RAM\n",
    "\n",
    "'write()' --> Modify RAM buffer\n",
    "\n",
    "'close()' --> Save to disk"
   ]
  },
  {
   "cell_type": "markdown",
   "metadata": {},
   "source": [
    "Source : Python Documentation"
   ]
  },
  {
   "cell_type": "code",
   "execution_count": 5,
   "metadata": {},
   "outputs": [],
   "source": [
    "# Problem with 'w' mode : Overwrite file content\n",
    "# To preserve existing content ,use 'a' append mode\n",
    "\n",
    "f = open('sample1.txt','a')\n",
    "f.write('\\n I am fine')\n",
    "f.close()"
   ]
  },
  {
   "cell_type": "code",
   "execution_count": 7,
   "metadata": {},
   "outputs": [],
   "source": [
    "# Write multiple lines to a File\n",
    "\n",
    "L = ['hello\\n','hi\\n','how are you\\n','I am fine']\n",
    "\n",
    "f = open('sample.txt','w')\n",
    "f.writelines(L) # Efficiently writes multiple lines of text.\n",
    "f.close()\n"
   ]
  },
  {
   "cell_type": "markdown",
   "metadata": {},
   "source": [
    "When you use f.close() to close a file,it serves 2 main purpose\n",
    "\n",
    "1. Memory management :\n",
    "\n",
    "- Release RAM resources\n",
    "- Crucial for large/multiple files\n",
    "\n",
    "2. Security :\n",
    "\n",
    "- Closes file buffers\n",
    "- Prevents unauthorized access\n",
    "\n",
    "Always use f.close() after file operations,manages memory and security\n",
    "\n",
    "#### Reading from files\n",
    "\n",
    "1. read() : Reads all contents of a file in a single string.Efficient for small files\n",
    "Pros : simple Cons : Memory heavy for large files\n",
    "\n",
    "2. readLine() : Reads one line at a time.Good for large files and sequential processing\n",
    "Pros : Memory efficient Cons : Slower for full content access"
   ]
  },
  {
   "cell_type": "code",
   "execution_count": 8,
   "metadata": {},
   "outputs": [
    {
     "name": "stdout",
     "output_type": "stream",
     "text": [
      "hello\n",
      "hi\n",
      "how are you\n",
      "I am fine\n"
     ]
    }
   ],
   "source": [
    "# read() usage\n",
    "\n",
    "f = open('sample.txt','r')\n",
    "s = f.read()\n",
    "print(s)\n",
    "f.close()\n",
    "\n",
    "# Note : File I/O handles as a string\n",
    "# txt file processes data as a text only,no other formats"
   ]
  },
  {
   "cell_type": "code",
   "execution_count": 9,
   "metadata": {},
   "outputs": [
    {
     "name": "stdout",
     "output_type": "stream",
     "text": [
      "hello\n",
      "hi\n",
      "h\n"
     ]
    }
   ],
   "source": [
    "# read upto n chars\n",
    "f = open('sample.txt','r')\n",
    "s = f.read(10)\n",
    "print(s)\n",
    "f.close()"
   ]
  },
  {
   "cell_type": "code",
   "execution_count": 11,
   "metadata": {},
   "outputs": [
    {
     "name": "stdout",
     "output_type": "stream",
     "text": [
      "hello\n",
      "hi\n"
     ]
    }
   ],
   "source": [
    "# using readLine()\n",
    "f = open('sample.txt','r')\n",
    "print(f.readline(),end='') # Avoid auto new line\n",
    "print(f.readline(),end='')\n",
    "f.close()"
   ]
  },
  {
   "cell_type": "code",
   "execution_count": null,
   "metadata": {},
   "outputs": [],
   "source": [
    "'read()' : Method\n",
    "\n",
    "smaller Files --> loads entire content\n",
    "\n",
    "Immediate access --> full data available\n",
    "\n",
    "Memory use --> risky for large files\n",
    "\n",
    "'readline()' : Method\n",
    "\n",
    "large files --> process line by line\n",
    "\n",
    "Memory-efficient --> avoids full file load\n",
    "\n",
    "Handles datasets --> prevents overflow"
   ]
  },
  {
   "cell_type": "code",
   "execution_count": 13,
   "metadata": {},
   "outputs": [
    {
     "name": "stdout",
     "output_type": "stream",
     "text": [
      "hello\n",
      "hi\n",
      "how are you\n",
      "I am fine"
     ]
    }
   ],
   "source": [
    "# Counts lines in file efficiently --> Avoid readline() per line;use custom code for efficiency\n",
    "\n",
    "f = open('sample.txt','r')\n",
    "while True:\n",
    "    data = f.readline()\n",
    "    if data == '':\n",
    "        break\n",
    "    else:\n",
    "        print(data,end='')\n",
    "f.close()"
   ]
  },
  {
   "cell_type": "markdown",
   "metadata": {},
   "source": [
    "#### ContextManager with()\n",
    "\n",
    "Efficient resource management(e.g files)\n",
    "\n",
    "with ensures auto cleanup,no manual file close needed\n",
    "\n",
    "Purpose of 'with' statement :\n",
    "\n",
    "1. File management : Handles file operations (read/write)\n",
    "\n",
    "2. Resource Release : Auto closes files,freeing system resources\n",
    "\n",
    "Avoids :\n",
    "\n",
    "1. Memory leaks : Manual closure prevents tasks\n",
    "\n",
    "2. File locking : Prevents locking issues\n",
    "\n",
    "Benefits :\n",
    "\n",
    "1. Automated cleanup : Ensures auto-closure of files\n",
    "2. Exception handling : Closes files if exception occurs\n",
    "3. Readability : Clarifies file access scopes\n",
    "4. Reliability : Reduces bugs,ensures robust resource management\n",
    "\n",
    "\n"
   ]
  },
  {
   "cell_type": "code",
   "execution_count": 14,
   "metadata": {},
   "outputs": [],
   "source": [
    "# with statement\n",
    "\n",
    "with open('sample1.txt','w') as f:\n",
    "    f.write('salman bhai')"
   ]
  },
  {
   "cell_type": "code",
   "execution_count": 15,
   "metadata": {},
   "outputs": [
    {
     "ename": "ValueError",
     "evalue": "I/O operation on closed file.",
     "output_type": "error",
     "traceback": [
      "\u001b[0;31m---------------------------------------------------------------------------\u001b[0m",
      "\u001b[0;31mValueError\u001b[0m                                Traceback (most recent call last)",
      "Cell \u001b[0;32mIn[15], line 1\u001b[0m\n\u001b[0;32m----> 1\u001b[0m \u001b[43mf\u001b[49m\u001b[38;5;241;43m.\u001b[39;49m\u001b[43mwrite\u001b[49m\u001b[43m(\u001b[49m\u001b[38;5;124;43m'\u001b[39;49m\u001b[38;5;124;43mhello\u001b[39;49m\u001b[38;5;124;43m'\u001b[39;49m\u001b[43m)\u001b[49m\n",
      "\u001b[0;31mValueError\u001b[0m: I/O operation on closed file."
     ]
    }
   ],
   "source": [
    "f.write('hello')"
   ]
  },
  {
   "cell_type": "code",
   "execution_count": 17,
   "metadata": {},
   "outputs": [
    {
     "name": "stdout",
     "output_type": "stream",
     "text": [
      "hello\n",
      "hi\n",
      "h\n",
      "ow are you\n",
      "\n",
      "I am fine\n",
      "\n"
     ]
    }
   ],
   "source": [
    "# f.readline()\n",
    "\n",
    "with open('sample.txt','r') as f:\n",
    "    print(f.read(10)) # First 10 chars\n",
    "    print(f.read(10)) # Next 10 chars\n",
    "    print(f.read(10)) # Next 10 chars\n",
    "    print(f.read(10)) # Next 10 chars\n",
    "    # Each print reads next 10 chars sequentially\n",
    "\n",
    "# Buffering tracks processed characters ;read() resumes the buffer"
   ]
  }
 ],
 "metadata": {
  "kernelspec": {
   "display_name": "Python 3",
   "language": "python",
   "name": "python3"
  },
  "language_info": {
   "codemirror_mode": {
    "name": "ipython",
    "version": 3
   },
   "file_extension": ".py",
   "mimetype": "text/x-python",
   "name": "python",
   "nbconvert_exporter": "python",
   "pygments_lexer": "ipython3",
   "version": "3.11.6"
  }
 },
 "nbformat": 4,
 "nbformat_minor": 2
}
