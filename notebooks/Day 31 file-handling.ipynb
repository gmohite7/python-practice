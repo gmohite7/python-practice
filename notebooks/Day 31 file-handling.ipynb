{
 "cells": [
  {
   "cell_type": "markdown",
   "metadata": {},
   "source": [
    "#### File I/O Basics\n",
    "\n",
    "Data Types :\n",
    "\n",
    "1. Text : Unicode chars (e.g '12345' in UTF-8/ASCII)\n",
    "\n",
    "2. Binary : Raw Bytes (e.g number : 12345)\n",
    "\n",
    "File Types :\n",
    "\n",
    "1. Text Files : Human readable (e.g source code,config files)\n",
    "\n",
    "2. Binary Files : Non readable (e.g images,multi media)\n",
    "\n",
    "Process :\n",
    "\n",
    "1. Open : Connects program to a file\n",
    "2. Read/Write : Handles data based on the type\n",
    "3. Close : Completes Operation ,frees resources\n",
    "\n"
   ]
  },
  {
   "cell_type": "code",
   "execution_count": null,
   "metadata": {},
   "outputs": [],
   "source": [
    "Writing to a File --> '.txt' extension (notepad)"
   ]
  },
  {
   "cell_type": "code",
   "execution_count": 1,
   "metadata": {},
   "outputs": [],
   "source": [
    "# Case 1 file not present\n",
    "f = open('sample.txt','w')\n",
    "f.write('Hello world')\n",
    "f.close()\n",
    "\n",
    "# Creates file in the current directory"
   ]
  },
  {
   "cell_type": "code",
   "execution_count": 2,
   "metadata": {},
   "outputs": [
    {
     "ename": "ValueError",
     "evalue": "I/O operation on closed file.",
     "output_type": "error",
     "traceback": [
      "\u001b[0;31m---------------------------------------------------------------------------\u001b[0m",
      "\u001b[0;31mValueError\u001b[0m                                Traceback (most recent call last)",
      "Cell \u001b[0;32mIn[2], line 2\u001b[0m\n\u001b[1;32m      1\u001b[0m \u001b[38;5;66;03m# Error file closed\u001b[39;00m\n\u001b[0;32m----> 2\u001b[0m \u001b[43mf\u001b[49m\u001b[38;5;241;43m.\u001b[39;49m\u001b[43mwrite\u001b[49m\u001b[43m(\u001b[49m\u001b[38;5;124;43m'\u001b[39;49m\u001b[38;5;124;43mHello\u001b[39;49m\u001b[38;5;124;43m'\u001b[39;49m\u001b[43m)\u001b[49m\n",
      "\u001b[0;31mValueError\u001b[0m: I/O operation on closed file."
     ]
    }
   ],
   "source": [
    "# Error file closed\n",
    "f.write('Hello')"
   ]
  },
  {
   "cell_type": "code",
   "execution_count": 3,
   "metadata": {},
   "outputs": [],
   "source": [
    "# write multiline strings to a file\n",
    "\n",
    "f = open('sample1.txt','w')\n",
    "f.write('Hello world')\n",
    "f.write('\\n how are you?')\n",
    "f.close()"
   ]
  },
  {
   "cell_type": "code",
   "execution_count": 4,
   "metadata": {},
   "outputs": [],
   "source": [
    "# Case 2 file overwrite in write mode\n",
    "\n",
    "f = open('sample.txt','w')\n",
    "f.write('salman khan')\n",
    "f.close()\n",
    "\n",
    "# Note : Opening in w mode replaces all existing content in sample.txt"
   ]
  },
  {
   "cell_type": "markdown",
   "metadata": {},
   "source": [
    "#### How open() works in Python\n",
    "\n",
    "Handles file I/O;interacts with disk files\n",
    "\n",
    "Example : f = open('sample.txt','w') : Opens sample.txt in write mode\n",
    "\n",
    "File Access & RAM interaction : File loaded from disk (ROM) to RAM buffer\n",
    "\n",
    "File Operation and Modes : Modes (e.g 'w' for write) determine file interactions (f.write('Salman') writes to RAM)\n",
    "\n",
    "Data integrity : f.close() saves buffer changes back to disk"
   ]
  },
  {
   "cell_type": "code",
   "execution_count": null,
   "metadata": {},
   "outputs": [],
   "source": [
    "'open()' --> File in RAM\n",
    "\n",
    "'write()' --> Modify RAM buffer\n",
    "\n",
    "'close()' --> Save to disk"
   ]
  },
  {
   "cell_type": "markdown",
   "metadata": {},
   "source": [
    "Source : Python Documentation"
   ]
  },
  {
   "cell_type": "code",
   "execution_count": 5,
   "metadata": {},
   "outputs": [],
   "source": [
    "# Problem with 'w' mode : Overwrite file content\n",
    "# To preserve existing content ,use 'a' append mode\n",
    "\n",
    "f = open('sample1.txt','a')\n",
    "f.write('\\n I am fine')\n",
    "f.close()"
   ]
  },
  {
   "cell_type": "code",
   "execution_count": 7,
   "metadata": {},
   "outputs": [],
   "source": [
    "# Write multiple lines to a File\n",
    "\n",
    "L = ['hello\\n','hi\\n','how are you\\n','I am fine']\n",
    "\n",
    "f = open('sample.txt','w')\n",
    "f.writelines(L) # Efficiently writes multiple lines of text.\n",
    "f.close()\n"
   ]
  },
  {
   "cell_type": "markdown",
   "metadata": {},
   "source": [
    "When you use f.close() to close a file,it serves 2 main purpose\n",
    "\n",
    "1. Memory management :\n",
    "\n",
    "- Release RAM resources\n",
    "- Crucial for large/multiple files\n",
    "\n",
    "2. Security :\n",
    "\n",
    "- Closes file buffers\n",
    "- Prevents unauthorized access\n",
    "\n",
    "Always use f.close() after file operations,manages memory and security\n",
    "\n",
    "#### Reading from files\n",
    "\n",
    "1. read() : Reads all contents of a file in a single string.Efficient for small files\n",
    "Pros : simple Cons : Memory heavy for large files\n",
    "\n",
    "2. readLine() : Reads one line at a time.Good for large files and sequential processing\n",
    "Pros : Memory efficient Cons : Slower for full content access"
   ]
  },
  {
   "cell_type": "code",
   "execution_count": 8,
   "metadata": {},
   "outputs": [
    {
     "name": "stdout",
     "output_type": "stream",
     "text": [
      "hello\n",
      "hi\n",
      "how are you\n",
      "I am fine\n"
     ]
    }
   ],
   "source": [
    "# read() usage\n",
    "\n",
    "f = open('sample.txt','r')\n",
    "s = f.read()\n",
    "print(s)\n",
    "f.close()\n",
    "\n",
    "# Note : File I/O handles as a string\n",
    "# txt file processes data as a text only,no other formats"
   ]
  },
  {
   "cell_type": "code",
   "execution_count": 9,
   "metadata": {},
   "outputs": [
    {
     "name": "stdout",
     "output_type": "stream",
     "text": [
      "hello\n",
      "hi\n",
      "h\n"
     ]
    }
   ],
   "source": [
    "# read upto n chars\n",
    "f = open('sample.txt','r')\n",
    "s = f.read(10)\n",
    "print(s)\n",
    "f.close()"
   ]
  },
  {
   "cell_type": "code",
   "execution_count": 11,
   "metadata": {},
   "outputs": [
    {
     "name": "stdout",
     "output_type": "stream",
     "text": [
      "hello\n",
      "hi\n"
     ]
    }
   ],
   "source": [
    "# using readLine()\n",
    "f = open('sample.txt','r')\n",
    "print(f.readline(),end='') # Avoid auto new line\n",
    "print(f.readline(),end='')\n",
    "f.close()"
   ]
  },
  {
   "cell_type": "code",
   "execution_count": null,
   "metadata": {},
   "outputs": [],
   "source": [
    "'read()' : Method\n",
    "\n",
    "smaller Files --> loads entire content\n",
    "\n",
    "Immediate access --> full data available\n",
    "\n",
    "Memory use --> risky for large files\n",
    "\n",
    "'readline()' : Method\n",
    "\n",
    "large files --> process line by line\n",
    "\n",
    "Memory-efficient --> avoids full file load\n",
    "\n",
    "Handles datasets --> prevents overflow"
   ]
  },
  {
   "cell_type": "code",
   "execution_count": 13,
   "metadata": {},
   "outputs": [
    {
     "name": "stdout",
     "output_type": "stream",
     "text": [
      "hello\n",
      "hi\n",
      "how are you\n",
      "I am fine"
     ]
    }
   ],
   "source": [
    "# Counts lines in file efficiently --> Avoid readline() per line;use custom code for efficiency\n",
    "\n",
    "f = open('sample.txt','r')\n",
    "while True:\n",
    "    data = f.readline()\n",
    "    if data == '':\n",
    "        break\n",
    "    else:\n",
    "        print(data,end='')\n",
    "f.close()"
   ]
  },
  {
   "cell_type": "markdown",
   "metadata": {},
   "source": [
    "#### ContextManager with()\n",
    "\n",
    "Efficient resource management(e.g files)\n",
    "\n",
    "with ensures auto cleanup,no manual file close needed\n",
    "\n",
    "Purpose of 'with' statement :\n",
    "\n",
    "1. File management : Handles file operations (read/write)\n",
    "\n",
    "2. Resource Release : Auto closes files,freeing system resources\n",
    "\n",
    "Avoids :\n",
    "\n",
    "1. Memory leaks : Manual closure prevents tasks\n",
    "\n",
    "2. File locking : Prevents locking issues\n",
    "\n",
    "Benefits :\n",
    "\n",
    "1. Automated cleanup : Ensures auto-closure of files\n",
    "2. Exception handling : Closes files if exception occurs\n",
    "3. Readability : Clarifies file access scopes\n",
    "4. Reliability : Reduces bugs,ensures robust resource management\n",
    "\n",
    "\n"
   ]
  },
  {
   "cell_type": "code",
   "execution_count": 14,
   "metadata": {},
   "outputs": [],
   "source": [
    "# with statement\n",
    "\n",
    "with open('sample1.txt','w') as f:\n",
    "    f.write('salman bhai')"
   ]
  },
  {
   "cell_type": "code",
   "execution_count": 15,
   "metadata": {},
   "outputs": [
    {
     "ename": "ValueError",
     "evalue": "I/O operation on closed file.",
     "output_type": "error",
     "traceback": [
      "\u001b[0;31m---------------------------------------------------------------------------\u001b[0m",
      "\u001b[0;31mValueError\u001b[0m                                Traceback (most recent call last)",
      "Cell \u001b[0;32mIn[15], line 1\u001b[0m\n\u001b[0;32m----> 1\u001b[0m \u001b[43mf\u001b[49m\u001b[38;5;241;43m.\u001b[39;49m\u001b[43mwrite\u001b[49m\u001b[43m(\u001b[49m\u001b[38;5;124;43m'\u001b[39;49m\u001b[38;5;124;43mhello\u001b[39;49m\u001b[38;5;124;43m'\u001b[39;49m\u001b[43m)\u001b[49m\n",
      "\u001b[0;31mValueError\u001b[0m: I/O operation on closed file."
     ]
    }
   ],
   "source": [
    "f.write('hello')"
   ]
  },
  {
   "cell_type": "code",
   "execution_count": 17,
   "metadata": {},
   "outputs": [
    {
     "name": "stdout",
     "output_type": "stream",
     "text": [
      "hello\n",
      "hi\n",
      "h\n",
      "ow are you\n",
      "\n",
      "I am fine\n",
      "\n"
     ]
    }
   ],
   "source": [
    "# f.readline()\n",
    "\n",
    "with open('sample.txt','r') as f:\n",
    "    print(f.read(10)) # First 10 chars\n",
    "    print(f.read(10)) # Next 10 chars\n",
    "    print(f.read(10)) # Next 10 chars\n",
    "    print(f.read(10)) # Next 10 chars\n",
    "    # Each print reads next 10 chars sequentially\n",
    "\n",
    "# Buffering tracks processed characters ;read() resumes the buffer"
   ]
  },
  {
   "cell_type": "markdown",
   "metadata": {},
   "source": [
    "#### File processing Strategy for large files\n",
    "\n",
    "Crucial for files --> RAM\n",
    "\n",
    "Chunk-based processing\n",
    "\n",
    "- process in chunks,not all at once. e.g 10 GB file,8 GB RAM --> 2000 chrs/chunk\n",
    "\n",
    "Advantages :\n",
    "\n",
    "1. Memory efficiency : RAM used for 1 chunk only\n",
    "2. Scalability : Handles files > RAM\n",
    "3. Performance : avoids system slowdowns"
   ]
  },
  {
   "cell_type": "code",
   "execution_count": 18,
   "metadata": {},
   "outputs": [],
   "source": [
    "# Purpose : save dataset to a file(avoid memory load)\n",
    "\n",
    "big_L = ['hello world' for i in  range(1,1000)]\n",
    "\n",
    "with open('big.txt','w') as f:\n",
    "    f.writelines(big_L)"
   ]
  },
  {
   "cell_type": "code",
   "execution_count": 19,
   "metadata": {},
   "outputs": [
    {
     "name": "stdout",
     "output_type": "stream",
     "text": [
      "dhello wor***orldhello ***o worldhel***ello world***ldhello wo***worldhello***lo worldhe***hello worl***rldhello w*** worldhell***llo worldh***dhello wor***orldhello ***o worldhel***ello world***ldhello wo***worldhello***lo worldhe***hello worl***rldhello w*** worldhell***llo worldh***dhello wor***orldhello ***o worldhel***ello world***ldhello wo***worldhello***lo worldhe***hello worl***rldhello w*** worldhell***llo worldh***dhello wor***orldhello ***o worldhel***ello world***ldhello wo***worldhello***lo worldhe***hello worl***rldhello w*** worldhell***llo worldh***dhello wor***orldhello ***o worldhel***ello world***ldhello wo***worldhello***lo worldhe***hello worl***rldhello w*** worldhell***llo worldh***dhello wor***orldhello ***o worldhel***ello world***ldhello wo***worldhello***lo worldhe***hello worl***rldhello w*** worldhell***llo worldh***dhello wor***orldhello ***o worldhel***ello world***ldhello wo***worldhello***lo worldhe***hello worl***rldhello w*** worldhell***llo worldh***dhello wor***orldhello ***o worldhel***ello world***ldhello wo***worldhello***lo worldhe***hello worl***rldhello w*** worldhell***llo worldh***dhello wor***orldhello ***o worldhel***ello world***ldhello wo***worldhello***lo worldhe***hello worl***rldhello w*** worldhell***llo worldh***dhello wor***orldhello ***o worldhel***ello world***ldhello wo***worldhello***lo worldhe***hello worl***rldhello w*** worldhell***llo worldh***dhello wor***orldhello ***o worldhel***ello world***ldhello wo***worldhello***lo worldhe***hello worl***rldhello w*** worldhell***llo worldh***dhello wor***orldhello ***o worldhel***ello world***ldhello wo***worldhello***lo worldhe***hello worl***rldhello w*** worldhell***llo worldh***dhello wor***orldhello ***o worldhel***ello world***ldhello wo***worldhello***lo worldhe***hello worl***rldhello w*** worldhell***llo worldh***dhello wor***orldhello ***o worldhel***ello world***ldhello wo***worldhello***lo worldhe***hello worl***rldhello w*** worldhell***llo worldh***dhello wor***orldhello ***o worldhel***ello world***ldhello wo***worldhello***lo worldhe***hello worl***rldhello w*** worldhell***llo worldh***dhello wor***orldhello ***o worldhel***ello world***ldhello wo***worldhello***lo worldhe***hello worl***rldhello w*** worldhell***llo worldh***dhello wor***orldhello ***o worldhel***ello world***ldhello wo***worldhello***lo worldhe***hello worl***rldhello w*** worldhell***llo worldh***dhello wor***orldhello ***o worldhel***ello world***ldhello wo***worldhello***lo worldhe***hello worl***rldhello w*** worldhell***llo worldh***dhello wor***orldhello ***o worldhel***ello world***ldhello wo***worldhello***lo worldhe***hello worl***rldhello w*** worldhell***llo worldh***dhello wor***orldhello ***o worldhel***ello world***ldhello wo***worldhello***lo worldhe***hello worl***rldhello w*** worldhell***llo worldh***dhello wor***orldhello ***o worldhel***ello world***ldhello wo***worldhello***lo worldhe***hello worl***rldhello w*** worldhell***llo worldh***dhello wor***orldhello ***o worldhel***ello world***ldhello wo***worldhello***lo worldhe***hello worl***rldhello w*** worldhell***llo worldh***dhello wor***orldhello ***o worldhel***ello world***ldhello wo***worldhello***lo worldhe***hello worl***rldhello w*** worldhell***llo worldh***dhello wor***orldhello ***o worldhel***ello world***ldhello wo***worldhello***lo worldhe***hello worl***rldhello w*** worldhell***llo worldh***dhello wor***orldhello ***o worldhel***ello world***ldhello wo***worldhello***lo worldhe***hello worl***rldhello w*** worldhell***llo worldh***dhello wor***orldhello ***o worldhel***ello world***ldhello wo***worldhello***lo worldhe***hello worl***rldhello w*** worldhell***llo worldh***dhello wor***orldhello ***o worldhel***ello world***ldhello wo***worldhello***lo worldhe***hello worl***rldhello w*** worldhell***llo worldh***dhello wor***orldhello ***o worldhel***ello world***ldhello wo***worldhello***lo worldhe***hello worl***rldhello w*** worldhell***llo worldh***dhello wor***orldhello ***o worldhel***ello world***ldhello wo***worldhello***lo worldhe***hello worl***rldhello w*** worldhell***llo worldh***dhello wor***orldhello ***o worldhel***ello world***ldhello wo***worldhello***lo worldhe***hello worl***rldhello w*** worldhell***llo worldh***dhello wor***orldhello ***o worldhel***ello world***ldhello wo***worldhello***lo worldhe***hello worl***rldhello w*** worldhell***llo worldh***dhello wor***orldhello ***o worldhel***ello world***ldhello wo***worldhello***lo worldhe***hello worl***rldhello w*** worldhell***llo worldh***dhello wor***orldhello ***o worldhel***ello world***ldhello wo***worldhello***lo worldhe***hello worl***rldhello w*** worldhell***llo worldh***dhello wor***orldhello ***o worldhel******"
     ]
    }
   ],
   "source": [
    "with open('big.txt','r') as f:\n",
    "    chunk_size = 10\n",
    "    while (len(f.read(chunk_size)) > 0):\n",
    "        print(f.read(chunk_size),end='***')\n",
    "        f.read(chunk_size) # skip to next chunk\n",
    "\n",
    "# Handles large files,processes in chunks,avoiding memory overload\n",
    "# Libraries like pandas,keras use chunk based data processing"
   ]
  },
  {
   "cell_type": "code",
   "execution_count": 21,
   "metadata": {},
   "outputs": [
    {
     "name": "stdout",
     "output_type": "stream",
     "text": [
      "e you\n",
      "I am\n",
      "25\n",
      " fine\n",
      "30\n"
     ]
    }
   ],
   "source": [
    "# seek and tell function\n",
    "\n",
    "with open('sample.txt','r') as f:\n",
    "    f.seek(15)  # Move to 15th char\n",
    "    print(f.read(10)) # Read 10 chars\n",
    "    print(f.tell()) # Position after read\n",
    "    print(f.read(10)) # Read next 10 chars\n",
    "    print(f.tell()) # New position"
   ]
  },
  {
   "cell_type": "code",
   "execution_count": null,
   "metadata": {},
   "outputs": [],
   "source": [
    "'seek' --> Set desired location within the context\n",
    "        --> Like YouTube red line for precise navigation\n",
    "        --> Moves to specified points in system\n",
    "\n",
    "'tell'  --> Reveals current position/status\n",
    "        --> Acts as a marker indicating present status\n",
    "        --> Provides feedback without changing position\n",
    "\n",
    "# seek : navigates to points (You tube red line analogy)\n",
    "# tell : shows current position/status"
   ]
  },
  {
   "cell_type": "code",
   "execution_count": 22,
   "metadata": {},
   "outputs": [],
   "source": [
    "# seek during write\n",
    "\n",
    "with open('sample.txt','w') as f:\n",
    "    f.write('Hello')\n",
    "    f.seek(0)   # cursor to start\n",
    "    f.write('Xa')   # Overwrite 'He' --> 'Xa'"
   ]
  },
  {
   "cell_type": "markdown",
   "metadata": {},
   "source": [
    "#### Limitations of Text Mode\n",
    "\n",
    "* Binary files : Incompatible with non text data (e.g image,binaries)\n",
    "* Data Type Efficiency : Inefficient for non text data types(Integers,floats,lists and tuples)\n",
    "\n",
    "Binary files :\n",
    "\n",
    "* Contain non textual binary data\n",
    "* Text Mode cannot process these effectively\n",
    "\n",
    "Non textual data:\n",
    "\n",
    "* Incompatible with Text Mode\n",
    "* Requires specific methods for management\n",
    "\n",
    "Structured Data:\n",
    "\n",
    "* Struggles with types like integers,floats,lists,tuples\n",
    "* Needs specialised handling"
   ]
  },
  {
   "cell_type": "code",
   "execution_count": 2,
   "metadata": {},
   "outputs": [
    {
     "ename": "UnicodeDecodeError",
     "evalue": "'utf-8' codec can't decode byte 0x89 in position 0: invalid start byte",
     "output_type": "error",
     "traceback": [
      "\u001b[0;31m---------------------------------------------------------------------------\u001b[0m",
      "\u001b[0;31mUnicodeDecodeError\u001b[0m                        Traceback (most recent call last)",
      "Cell \u001b[0;32mIn[2], line 4\u001b[0m\n\u001b[1;32m      1\u001b[0m \u001b[38;5;66;03m# Read Binary file\u001b[39;00m\n\u001b[1;32m      3\u001b[0m \u001b[38;5;28;01mwith\u001b[39;00m \u001b[38;5;28mopen\u001b[39m(\u001b[38;5;124m'\u001b[39m\u001b[38;5;124mscreenshots1.png\u001b[39m\u001b[38;5;124m'\u001b[39m,\u001b[38;5;124m'\u001b[39m\u001b[38;5;124mr\u001b[39m\u001b[38;5;124m'\u001b[39m) \u001b[38;5;28;01mas\u001b[39;00m f:\n\u001b[0;32m----> 4\u001b[0m     \u001b[43mf\u001b[49m\u001b[38;5;241;43m.\u001b[39;49m\u001b[43mread\u001b[49m\u001b[43m(\u001b[49m\u001b[43m)\u001b[49m\n",
      "File \u001b[0;32m<frozen codecs>:322\u001b[0m, in \u001b[0;36mdecode\u001b[0;34m(self, input, final)\u001b[0m\n",
      "\u001b[0;31mUnicodeDecodeError\u001b[0m: 'utf-8' codec can't decode byte 0x89 in position 0: invalid start byte"
     ]
    }
   ],
   "source": [
    "# Read Binary file\n",
    "\n",
    "with open('screenshots1.png','r') as f:\n",
    "    f.read()"
   ]
  },
  {
   "cell_type": "code",
   "execution_count": 4,
   "metadata": {},
   "outputs": [],
   "source": [
    "# Binary File I/O\n",
    "\n",
    "with open('screenshots1.png','rb') as f: # read binary\n",
    "    with open('screenshots1_copy.png','wb') as wf: # write binary\n",
    "        wf.write(f.read())"
   ]
  },
  {
   "cell_type": "code",
   "execution_count": 5,
   "metadata": {},
   "outputs": [],
   "source": [
    "# working with a large binary file"
   ]
  },
  {
   "cell_type": "code",
   "execution_count": 6,
   "metadata": {},
   "outputs": [],
   "source": [
    "# Working with different data types\n",
    "\n",
    "with open('sample.txt','w') as f:\n",
    "    f.write(str(5))\n",
    "\n",
    "# Error : Text must be unicode ;ensure data is string"
   ]
  },
  {
   "cell_type": "code",
   "execution_count": 7,
   "metadata": {},
   "outputs": [],
   "source": [
    "with open('sample.txt','w') as f:\n",
    "    f.write('5')"
   ]
  },
  {
   "cell_type": "code",
   "execution_count": 9,
   "metadata": {},
   "outputs": [
    {
     "name": "stdout",
     "output_type": "stream",
     "text": [
      "10\n"
     ]
    }
   ],
   "source": [
    "with open('sample.txt','r') as f:\n",
    "    print(int(f.read()) + 5) # convert read output to int"
   ]
  },
  {
   "cell_type": "code",
   "execution_count": 11,
   "metadata": {},
   "outputs": [],
   "source": [
    "# More complex data\n",
    "\n",
    "d = {\n",
    "    'name':'Girish',\n",
    "    'age':30,\n",
    "    'gender':'male'\n",
    "}\n",
    "\n",
    "with open('sample.txt','w') as f:\n",
    "    f.write(str(d))"
   ]
  },
  {
   "cell_type": "code",
   "execution_count": 13,
   "metadata": {},
   "outputs": [
    {
     "ename": "ValueError",
     "evalue": "dictionary update sequence element #0 has length 1; 2 is required",
     "output_type": "error",
     "traceback": [
      "\u001b[0;31m---------------------------------------------------------------------------\u001b[0m",
      "\u001b[0;31mValueError\u001b[0m                                Traceback (most recent call last)",
      "Cell \u001b[0;32mIn[13], line 2\u001b[0m\n\u001b[1;32m      1\u001b[0m \u001b[38;5;28;01mwith\u001b[39;00m \u001b[38;5;28mopen\u001b[39m(\u001b[38;5;124m'\u001b[39m\u001b[38;5;124msample.txt\u001b[39m\u001b[38;5;124m'\u001b[39m,\u001b[38;5;124m'\u001b[39m\u001b[38;5;124mr\u001b[39m\u001b[38;5;124m'\u001b[39m) \u001b[38;5;28;01mas\u001b[39;00m f:\n\u001b[0;32m----> 2\u001b[0m     \u001b[38;5;28mprint\u001b[39m(\u001b[38;5;28;43mdict\u001b[39;49m\u001b[43m(\u001b[49m\u001b[43mf\u001b[49m\u001b[38;5;241;43m.\u001b[39;49m\u001b[43mread\u001b[49m\u001b[43m(\u001b[49m\u001b[43m)\u001b[49m\u001b[43m)\u001b[49m)\n",
      "\u001b[0;31mValueError\u001b[0m: dictionary update sequence element #0 has length 1; 2 is required"
     ]
    }
   ],
   "source": [
    "with open('sample.txt','r') as f:\n",
    "    print(dict(f.read()))"
   ]
  },
  {
   "cell_type": "code",
   "execution_count": null,
   "metadata": {},
   "outputs": [],
   "source": [
    "# Text based limitations for Complex data storage:\n",
    "\n",
    "1. Storage --> Plain Text Files ideal for simple textual data.\n",
    "                Complex Data (e.g Python Dicts) contains structured data with key-value pairs.\n",
    "\n",
    "2. Conversion   --> Saving Dicts with 'write()' converts dicts to strings.\n",
    "                    '{'name':'John','age':30}' --> \"{'name':'John','age':30}\"\n",
    "                    This flattening loses structure and format.\n",
    "\n",
    "3. Retrieval    --> Retrieval returns as a string;requires parsing to reconstruct original dict.\n",
    "                    Error-prone parsing can introduce errors\n",
    "\n",
    "# Note : for simple data use text files;for complex data use serialization libraries or binary formats\n"
   ]
  },
  {
   "cell_type": "markdown",
   "metadata": {},
   "source": [
    "#### JSON Serialization & Deserialization\n",
    "\n",
    "Serialization\n",
    "\n",
    "Convert Python data --> JSON\n",
    "\n",
    "json.dumps()\n",
    "\n",
    "Human readable & machine parsable\n",
    "\n",
    "Deserialization:\n",
    "\n",
    "Convert JSON --> Python\n",
    "\n",
    "json.loads()\n",
    "\n",
    "Manipulate JSON data in Python"
   ]
  },
  {
   "cell_type": "markdown",
   "metadata": {},
   "source": [
    "#### What is JSON ?\n",
    "\n",
    "Java script object notation\n",
    "\n",
    "Widely adopted in web apps,API,data interchange\n",
    "\n",
    "Simple syntax,supports key value pairs,arrays,nested objects\n",
    "\n",
    "{\n",
    "    \n",
    "    \"d\": {\n",
    "        \n",
    "        \"results\": [\n",
    "            \n",
    "            {\n",
    "                \n",
    "                \"_metadata\": {\n",
    "                    \n",
    "                    \"type\":\"Employee details,Employee\"\n",
    "                \n",
    "                },\n",
    "                \n",
    "                \"UserID\":\"E12012\",\n",
    "                \n",
    "                \"RoleCode\":\"35\"\n",
    "            \n",
    "            }\n",
    "        \n",
    "        ]\n",
    "    \n",
    "    }\n",
    "\n",
    "}\n",
    "\n",
    "JSON is a widely used text format across languages"
   ]
  },
  {
   "cell_type": "code",
   "execution_count": 14,
   "metadata": {},
   "outputs": [],
   "source": [
    "# JSON serialization\n",
    "\n",
    "# List to JSON\n",
    "\n",
    "import json\n",
    "\n",
    "L = [1,2,3,4]\n",
    "\n",
    "with open('demo.json','w') as f:\n",
    "    json.dump(L,f) # serialize L to demo.json"
   ]
  },
  {
   "cell_type": "code",
   "execution_count": 15,
   "metadata": {},
   "outputs": [],
   "source": [
    "# Dict to JSON\n",
    "\n",
    "d = {\n",
    "    'name':'Girish',\n",
    "    'age':49,\n",
    "    'gender':'male'\n",
    "}\n",
    "\n",
    "with open('demo.json','w') as f:\n",
    "    json.dump(d,f,indent=4) # serialize dict d with indentation"
   ]
  },
  {
   "cell_type": "code",
   "execution_count": 16,
   "metadata": {},
   "outputs": [
    {
     "name": "stdout",
     "output_type": "stream",
     "text": [
      "{'name': 'Girish', 'age': 49, 'gender': 'male'}\n",
      "<class 'dict'>\n"
     ]
    }
   ],
   "source": [
    "# Deserialization\n",
    "\n",
    "import json\n",
    "with open('demo.json','r') as f:\n",
    "    d = json.load(f)\n",
    "    print(d)\n",
    "    print(type(d))"
   ]
  },
  {
   "cell_type": "markdown",
   "metadata": {},
   "source": [
    "Serialization & Deserialization : Convert complex data(lists,dicts,2D dicts,tuples,sets) to/from JSON\n",
    "\n",
    "Serialization : Complex --> JSON (for Storage)\n",
    "\n",
    "Deserialzation : JSON --> Original (for retrieval)\n",
    "\n",
    "Handles complex data efficiently,overcomming string based limitations"
   ]
  },
  {
   "cell_type": "code",
   "execution_count": 17,
   "metadata": {},
   "outputs": [],
   "source": [
    "# Serialize/Deserialize Tuple\n",
    "\n",
    "import json\n",
    "t = (1,2,3,4,5)\n",
    "\n",
    "with open('demo.json','w') as f:\n",
    "    json.dump(t,f)"
   ]
  },
  {
   "cell_type": "code",
   "execution_count": null,
   "metadata": {},
   "outputs": [],
   "source": [
    "#Note Serialization/Deserialization\n",
    "\n",
    "Serialize Tuple --> list (using 'dump')\n",
    "\n",
    "Deserialize     --> List (not tuple)\n",
    "\n",
    "Need Tuple later --> Explicit conversion required"
   ]
  },
  {
   "cell_type": "code",
   "execution_count": 18,
   "metadata": {},
   "outputs": [],
   "source": [
    "# serialize/De serialize nested dict\n",
    "\n",
    "d = {\n",
    "    'student':'girish',\n",
    "    'marks':[23,14,34,45,56]\n",
    "}\n",
    "\n",
    "with open('demo.json','w') as f:\n",
    "    json.dump(d,f)"
   ]
  },
  {
   "cell_type": "markdown",
   "metadata": {},
   "source": [
    "#### Serializing and Deserializing custom Objects"
   ]
  },
  {
   "cell_type": "code",
   "execution_count": 19,
   "metadata": {},
   "outputs": [],
   "source": [
    "class Person:\n",
    "\n",
    "    def __init__(self,fname,lname,age,gender):\n",
    "        self.fname = fname\n",
    "        self.lname = lname\n",
    "        self.age = age\n",
    "        self.gender = gender\n",
    "\n",
    "# Print format:\n",
    "# Name: {fname} {lname}\n",
    "# Age: {age}\n",
    "# Gender: {gender}"
   ]
  },
  {
   "cell_type": "code",
   "execution_count": 20,
   "metadata": {},
   "outputs": [],
   "source": [
    "person = Person('Girish','Mohite',49,'Male')"
   ]
  },
  {
   "cell_type": "markdown",
   "metadata": {},
   "source": [
    "Python serializes built in types natively (e.g dicts)\n",
    "\n",
    "Custom classes Needs custom serialization (Explicit)"
   ]
  },
  {
   "cell_type": "code",
   "execution_count": 21,
   "metadata": {},
   "outputs": [],
   "source": [
    "# string Representation\n",
    "\n",
    "import json\n",
    "def show_object(person):\n",
    "    if isinstance(person,Person):\n",
    "        return \"{} {} age -> {} gender -> {}\".format(person.fname,person.lname,person.age,person.gender)\n",
    "\n",
    "with open('demo.json','w') as f:\n",
    "    json.dump(person,f,default=show_object)"
   ]
  }
 ],
 "metadata": {
  "kernelspec": {
   "display_name": "Python 3",
   "language": "python",
   "name": "python3"
  },
  "language_info": {
   "codemirror_mode": {
    "name": "ipython",
    "version": 3
   },
   "file_extension": ".py",
   "mimetype": "text/x-python",
   "name": "python",
   "nbconvert_exporter": "python",
   "pygments_lexer": "ipython3",
   "version": "3.11.6"
  }
 },
 "nbformat": 4,
 "nbformat_minor": 2
}
