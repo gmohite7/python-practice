{
 "cells": [
  {
   "cell_type": "markdown",
   "metadata": {},
   "source": [
    "#### Object Oriented Programming\n",
    "\n",
    "- OOP is a programming paradigm using object and classes\n",
    "\n",
    "#### The observation"
   ]
  },
  {
   "cell_type": "code",
   "execution_count": 1,
   "metadata": {},
   "outputs": [],
   "source": [
    "L = [1,2,3,4]"
   ]
  },
  {
   "cell_type": "code",
   "execution_count": 2,
   "metadata": {},
   "outputs": [
    {
     "data": {
      "text/plain": [
       "[1, 2, 3, 4]"
      ]
     },
     "execution_count": 2,
     "metadata": {},
     "output_type": "execute_result"
    }
   ],
   "source": [
    "L"
   ]
  },
  {
   "cell_type": "code",
   "execution_count": 3,
   "metadata": {},
   "outputs": [
    {
     "ename": "AttributeError",
     "evalue": "'list' object has no attribute 'upper'",
     "output_type": "error",
     "traceback": [
      "\u001b[0;31m---------------------------------------------------------------------------\u001b[0m",
      "\u001b[0;31mAttributeError\u001b[0m                            Traceback (most recent call last)",
      "Cell \u001b[0;32mIn[3], line 1\u001b[0m\n\u001b[0;32m----> 1\u001b[0m \u001b[43mL\u001b[49m\u001b[38;5;241;43m.\u001b[39;49m\u001b[43mupper\u001b[49m()\n",
      "\u001b[0;31mAttributeError\u001b[0m: 'list' object has no attribute 'upper'"
     ]
    }
   ],
   "source": [
    "L.upper()"
   ]
  },
  {
   "cell_type": "code",
   "execution_count": 4,
   "metadata": {},
   "outputs": [],
   "source": [
    "city = 'Kolkatta'"
   ]
  },
  {
   "cell_type": "code",
   "execution_count": 5,
   "metadata": {},
   "outputs": [
    {
     "ename": "AttributeError",
     "evalue": "'str' object has no attribute 'append'",
     "output_type": "error",
     "traceback": [
      "\u001b[0;31m---------------------------------------------------------------------------\u001b[0m",
      "\u001b[0;31mAttributeError\u001b[0m                            Traceback (most recent call last)",
      "Cell \u001b[0;32mIn[5], line 1\u001b[0m\n\u001b[0;32m----> 1\u001b[0m \u001b[43mcity\u001b[49m\u001b[38;5;241;43m.\u001b[39;49m\u001b[43mappend\u001b[49m(\u001b[38;5;124m'\u001b[39m\u001b[38;5;124ma\u001b[39m\u001b[38;5;124m'\u001b[39m)\n",
      "\u001b[0;31mAttributeError\u001b[0m: 'str' object has no attribute 'append'"
     ]
    }
   ],
   "source": [
    "city.append('a')"
   ]
  },
  {
   "cell_type": "code",
   "execution_count": 6,
   "metadata": {},
   "outputs": [],
   "source": [
    "a = 3"
   ]
  },
  {
   "cell_type": "code",
   "execution_count": 7,
   "metadata": {},
   "outputs": [
    {
     "ename": "AttributeError",
     "evalue": "'int' object has no attribute 'upper'",
     "output_type": "error",
     "traceback": [
      "\u001b[0;31m---------------------------------------------------------------------------\u001b[0m",
      "\u001b[0;31mAttributeError\u001b[0m                            Traceback (most recent call last)",
      "Cell \u001b[0;32mIn[7], line 1\u001b[0m\n\u001b[0;32m----> 1\u001b[0m \u001b[43ma\u001b[49m\u001b[38;5;241;43m.\u001b[39;49m\u001b[43mupper\u001b[49m()\n",
      "\u001b[0;31mAttributeError\u001b[0m: 'int' object has no attribute 'upper'"
     ]
    }
   ],
   "source": [
    "a.upper()"
   ]
  },
  {
   "cell_type": "markdown",
   "metadata": {},
   "source": [
    "#### \"Everything in Python is an Object\"\n",
    "\n",
    "#### But,what is an object?\n",
    "\n",
    "#### What is OOP?\n",
    "\n",
    "#### The Problem!\n",
    "\n",
    "#### Generality to Specificity\n",
    "\n",
    "The core fundamental feature of OOP:\n",
    "\n",
    "'One of the core fundamental features of OOP is the ability to create custom data types tailored to specific needs(e.g linked in platform)'\n",
    "\n",
    "* Without OOP:\n",
    "\n",
    "    - Reliance on primitive data types : int,list,tuple\n",
    "    - Less optimal Not tailored ,hard to manage\n",
    "\n",
    "* With OOP:\n",
    "\n",
    "    - Custom Types : Efficient,intuitive,scalable\n",
    "    - Encapsulation : Better feature management\n",
    "    - Manageable codebase\n",
    "\n",
    "#### So what is Object Oriented Programming\n",
    "\n",
    "- Key concepts of OOP :\n",
    "\n",
    "* Object\n",
    "* Class\n",
    "* Polymorphism\n",
    "* Encapsulation\n",
    "* Inheritance\n",
    "* Abstraction\n",
    "\n",
    "#### ClASS\n",
    "\n",
    "* Blueprint for objects\n",
    "* Defines object behaviour\n",
    "\n",
    "(form now onwards variable ==> object)"
   ]
  },
  {
   "cell_type": "code",
   "execution_count": 8,
   "metadata": {},
   "outputs": [],
   "source": [
    "a = 2"
   ]
  },
  {
   "cell_type": "code",
   "execution_count": 9,
   "metadata": {},
   "outputs": [
    {
     "data": {
      "text/plain": [
       "int"
      ]
     },
     "execution_count": 9,
     "metadata": {},
     "output_type": "execute_result"
    }
   ],
   "source": [
    "type(a)"
   ]
  },
  {
   "cell_type": "code",
   "execution_count": 10,
   "metadata": {},
   "outputs": [
    {
     "data": {
      "text/plain": [
       "[1, 2, 3, 4]"
      ]
     },
     "execution_count": 10,
     "metadata": {},
     "output_type": "execute_result"
    }
   ],
   "source": [
    "L"
   ]
  },
  {
   "cell_type": "markdown",
   "metadata": {},
   "source": [
    "In Python,\n",
    "\n",
    "- Datatype = Class\n",
    "- Variable = Object of Class\n",
    "\n",
    "- Class:\n",
    "\n",
    "    1. Attributes : Data/Properties\n",
    "    2. Methods : Functions/Behaviour\n",
    "\n",
    "#### Class basic structure"
   ]
  },
  {
   "cell_type": "code",
   "execution_count": 11,
   "metadata": {},
   "outputs": [],
   "source": [
    "class Car:\n",
    "    color = 'blue'  # data\n",
    "    model = 'sports' # data\n",
    "\n",
    "    def calculate_avg_speed(km,time): # method\n",
    "        pass"
   ]
  },
  {
   "cell_type": "code",
   "execution_count": null,
   "metadata": {},
   "outputs": [],
   "source": [
    "# Naming conventions:\n",
    "\n",
    "Class names --> PascalCase\n",
    "Data/Functions --> snake_case\n",
    "\n",
    "# Examples:\n",
    "\n",
    "PascalCase : ThisIsPascalCase\n",
    "\n",
    "Camelcase : thisIsCamelCase\n",
    "\n",
    "snake_case : snake_case"
   ]
  },
  {
   "cell_type": "code",
   "execution_count": null,
   "metadata": {},
   "outputs": [],
   "source": [
    "Class Representation:\n",
    "\n",
    "+-------------------------+ \n",
    "|          - Car          |\n",
    "|-------------------------| \n",
    "|         - Color         | \n",
    "|        - mileage        | # attributes/data (private)\n",
    "|         - engine        |\n",
    "|-------------------------|\n",
    "|     + cal_avg_speed     | \n",
    "|     + open_airbags      | # methods/functions (public)\n",
    "|       + show_gps        |\n",
    "+-------------------------+"
   ]
  },
  {
   "cell_type": "markdown",
   "metadata": {},
   "source": [
    "#### Object\n",
    "\n",
    "Onject is an instance of a Class\n",
    "\n",
    "Class is the data type,Object is a variable of a Class\n"
   ]
  },
  {
   "cell_type": "code",
   "execution_count": null,
   "metadata": {},
   "outputs": [],
   "source": [
    "# Object Examples :\n",
    "\n",
    "1. Car -> WagonR | wagonr = Car()\n",
    "2. Sports -> GilliDanda | gillidanda = Sports()\n",
    "3. Animals -> Langoor | langoor = Animals()"
   ]
  },
  {
   "cell_type": "code",
   "execution_count": null,
   "metadata": {},
   "outputs": [],
   "source": [
    "L = [1,2,3] # Obj literal -> Builtin classes"
   ]
  },
  {
   "cell_type": "code",
   "execution_count": 13,
   "metadata": {},
   "outputs": [
    {
     "data": {
      "text/plain": [
       "[1, 2, 3, 4]"
      ]
     },
     "execution_count": 13,
     "metadata": {},
     "output_type": "execute_result"
    }
   ],
   "source": [
    "L"
   ]
  },
  {
   "cell_type": "code",
   "execution_count": 15,
   "metadata": {},
   "outputs": [],
   "source": [
    "L = list()"
   ]
  },
  {
   "cell_type": "code",
   "execution_count": 16,
   "metadata": {},
   "outputs": [
    {
     "data": {
      "text/plain": [
       "[]"
      ]
     },
     "execution_count": 16,
     "metadata": {},
     "output_type": "execute_result"
    }
   ],
   "source": [
    "L"
   ]
  },
  {
   "cell_type": "code",
   "execution_count": 17,
   "metadata": {},
   "outputs": [],
   "source": [
    "city = str()"
   ]
  },
  {
   "cell_type": "code",
   "execution_count": 18,
   "metadata": {},
   "outputs": [
    {
     "data": {
      "text/plain": [
       "''"
      ]
     },
     "execution_count": 18,
     "metadata": {},
     "output_type": "execute_result"
    }
   ],
   "source": [
    "city"
   ]
  },
  {
   "cell_type": "markdown",
   "metadata": {},
   "source": [
    "#### Practical Implementation of Class and Object\n",
    "\n",
    "#### Lets create a Class"
   ]
  },
  {
   "cell_type": "markdown",
   "metadata": {},
   "source": [
    "Functions vs Methods\n",
    "\n",
    "Methods :\n",
    " 1. Defined inside a class\n",
    " 2. Accessed via object of a class.\n",
    "\n",
    "Functions :\n",
    " 1. Not inside a class\n",
    " 2. General,accessible everywhere"
   ]
  },
  {
   "cell_type": "markdown",
   "metadata": {},
   "source": [
    "len(L) --> Function\n",
    "- General purpose,applicable to types like str,int"
   ]
  },
  {
   "cell_type": "markdown",
   "metadata": {},
   "source": [
    "L.append(1) --> Method\n",
    "\n",
    "* Defined in 'list' class,usable only with list objects\n",
    "\n",
    "- Functions inside class will be called methods"
   ]
  },
  {
   "cell_type": "code",
   "execution_count": 1,
   "metadata": {},
   "outputs": [],
   "source": [
    "class Atm:\n",
    "    __counter = 1 # static/class var\n",
    "\n",
    "    def __init__(self): # __init__ -> Consutructor\n",
    "                        # Special method inside a class\n",
    "                        # Initialises instance members\n",
    "                        # Executes automatically on object creation\n",
    "\n",
    "        self.__pin = ''\n",
    "        self.__balance = 0\n",
    "        self.sno = Atm.__counter # instance var\n",
    "        Atm.__counter = Atm.__counter + 1\n",
    "        self.menu()\n",
    "\n",
    "    @staticmethod\n",
    "    def get_counter():\n",
    "        return Atm.__counter\n",
    "\n",
    "    @staticmethod\n",
    "    def set_counter(new):\n",
    "        if type(new) == int:\n",
    "            Atm.__counter = new\n",
    "        else:\n",
    "            print('Not Allowed')\n",
    "\n",
    "    def get_pin(self):\n",
    "        return self.__pin\n",
    "\n",
    "    def set_pin(self,new_pin):\n",
    "        if type(new_pin) == str:\n",
    "            self.__pin = new_pin\n",
    "            print('Pin changed')\n",
    "        else:\n",
    "            print('Not allowed')\n",
    "\n",
    "    def menu(self):\n",
    "        user_input = input(\"\"\"Hello ,how would you like to proceed?\n",
    "                            1. Enter 1 to create pin\n",
    "                            2. Enter 2 to deposit\n",
    "                            3. Enter 3 to withdraw\n",
    "                            4. Enter 4 to check balance\n",
    "                            5. Enter 5 to exit\n",
    "        \"\"\")\n",
    "        if user_input == '1':\n",
    "            self.create_pin()\n",
    "        elif user_input == '2':\n",
    "            self.deposit()\n",
    "        elif user_input == '3':\n",
    "            self.withdraw()\n",
    "        elif user_input == '4':\n",
    "            self.check_balance()\n",
    "        else:\n",
    "            print('bye ',user_input)\n",
    "\n",
    "    def create_pin(self):\n",
    "        self.__pin = input('Enter your pin: ')\n",
    "        print('pin set successfully')\n",
    "\n",
    "    def deposit(self):\n",
    "        temp = input('enter your pin: ')\n",
    "        if temp == self.__pin:\n",
    "            amount = int(input('Enter the amount: '))\n",
    "            self.__balance = self.__balance + amount\n",
    "            print('Deposit successful')\n",
    "        else:\n",
    "            print('Invalid pin.')\n",
    "\n",
    "    def withdraw(self):\n",
    "        temp = input('Enter your pin: ')\n",
    "        if temp == self.__pin:\n",
    "            amount = int(input('Enter the amount'))\n",
    "            if amount <= self.__balance:\n",
    "                self.__balance = self.__balance - amount\n",
    "                print('Operation successful')\n",
    "            else:\n",
    "                print('Insufficient funds')\n",
    "        else:\n",
    "            print('invalid pin')\n",
    "\n",
    "    def check_balance(self):\n",
    "        temp = input('Enter your pin: ')\n",
    "        if temp == self.__pin:\n",
    "            print(self.__balance)\n",
    "        else:\n",
    "            print('invalid pin')\n"
   ]
  },
  {
   "cell_type": "code",
   "execution_count": 2,
   "metadata": {},
   "outputs": [
    {
     "name": "stdout",
     "output_type": "stream",
     "text": [
      "bye\n"
     ]
    }
   ],
   "source": [
    "sbi = Atm()"
   ]
  }
 ],
 "metadata": {
  "kernelspec": {
   "display_name": "Python 3",
   "language": "python",
   "name": "python3"
  },
  "language_info": {
   "codemirror_mode": {
    "name": "ipython",
    "version": 3
   },
   "file_extension": ".py",
   "mimetype": "text/x-python",
   "name": "python",
   "nbconvert_exporter": "python",
   "pygments_lexer": "ipython3",
   "version": "3.11.6"
  }
 },
 "nbformat": 4,
 "nbformat_minor": 2
}
