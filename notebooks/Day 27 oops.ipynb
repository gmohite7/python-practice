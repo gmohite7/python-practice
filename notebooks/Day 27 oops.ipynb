{
 "cells": [
  {
   "cell_type": "markdown",
   "metadata": {},
   "source": [
    "#### Object Oriented Programming\n",
    "\n",
    "- OOP is a programming paradigm using object and classes\n",
    "\n",
    "#### The observation"
   ]
  },
  {
   "cell_type": "code",
   "execution_count": 1,
   "metadata": {},
   "outputs": [],
   "source": [
    "L = [1,2,3,4]"
   ]
  },
  {
   "cell_type": "code",
   "execution_count": 2,
   "metadata": {},
   "outputs": [
    {
     "data": {
      "text/plain": [
       "[1, 2, 3, 4]"
      ]
     },
     "execution_count": 2,
     "metadata": {},
     "output_type": "execute_result"
    }
   ],
   "source": [
    "L"
   ]
  },
  {
   "cell_type": "code",
   "execution_count": 3,
   "metadata": {},
   "outputs": [
    {
     "ename": "AttributeError",
     "evalue": "'list' object has no attribute 'upper'",
     "output_type": "error",
     "traceback": [
      "\u001b[0;31m---------------------------------------------------------------------------\u001b[0m",
      "\u001b[0;31mAttributeError\u001b[0m                            Traceback (most recent call last)",
      "Cell \u001b[0;32mIn[3], line 1\u001b[0m\n\u001b[0;32m----> 1\u001b[0m \u001b[43mL\u001b[49m\u001b[38;5;241;43m.\u001b[39;49m\u001b[43mupper\u001b[49m()\n",
      "\u001b[0;31mAttributeError\u001b[0m: 'list' object has no attribute 'upper'"
     ]
    }
   ],
   "source": [
    "L.upper()"
   ]
  },
  {
   "cell_type": "code",
   "execution_count": 4,
   "metadata": {},
   "outputs": [],
   "source": [
    "city = 'Kolkatta'"
   ]
  },
  {
   "cell_type": "code",
   "execution_count": 5,
   "metadata": {},
   "outputs": [
    {
     "ename": "AttributeError",
     "evalue": "'str' object has no attribute 'append'",
     "output_type": "error",
     "traceback": [
      "\u001b[0;31m---------------------------------------------------------------------------\u001b[0m",
      "\u001b[0;31mAttributeError\u001b[0m                            Traceback (most recent call last)",
      "Cell \u001b[0;32mIn[5], line 1\u001b[0m\n\u001b[0;32m----> 1\u001b[0m \u001b[43mcity\u001b[49m\u001b[38;5;241;43m.\u001b[39;49m\u001b[43mappend\u001b[49m(\u001b[38;5;124m'\u001b[39m\u001b[38;5;124ma\u001b[39m\u001b[38;5;124m'\u001b[39m)\n",
      "\u001b[0;31mAttributeError\u001b[0m: 'str' object has no attribute 'append'"
     ]
    }
   ],
   "source": [
    "city.append('a')"
   ]
  },
  {
   "cell_type": "code",
   "execution_count": 6,
   "metadata": {},
   "outputs": [],
   "source": [
    "a = 3"
   ]
  },
  {
   "cell_type": "code",
   "execution_count": 7,
   "metadata": {},
   "outputs": [
    {
     "ename": "AttributeError",
     "evalue": "'int' object has no attribute 'upper'",
     "output_type": "error",
     "traceback": [
      "\u001b[0;31m---------------------------------------------------------------------------\u001b[0m",
      "\u001b[0;31mAttributeError\u001b[0m                            Traceback (most recent call last)",
      "Cell \u001b[0;32mIn[7], line 1\u001b[0m\n\u001b[0;32m----> 1\u001b[0m \u001b[43ma\u001b[49m\u001b[38;5;241;43m.\u001b[39;49m\u001b[43mupper\u001b[49m()\n",
      "\u001b[0;31mAttributeError\u001b[0m: 'int' object has no attribute 'upper'"
     ]
    }
   ],
   "source": [
    "a.upper()"
   ]
  },
  {
   "cell_type": "markdown",
   "metadata": {},
   "source": [
    "#### \"Everything in Python is an Object\"\n",
    "\n",
    "#### But,what is an object?\n",
    "\n",
    "#### What is OOP?\n",
    "\n",
    "#### The Problem!\n",
    "\n",
    "#### Generality to Specificity\n",
    "\n",
    "The core fundamental feature of OOP:\n",
    "\n",
    "'One of the core fundamental features of OOP is the ability to create custom data types tailored to specific needs(e.g linked in platform)'\n",
    "\n",
    "* Without OOP:\n",
    "\n",
    "    - Reliance on primitive data types : int,list,tuple\n",
    "    - Less optimal Not tailored ,hard to manage\n",
    "\n",
    "* With OOP:\n",
    "\n",
    "    - Custom Types : Efficient,intuitive,scalable\n",
    "    - Encapsulation : Better feature management\n",
    "    - Manageable codebase\n",
    "\n",
    "#### So what is Object Oriented Programming\n",
    "\n",
    "- Key concepts of OOP :\n",
    "\n",
    "* Object\n",
    "* Class\n",
    "* Polymorphism\n",
    "* Encapsulation\n",
    "* Inheritance\n",
    "* Abstraction\n",
    "\n",
    "#### ClASS\n",
    "\n",
    "* Blueprint for objects\n",
    "* Defines object behaviour\n",
    "\n",
    "(form now onwards variable ==> object)"
   ]
  },
  {
   "cell_type": "code",
   "execution_count": 8,
   "metadata": {},
   "outputs": [],
   "source": [
    "a = 2"
   ]
  },
  {
   "cell_type": "code",
   "execution_count": 9,
   "metadata": {},
   "outputs": [
    {
     "data": {
      "text/plain": [
       "int"
      ]
     },
     "execution_count": 9,
     "metadata": {},
     "output_type": "execute_result"
    }
   ],
   "source": [
    "type(a)"
   ]
  },
  {
   "cell_type": "code",
   "execution_count": 10,
   "metadata": {},
   "outputs": [
    {
     "data": {
      "text/plain": [
       "[1, 2, 3, 4]"
      ]
     },
     "execution_count": 10,
     "metadata": {},
     "output_type": "execute_result"
    }
   ],
   "source": [
    "L"
   ]
  },
  {
   "cell_type": "markdown",
   "metadata": {},
   "source": [
    "In Python,\n",
    "\n",
    "- Datatype = Class\n",
    "- Variable = Object of Class\n",
    "\n",
    "- Class:\n",
    "\n",
    "    1. Attributes : Data/Properties\n",
    "    2. Methods : Functions/Behaviour\n",
    "\n",
    "#### Class basic structure"
   ]
  },
  {
   "cell_type": "code",
   "execution_count": 11,
   "metadata": {},
   "outputs": [],
   "source": [
    "class Car:\n",
    "    color = 'blue'  # data\n",
    "    model = 'sports' # data\n",
    "\n",
    "    def calculate_avg_speed(km,time): # method\n",
    "        pass"
   ]
  },
  {
   "cell_type": "code",
   "execution_count": null,
   "metadata": {},
   "outputs": [],
   "source": [
    "# Naming conventions:\n",
    "\n",
    "Class names --> PascalCase\n",
    "Data/Functions --> snake_case\n",
    "\n",
    "# Examples:\n",
    "\n",
    "PascalCase : ThisIsPascalCase\n",
    "\n",
    "Camelcase : thisIsCamelCase\n",
    "\n",
    "snake_case : snake_case"
   ]
  },
  {
   "cell_type": "code",
   "execution_count": null,
   "metadata": {},
   "outputs": [],
   "source": [
    "Class Representation:\n",
    "\n",
    "+-------------------------+ \n",
    "|          - Car          |\n",
    "|-------------------------| \n",
    "|         - Color         | \n",
    "|        - mileage        | # attributes/data (private)\n",
    "|         - engine        |\n",
    "|-------------------------|\n",
    "|     + cal_avg_speed     | \n",
    "|     + open_airbags      | # methods/functions (public)\n",
    "|       + show_gps        |\n",
    "+-------------------------+"
   ]
  },
  {
   "cell_type": "markdown",
   "metadata": {},
   "source": [
    "#### Object\n",
    "\n",
    "Onject is an instance of a Class\n",
    "\n",
    "Class is the data type,Object is a variable of a Class\n"
   ]
  },
  {
   "cell_type": "code",
   "execution_count": null,
   "metadata": {},
   "outputs": [],
   "source": [
    "# Object Examples :\n",
    "\n",
    "1. Car -> WagonR | wagonr = Car()\n",
    "2. Sports -> GilliDanda | gillidanda = Sports()\n",
    "3. Animals -> Langoor | langoor = Animals()"
   ]
  },
  {
   "cell_type": "code",
   "execution_count": null,
   "metadata": {},
   "outputs": [],
   "source": [
    "L = [1,2,3] # Obj literal -> Builtin classes"
   ]
  },
  {
   "cell_type": "code",
   "execution_count": 13,
   "metadata": {},
   "outputs": [
    {
     "data": {
      "text/plain": [
       "[1, 2, 3, 4]"
      ]
     },
     "execution_count": 13,
     "metadata": {},
     "output_type": "execute_result"
    }
   ],
   "source": [
    "L"
   ]
  },
  {
   "cell_type": "code",
   "execution_count": 15,
   "metadata": {},
   "outputs": [],
   "source": [
    "L = list()"
   ]
  },
  {
   "cell_type": "code",
   "execution_count": 16,
   "metadata": {},
   "outputs": [
    {
     "data": {
      "text/plain": [
       "[]"
      ]
     },
     "execution_count": 16,
     "metadata": {},
     "output_type": "execute_result"
    }
   ],
   "source": [
    "L"
   ]
  },
  {
   "cell_type": "code",
   "execution_count": 17,
   "metadata": {},
   "outputs": [],
   "source": [
    "city = str()"
   ]
  },
  {
   "cell_type": "code",
   "execution_count": 18,
   "metadata": {},
   "outputs": [
    {
     "data": {
      "text/plain": [
       "''"
      ]
     },
     "execution_count": 18,
     "metadata": {},
     "output_type": "execute_result"
    }
   ],
   "source": [
    "city"
   ]
  },
  {
   "cell_type": "markdown",
   "metadata": {},
   "source": [
    "#### Practical Implementation of Class and Object\n",
    "\n",
    "#### Lets create a Class"
   ]
  },
  {
   "cell_type": "markdown",
   "metadata": {},
   "source": [
    "Functions vs Methods\n",
    "\n",
    "Methods :\n",
    " 1. Defined inside a class\n",
    " 2. Accessed via object of a class.\n",
    "\n",
    "Functions :\n",
    " 1. Not inside a class\n",
    " 2. General,accessible everywhere"
   ]
  },
  {
   "cell_type": "markdown",
   "metadata": {},
   "source": [
    "len(L) --> Function\n",
    "- General purpose,applicable to types like str,int"
   ]
  },
  {
   "cell_type": "markdown",
   "metadata": {},
   "source": [
    "L.append(1) --> Method\n",
    "\n",
    "* Defined in 'list' class,usable only with list objects\n",
    "\n",
    "- Functions inside class will be called methods"
   ]
  },
  {
   "cell_type": "code",
   "execution_count": 6,
   "metadata": {},
   "outputs": [],
   "source": [
    "class Atm:\n",
    "    __counter = 1 # static/class var\n",
    "\n",
    "    def __init__(self): # __init__ -> Consutructor\n",
    "                        # Special method inside a class\n",
    "                        # Initialises instance members\n",
    "                        # Executes automatically on object creation\n",
    "\n",
    "        self.__pin = ''\n",
    "        self.__balance = 0\n",
    "        self.sno = Atm.__counter # instance var\n",
    "        Atm.__counter = Atm.__counter + 1\n",
    "        self.menu()\n",
    "\n",
    "    @staticmethod\n",
    "    def get_counter():\n",
    "        return Atm.__counter\n",
    "\n",
    "    @staticmethod\n",
    "    def set_counter(new):\n",
    "        if type(new) == int:\n",
    "            Atm.__counter = new\n",
    "        else:\n",
    "            print('Not Allowed')\n",
    "\n",
    "    def get_pin(self):\n",
    "        return self.__pin\n",
    "\n",
    "    def set_pin(self,new_pin):\n",
    "        if type(new_pin) == str:\n",
    "            self.__pin = new_pin\n",
    "            print('Pin changed')\n",
    "        else:\n",
    "            print('Not allowed')\n",
    "\n",
    "    def menu(self):\n",
    "        user_input = input(\"\"\"Hello ,how would you like to proceed?\n",
    "                            1. Enter 1 to create pin\n",
    "                            2. Enter 2 to deposit\n",
    "                            3. Enter 3 to withdraw\n",
    "                            4. Enter 4 to check balance\n",
    "                            5. Enter 5 to exit\n",
    "        \"\"\")\n",
    "        if user_input == '1':\n",
    "            self.create_pin()\n",
    "        elif user_input == '2':\n",
    "            self.deposit()\n",
    "        elif user_input == '3':\n",
    "            self.withdraw()\n",
    "        elif user_input == '4':\n",
    "            self.check_balance()\n",
    "        else:\n",
    "            print('bye ',user_input)\n",
    "\n",
    "    def create_pin(self):\n",
    "        self.__pin = input('Enter your pin: ')\n",
    "        print('pin set successfully')\n",
    "\n",
    "    def deposit(self):\n",
    "        temp = input('enter your pin: ')\n",
    "        if temp == self.__pin:\n",
    "            amount = int(input('Enter the amount: '))\n",
    "            self.__balance = self.__balance + amount\n",
    "            print('Deposit successful')\n",
    "        else:\n",
    "            print('Invalid pin.')\n",
    "\n",
    "    def withdraw(self):\n",
    "        temp = input('Enter your pin: ')\n",
    "        if temp == self.__pin:\n",
    "            amount = int(input('Enter the amount'))\n",
    "            if amount <= self.__balance:\n",
    "                self.__balance = self.__balance - amount\n",
    "                print('Operation successful')\n",
    "            else:\n",
    "                print('Insufficient funds')\n",
    "        else:\n",
    "            print('invalid pin')\n",
    "\n",
    "    def check_balance(self):\n",
    "        temp = input('Enter your pin: ')\n",
    "        if temp == self.__pin:\n",
    "            print(self.__balance)\n",
    "        else:\n",
    "            print('invalid pin')\n"
   ]
  },
  {
   "cell_type": "code",
   "execution_count": 4,
   "metadata": {},
   "outputs": [
    {
     "name": "stdout",
     "output_type": "stream",
     "text": [
      "pin set successfully\n"
     ]
    }
   ],
   "source": [
    "sbi = Atm()"
   ]
  },
  {
   "cell_type": "code",
   "execution_count": 5,
   "metadata": {},
   "outputs": [
    {
     "name": "stdout",
     "output_type": "stream",
     "text": [
      "Deposit successful\n"
     ]
    }
   ],
   "source": [
    "sbi.deposit()"
   ]
  },
  {
   "cell_type": "code",
   "execution_count": 6,
   "metadata": {},
   "outputs": [
    {
     "name": "stdout",
     "output_type": "stream",
     "text": [
      "50000\n"
     ]
    }
   ],
   "source": [
    "sbi.check_balance()"
   ]
  },
  {
   "cell_type": "code",
   "execution_count": 7,
   "metadata": {},
   "outputs": [
    {
     "name": "stdout",
     "output_type": "stream",
     "text": [
      "Operation successful\n"
     ]
    }
   ],
   "source": [
    "sbi.withdraw()"
   ]
  },
  {
   "cell_type": "code",
   "execution_count": 8,
   "metadata": {},
   "outputs": [
    {
     "name": "stdout",
     "output_type": "stream",
     "text": [
      "25000\n"
     ]
    }
   ],
   "source": [
    "sbi.check_balance()"
   ]
  },
  {
   "cell_type": "code",
   "execution_count": 9,
   "metadata": {},
   "outputs": [
    {
     "name": "stdout",
     "output_type": "stream",
     "text": [
      "pin set successfully\n"
     ]
    }
   ],
   "source": [
    "hdfc = Atm()"
   ]
  },
  {
   "cell_type": "code",
   "execution_count": 10,
   "metadata": {},
   "outputs": [
    {
     "name": "stdout",
     "output_type": "stream",
     "text": [
      "Deposit successful\n"
     ]
    }
   ],
   "source": [
    "hdfc.deposit()"
   ]
  },
  {
   "cell_type": "code",
   "execution_count": 11,
   "metadata": {},
   "outputs": [
    {
     "name": "stdout",
     "output_type": "stream",
     "text": [
      "100000\n"
     ]
    }
   ],
   "source": [
    "hdfc.check_balance()"
   ]
  },
  {
   "cell_type": "code",
   "execution_count": 12,
   "metadata": {},
   "outputs": [],
   "source": [
    "# Constructor -> Special/Magic/Dunder methods"
   ]
  },
  {
   "cell_type": "code",
   "execution_count": 13,
   "metadata": {},
   "outputs": [
    {
     "data": {
      "text/plain": [
       "['__abs__',\n",
       " '__add__',\n",
       " '__and__',\n",
       " '__bool__',\n",
       " '__ceil__',\n",
       " '__class__',\n",
       " '__delattr__',\n",
       " '__dir__',\n",
       " '__divmod__',\n",
       " '__doc__',\n",
       " '__eq__',\n",
       " '__float__',\n",
       " '__floor__',\n",
       " '__floordiv__',\n",
       " '__format__',\n",
       " '__ge__',\n",
       " '__getattribute__',\n",
       " '__getnewargs__',\n",
       " '__getstate__',\n",
       " '__gt__',\n",
       " '__hash__',\n",
       " '__index__',\n",
       " '__init__',\n",
       " '__init_subclass__',\n",
       " '__int__',\n",
       " '__invert__',\n",
       " '__le__',\n",
       " '__lshift__',\n",
       " '__lt__',\n",
       " '__mod__',\n",
       " '__mul__',\n",
       " '__ne__',\n",
       " '__neg__',\n",
       " '__new__',\n",
       " '__or__',\n",
       " '__pos__',\n",
       " '__pow__',\n",
       " '__radd__',\n",
       " '__rand__',\n",
       " '__rdivmod__',\n",
       " '__reduce__',\n",
       " '__reduce_ex__',\n",
       " '__repr__',\n",
       " '__rfloordiv__',\n",
       " '__rlshift__',\n",
       " '__rmod__',\n",
       " '__rmul__',\n",
       " '__ror__',\n",
       " '__round__',\n",
       " '__rpow__',\n",
       " '__rrshift__',\n",
       " '__rshift__',\n",
       " '__rsub__',\n",
       " '__rtruediv__',\n",
       " '__rxor__',\n",
       " '__setattr__',\n",
       " '__sizeof__',\n",
       " '__str__',\n",
       " '__sub__',\n",
       " '__subclasshook__',\n",
       " '__truediv__',\n",
       " '__trunc__',\n",
       " '__xor__',\n",
       " 'as_integer_ratio',\n",
       " 'bit_count',\n",
       " 'bit_length',\n",
       " 'conjugate',\n",
       " 'denominator',\n",
       " 'from_bytes',\n",
       " 'imag',\n",
       " 'numerator',\n",
       " 'real',\n",
       " 'to_bytes']"
      ]
     },
     "execution_count": 13,
     "metadata": {},
     "output_type": "execute_result"
    }
   ],
   "source": [
    "dir(int)"
   ]
  },
  {
   "cell_type": "markdown",
   "metadata": {},
   "source": [
    "#### Magic Methods\n",
    "\n",
    "Predefined(e.g ,__abd__,__bool__,__float__)\n",
    "\n",
    "Triggered automatically not called directly by objects\n",
    "\n",
    "Constructor is a magic method invoked during object creation"
   ]
  },
  {
   "cell_type": "code",
   "execution_count": null,
   "metadata": {},
   "outputs": [],
   "source": [
    "# What is utility of constructor ?\n",
    "\n",
    "Special method auto-executed at app start.\n",
    "\n",
    "Handles --> DB/Internet/Hardware connectivity\n",
    "            Initial configurations"
   ]
  },
  {
   "cell_type": "code",
   "execution_count": null,
   "metadata": {},
   "outputs": [],
   "source": [
    "# Highly philosophical perspective:\n",
    "\n",
    "if World == Class\n",
    "   God == Programmer\n",
    "   Humans == Object\n",
    "\n",
    "Code Not Controlled by Humans == ?\n",
    "\n",
    "But --> DEATH\n",
    "\n",
    "Death is controlled by constructor (God)\n",
    "\n",
    "Constructors code includes death at birth"
   ]
  },
  {
   "cell_type": "markdown",
   "metadata": {},
   "source": [
    "#### self"
   ]
  },
  {
   "cell_type": "code",
   "execution_count": 14,
   "metadata": {},
   "outputs": [
    {
     "name": "stdout",
     "output_type": "stream",
     "text": [
      "bye  5\n"
     ]
    }
   ],
   "source": [
    "sbi = Atm()"
   ]
  },
  {
   "cell_type": "code",
   "execution_count": 15,
   "metadata": {},
   "outputs": [],
   "source": [
    "# sbi = self"
   ]
  },
  {
   "cell_type": "code",
   "execution_count": 16,
   "metadata": {},
   "outputs": [
    {
     "name": "stdout",
     "output_type": "stream",
     "text": [
      "bye  5\n"
     ]
    }
   ],
   "source": [
    "hdfc = Atm()"
   ]
  },
  {
   "cell_type": "code",
   "execution_count": 17,
   "metadata": {},
   "outputs": [
    {
     "data": {
      "text/plain": [
       "4413907600"
      ]
     },
     "execution_count": 17,
     "metadata": {},
     "output_type": "execute_result"
    }
   ],
   "source": [
    "id(hdfc)"
   ]
  },
  {
   "cell_type": "code",
   "execution_count": 18,
   "metadata": {},
   "outputs": [],
   "source": [
    "# hdfc = self"
   ]
  },
  {
   "cell_type": "code",
   "execution_count": 19,
   "metadata": {},
   "outputs": [
    {
     "data": {
      "text/plain": [
       "4413901264"
      ]
     },
     "execution_count": 19,
     "metadata": {},
     "output_type": "execute_result"
    }
   ],
   "source": [
    "id(sbi)"
   ]
  },
  {
   "cell_type": "markdown",
   "metadata": {},
   "source": [
    "self refers to the current object instance\n",
    "\n",
    "#### The need of self\n",
    "\n",
    "- class holds data and methods;access via object\n",
    "- self refers to current object ,needed for inter method data access within a class\n",
    "- Methods cant access other methods/data directly without self\n",
    "\n",
    "#### Creating Custom Data Type(Fraction) & Corresponding Methods to Add,Sub,Mul and Divide fractions"
   ]
  },
  {
   "cell_type": "code",
   "execution_count": 32,
   "metadata": {},
   "outputs": [],
   "source": [
    "class Fraction:\n",
    "\n",
    "    def __init__(self,n,d):\n",
    "        self.num = n\n",
    "        self.den = d\n",
    "\n",
    "    def __str__(self):\n",
    "        return '{}/{}'.format(self.num,self.den)\n",
    "\n",
    "    def __add__(self,other):\n",
    "        temp_num = self.num * other.den + other.num * self.den\n",
    "        temp_den = self.den * other.den\n",
    "        return '{}/{}'.format(temp_num,temp_den)\n",
    "\n",
    "    def __sub__(self,other):\n",
    "        temp_num = self.num * other.den - other.num*self.den\n",
    "        temp_den = self.den * other.den\n",
    "        return '{}/{}'.format(temp_num,temp_den)\n",
    "\n",
    "    def __mul__(self,other):\n",
    "        temp_num = self.num * other.num\n",
    "        temp_den = self.den * other.den\n",
    "        return '{}/{}'.format(temp_num,temp_den)\n",
    "\n",
    "    def __truediv__(self,other):\n",
    "        temp_num = self.num * other.den\n",
    "        temp_den = self.den * other.num\n",
    "        return '{}/{}'.format(temp_num,temp_den)"
   ]
  },
  {
   "cell_type": "code",
   "execution_count": 34,
   "metadata": {},
   "outputs": [],
   "source": [
    "x = Fraction(4,5)"
   ]
  },
  {
   "cell_type": "code",
   "execution_count": 35,
   "metadata": {},
   "outputs": [
    {
     "name": "stdout",
     "output_type": "stream",
     "text": [
      "4/5\n"
     ]
    }
   ],
   "source": [
    "print(x)"
   ]
  },
  {
   "cell_type": "code",
   "execution_count": 36,
   "metadata": {},
   "outputs": [
    {
     "data": {
      "text/plain": [
       "__main__.Fraction"
      ]
     },
     "execution_count": 36,
     "metadata": {},
     "output_type": "execute_result"
    }
   ],
   "source": [
    "type(x)"
   ]
  },
  {
   "cell_type": "code",
   "execution_count": 37,
   "metadata": {},
   "outputs": [],
   "source": [
    "y = Fraction(5,6)"
   ]
  },
  {
   "cell_type": "code",
   "execution_count": 38,
   "metadata": {},
   "outputs": [
    {
     "name": "stdout",
     "output_type": "stream",
     "text": [
      "5/6\n"
     ]
    }
   ],
   "source": [
    "print(y)"
   ]
  },
  {
   "cell_type": "code",
   "execution_count": 39,
   "metadata": {},
   "outputs": [],
   "source": [
    "L = [1,2,3,x]"
   ]
  },
  {
   "cell_type": "code",
   "execution_count": 40,
   "metadata": {},
   "outputs": [
    {
     "data": {
      "text/plain": [
       "[1, 2, 3, <__main__.Fraction at 0x108bcd190>]"
      ]
     },
     "execution_count": 40,
     "metadata": {},
     "output_type": "execute_result"
    }
   ],
   "source": [
    "L"
   ]
  },
  {
   "cell_type": "code",
   "execution_count": 41,
   "metadata": {},
   "outputs": [
    {
     "name": "stdout",
     "output_type": "stream",
     "text": [
      "49/30\n"
     ]
    }
   ],
   "source": [
    "print(x + y)"
   ]
  },
  {
   "cell_type": "code",
   "execution_count": 42,
   "metadata": {},
   "outputs": [
    {
     "name": "stdout",
     "output_type": "stream",
     "text": [
      "-1/30\n"
     ]
    }
   ],
   "source": [
    "print(x - y)"
   ]
  },
  {
   "cell_type": "code",
   "execution_count": 43,
   "metadata": {},
   "outputs": [
    {
     "name": "stdout",
     "output_type": "stream",
     "text": [
      "20/30\n"
     ]
    }
   ],
   "source": [
    "print(x * y)"
   ]
  },
  {
   "cell_type": "code",
   "execution_count": 44,
   "metadata": {},
   "outputs": [
    {
     "name": "stdout",
     "output_type": "stream",
     "text": [
      "24/25\n"
     ]
    }
   ],
   "source": [
    "print(x / y)"
   ]
  },
  {
   "cell_type": "markdown",
   "metadata": {},
   "source": [
    "#### Encapsulation\n",
    "\n",
    "Instance Variable\n",
    "\n",
    "Unique value per object\n",
    "\n",
    "- Defined inside the constructor (e.g self.pin,self.balance)\n",
    "\n",
    "- Different values foor each object"
   ]
  },
  {
   "cell_type": "code",
   "execution_count": 45,
   "metadata": {},
   "outputs": [
    {
     "name": "stdout",
     "output_type": "stream",
     "text": [
      "pin set successfully\n"
     ]
    }
   ],
   "source": [
    "sbi = Atm()"
   ]
  },
  {
   "cell_type": "code",
   "execution_count": null,
   "metadata": {},
   "outputs": [],
   "source": [
    "sbi.balance"
   ]
  },
  {
   "cell_type": "code",
   "execution_count": null,
   "metadata": {},
   "outputs": [],
   "source": [
    "sbi.balance = 'ajajaja'"
   ]
  },
  {
   "cell_type": "code",
   "execution_count": 47,
   "metadata": {},
   "outputs": [
    {
     "name": "stdout",
     "output_type": "stream",
     "text": [
      "Deposit successful\n"
     ]
    }
   ],
   "source": [
    "sbi.deposit()"
   ]
  },
  {
   "cell_type": "code",
   "execution_count": null,
   "metadata": {},
   "outputs": [],
   "source": [
    "# Class Data Encapsulation :\n",
    "\n",
    "Data should not be left exposed in a class\n",
    "\n",
    "Java --> use access modifiers (e.g 'private') to hide data.\n",
    "\n",
    "Python --> Use '__' prefix (e.g 'self.__pin','self.__balance') for data hiding"
   ]
  },
  {
   "cell_type": "code",
   "execution_count": 48,
   "metadata": {},
   "outputs": [
    {
     "name": "stdout",
     "output_type": "stream",
     "text": [
      "pin set successfully\n"
     ]
    }
   ],
   "source": [
    "sbi = Atm()"
   ]
  },
  {
   "cell_type": "markdown",
   "metadata": {},
   "source": [
    "class Design --> Hide (Encapsulation) data members & hide non public methods"
   ]
  },
  {
   "cell_type": "code",
   "execution_count": null,
   "metadata": {},
   "outputs": [],
   "source": [
    "# Python Name Mangling:\n",
    "\n",
    "How does it hide? What happens behind the scenes ?\n",
    "\n",
    "Atm\n",
    "__pin\n",
    "\n",
    "python interpreter internally converts __pin --> _Atm__pin\n",
    "\n",
    "Why?\n",
    "Name mangling to prevent direct access.\n"
   ]
  },
  {
   "cell_type": "code",
   "execution_count": 49,
   "metadata": {},
   "outputs": [],
   "source": [
    "sbi.__balance = 'abcdefg'"
   ]
  },
  {
   "cell_type": "code",
   "execution_count": 50,
   "metadata": {},
   "outputs": [
    {
     "name": "stdout",
     "output_type": "stream",
     "text": [
      "Deposit successful\n"
     ]
    }
   ],
   "source": [
    "sbi.deposit()"
   ]
  },
  {
   "cell_type": "code",
   "execution_count": 51,
   "metadata": {},
   "outputs": [
    {
     "name": "stdout",
     "output_type": "stream",
     "text": [
      "50000\n"
     ]
    }
   ],
   "source": [
    "sbi.check_balance()"
   ]
  },
  {
   "cell_type": "markdown",
   "metadata": {},
   "source": [
    "The above code worked because,\n",
    "\n",
    "'__balance' --> '_Atm_balance' (name mangling)\n",
    "\n",
    "'sbi.__balance' = '',creates '__balance' in 'Atm' but unused.\n",
    "\n",
    "'__balance' not used; '_Atm__balance' is used.\n",
    "\n",
    "'__balance' creation doesnt affect code logic due to '__balance' not being utilised.\n",
    "\n",
    "Code logic remains unchanged;class funcitonality remains unaffected\n"
   ]
  },
  {
   "cell_type": "code",
   "execution_count": 52,
   "metadata": {},
   "outputs": [],
   "source": [
    "#surprising thing:\n",
    "\n",
    "sbi._Atm__balance = 'agagaga'"
   ]
  },
  {
   "cell_type": "code",
   "execution_count": 53,
   "metadata": {},
   "outputs": [
    {
     "ename": "TypeError",
     "evalue": "can only concatenate str (not \"int\") to str",
     "output_type": "error",
     "traceback": [
      "\u001b[0;31m---------------------------------------------------------------------------\u001b[0m",
      "\u001b[0;31mTypeError\u001b[0m                                 Traceback (most recent call last)",
      "Cell \u001b[0;32mIn[53], line 1\u001b[0m\n\u001b[0;32m----> 1\u001b[0m \u001b[43msbi\u001b[49m\u001b[38;5;241;43m.\u001b[39;49m\u001b[43mdeposit\u001b[49m\u001b[43m(\u001b[49m\u001b[43m)\u001b[49m\n",
      "Cell \u001b[0;32mIn[3], line 63\u001b[0m, in \u001b[0;36mAtm.deposit\u001b[0;34m(self)\u001b[0m\n\u001b[1;32m     61\u001b[0m \u001b[38;5;28;01mif\u001b[39;00m temp \u001b[38;5;241m==\u001b[39m \u001b[38;5;28mself\u001b[39m\u001b[38;5;241m.\u001b[39m__pin:\n\u001b[1;32m     62\u001b[0m     amount \u001b[38;5;241m=\u001b[39m \u001b[38;5;28mint\u001b[39m(\u001b[38;5;28minput\u001b[39m(\u001b[38;5;124m'\u001b[39m\u001b[38;5;124mEnter the amount: \u001b[39m\u001b[38;5;124m'\u001b[39m))\n\u001b[0;32m---> 63\u001b[0m     \u001b[38;5;28mself\u001b[39m\u001b[38;5;241m.\u001b[39m__balance \u001b[38;5;241m=\u001b[39m \u001b[38;5;28;43mself\u001b[39;49m\u001b[38;5;241;43m.\u001b[39;49m\u001b[43m__balance\u001b[49m\u001b[43m \u001b[49m\u001b[38;5;241;43m+\u001b[39;49m\u001b[43m \u001b[49m\u001b[43mamount\u001b[49m\n\u001b[1;32m     64\u001b[0m     \u001b[38;5;28mprint\u001b[39m(\u001b[38;5;124m'\u001b[39m\u001b[38;5;124mDeposit successful\u001b[39m\u001b[38;5;124m'\u001b[39m)\n\u001b[1;32m     65\u001b[0m \u001b[38;5;28;01melse\u001b[39;00m:\n",
      "\u001b[0;31mTypeError\u001b[0m: can only concatenate str (not \"int\") to str"
     ]
    }
   ],
   "source": [
    "sbi.deposit()"
   ]
  },
  {
   "cell_type": "code",
   "execution_count": null,
   "metadata": {},
   "outputs": [],
   "source": [
    "# Python variable privacy:\n",
    "\n",
    "'__balance' --> Name-mangled to '_Atm__balance'\n",
    "\n",
    "_Truly private_ is not a concept in Python.\n",
    "\n",
    "'__balance' is _psuedo-private_,but accessible via '_Atm_balance' if known"
   ]
  },
  {
   "cell_type": "markdown",
   "metadata": {},
   "source": [
    "Reason for why 'Nothing in python is truly private?'\n",
    "\n",
    "'Python is targetted for adults;privacy is a convention and not a enforcement\n",
    "\n",
    "__balance indicates the intent for privacy,convention\n",
    "\n",
    "__prefix suggests private elements;use with caution,understanding implications"
   ]
  },
  {
   "cell_type": "code",
   "execution_count": null,
   "metadata": {},
   "outputs": [],
   "source": [
    "Also,for every data members we can create 2 functions:\n",
    "\n",
    "Getter --> Retrieve value\n",
    "Setter --> Update value\n",
    "\n",
    "Although we have hidden pin and balance,\n",
    "But if needed,get_pin() and set_pin() to get and set the pin number."
   ]
  },
  {
   "cell_type": "code",
   "execution_count": 54,
   "metadata": {},
   "outputs": [
    {
     "name": "stdout",
     "output_type": "stream",
     "text": [
      "pin set successfully\n"
     ]
    }
   ],
   "source": [
    "sbi = Atm()"
   ]
  },
  {
   "cell_type": "code",
   "execution_count": 55,
   "metadata": {},
   "outputs": [
    {
     "data": {
      "text/plain": [
       "'1906'"
      ]
     },
     "execution_count": 55,
     "metadata": {},
     "output_type": "execute_result"
    }
   ],
   "source": [
    "sbi.get_pin()"
   ]
  },
  {
   "cell_type": "code",
   "execution_count": null,
   "metadata": {},
   "outputs": [],
   "source": [
    "#Lets set a rule,pin must be string"
   ]
  },
  {
   "cell_type": "code",
   "execution_count": 56,
   "metadata": {},
   "outputs": [
    {
     "name": "stdout",
     "output_type": "stream",
     "text": [
      "Not allowed\n"
     ]
    }
   ],
   "source": [
    "sbi.set_pin(5.6)"
   ]
  },
  {
   "cell_type": "code",
   "execution_count": null,
   "metadata": {},
   "outputs": [],
   "source": [
    "Whats the purpose of get and set functions if,\n",
    "sbi.set_pin and sbi.pin --> Same funcitonality\n",
    "\n",
    "Purpose --> Hide Data & Control Access (Encapsulation)\n",
    "\n",
    "Controlled Access(sbi.get_pin/sbi.set_pin) vs direct access(sbi.pin)\n",
    "\n",
    "Input values are processed through functions this allows logical control over the data."
   ]
  },
  {
   "cell_type": "code",
   "execution_count": 57,
   "metadata": {},
   "outputs": [
    {
     "name": "stdout",
     "output_type": "stream",
     "text": [
      "pin set successfully\n"
     ]
    }
   ],
   "source": [
    "sbi = Atm()"
   ]
  },
  {
   "cell_type": "code",
   "execution_count": 58,
   "metadata": {},
   "outputs": [
    {
     "name": "stdout",
     "output_type": "stream",
     "text": [
      "Not allowed\n"
     ]
    }
   ],
   "source": [
    "sbi.set_pin(5.6)"
   ]
  },
  {
   "cell_type": "code",
   "execution_count": 59,
   "metadata": {},
   "outputs": [
    {
     "name": "stdout",
     "output_type": "stream",
     "text": [
      "Pin changed\n"
     ]
    }
   ],
   "source": [
    "sbi.set_pin('2345')"
   ]
  },
  {
   "cell_type": "code",
   "execution_count": null,
   "metadata": {},
   "outputs": [],
   "source": [
    "Summary :\n",
    "\n",
    "The whole idea is to prevent direct public access to data to avoid breaches\n",
    "\n",
    "Solution:\n",
    "Hide data using '__'\n",
    "\n",
    "if anyone wants access ,must follow 2 methods\n",
    "1. get --> fetch value\n",
    "2. set --> Modify value under set conditions\n",
    "\n",
    "Protecting our data,Access data via functions,set data via logic\n",
    "\n",
    "Concept --> Encapsulation i.e Protect and Access data through controlled methods\n",
    "\n",
    "Use getter and setter functions\n",
    "\n",
    "Data is protected and accessible through controlled means."
   ]
  },
  {
   "cell_type": "code",
   "execution_count": null,
   "metadata": {},
   "outputs": [],
   "source": [
    "Class diagram:\n",
    "\n",
    "+-------------------------------------+\n",
    "|              - Atm                  |\n",
    "|-------------------------------------|\n",
    "|              - pin                  |\n",
    "|            - balance                | \n",
    "|-------------------------------------|\n",
    "|           - __init__()              |\n",
    "|              - menu                 |\n",
    "|           + change_pin()            |     \n",
    "|             + deposit               |\n",
    "|             + withdraw              |\n",
    "|          + check_balance()          |\n",
    "+-------------------------------------+\n"
   ]
  },
  {
   "cell_type": "markdown",
   "metadata": {},
   "source": [
    "#### Reference variable"
   ]
  },
  {
   "cell_type": "code",
   "execution_count": 60,
   "metadata": {},
   "outputs": [
    {
     "name": "stdout",
     "output_type": "stream",
     "text": [
      "pin set successfully\n"
     ]
    },
    {
     "data": {
      "text/plain": [
       "<__main__.Atm at 0x108d32690>"
      ]
     },
     "execution_count": 60,
     "metadata": {},
     "output_type": "execute_result"
    }
   ],
   "source": [
    "Atm()"
   ]
  },
  {
   "cell_type": "code",
   "execution_count": null,
   "metadata": {},
   "outputs": [],
   "source": [
    "Object created but unusable.\n",
    "\n",
    "Reason --> Not stored in any variable\n",
    "\n",
    "Result --> Object lost,memory in accessible"
   ]
  },
  {
   "cell_type": "code",
   "execution_count": 61,
   "metadata": {},
   "outputs": [
    {
     "name": "stdout",
     "output_type": "stream",
     "text": [
      "pin set successfully\n"
     ]
    }
   ],
   "source": [
    "# whenever creating object,write this code\n",
    "\n",
    "sbi = Atm()"
   ]
  },
  {
   "cell_type": "code",
   "execution_count": null,
   "metadata": {},
   "outputs": [],
   "source": [
    "# Reference vs Object\n",
    "\n",
    "reference --> 'sbi'\n",
    "object --> 'Atm()'\n",
    "\n",
    "'sbi' is not object\n",
    "'sbi' is a reference variable\n",
    "'sbi' points to the memory address of the actual object 'Atm()'"
   ]
  },
  {
   "cell_type": "markdown",
   "metadata": {},
   "source": [
    "#### Pass by Reference"
   ]
  },
  {
   "cell_type": "code",
   "execution_count": 62,
   "metadata": {},
   "outputs": [
    {
     "name": "stdout",
     "output_type": "stream",
     "text": [
      "Girish\n"
     ]
    }
   ],
   "source": [
    "class Customer:\n",
    "\n",
    "    def __init__(self,name):\n",
    "        self.name = name\n",
    "\n",
    "cust = Customer('Girish')\n",
    "print(cust.name)"
   ]
  },
  {
   "cell_type": "code",
   "execution_count": 64,
   "metadata": {},
   "outputs": [
    {
     "name": "stdout",
     "output_type": "stream",
     "text": [
      "Hello Girish\n"
     ]
    }
   ],
   "source": [
    "class Customer:\n",
    "\n",
    "    def __init__(self,name):\n",
    "        self.name = name\n",
    "\n",
    "def greet(customer):\n",
    "    print('Hello',customer.name)\n",
    "\n",
    "cust = Customer('Girish')\n",
    "\n",
    "greet(cust)\n",
    "\n",
    "# Passed class object 'cust' to 'greet()'\n",
    "# Function receives object,accesses its attributes"
   ]
  },
  {
   "cell_type": "code",
   "execution_count": 65,
   "metadata": {},
   "outputs": [
    {
     "name": "stdout",
     "output_type": "stream",
     "text": [
      "Hello Girish sir\n"
     ]
    }
   ],
   "source": [
    "class Customer:\n",
    "\n",
    "    def __init__(self,name,gender):\n",
    "        self.name = name\n",
    "        self.gender = gender\n",
    "\n",
    "def greet(customer):\n",
    "    if customer.gender == 'Male':\n",
    "        print('Hello',customer.name,'sir')\n",
    "    else:\n",
    "        print('Hello',customer.name,\"ma'am\")\n",
    "\n",
    "cust = Customer('Girish','Male')\n",
    "greet(cust)"
   ]
  },
  {
   "cell_type": "markdown",
   "metadata": {},
   "source": [
    "In Python,all data types (e.g int,str,list,dict are objects)\n",
    "\n",
    "Custom class instances = objects too\n",
    "\n",
    "Everything in Python is an object and behaves uniformly"
   ]
  },
  {
   "cell_type": "code",
   "execution_count": 67,
   "metadata": {},
   "outputs": [
    {
     "name": "stdout",
     "output_type": "stream",
     "text": [
      "Hello Pinku ma'am\n",
      "Girish\n"
     ]
    }
   ],
   "source": [
    "class Customer:\n",
    "\n",
    "    def __init__(self,name,gender):\n",
    "        self.name = name\n",
    "        self.gender = gender\n",
    "\n",
    "    def greet(customer):\n",
    "        if customer.gender == 'Male':\n",
    "            print('Hello',customer.name,'sir')\n",
    "        else:\n",
    "            print('Hello',customer.name,\"ma'am\")\n",
    "\n",
    "        cust2 = Customer('Girish','Male')\n",
    "        return cust2\n",
    "\n",
    "    cust = Customer('Pinku','Female')\n",
    "    new_cust = greet(cust)\n",
    "    print(new_cust.name)"
   ]
  },
  {
   "cell_type": "markdown",
   "metadata": {},
   "source": [
    "#### Learned 2 Concepts\n",
    "\n",
    "1. Class 'Object' as Argument : Pass own class objects as function arguments\n",
    "\n",
    "2. Class Object as Return : Functions can return class objects\n",
    "\n",
    "Custom class objects = int,str,dict,list in behaviour"
   ]
  },
  {
   "cell_type": "code",
   "execution_count": 68,
   "metadata": {},
   "outputs": [
    {
     "name": "stdout",
     "output_type": "stream",
     "text": [
      "4445228944\n"
     ]
    }
   ],
   "source": [
    "# Pass by reference\n",
    "\n",
    "class Customer:\n",
    "    def __init__(self,name):\n",
    "        self.name = name\n",
    "\n",
    "def greet(customer):\n",
    "    pass\n",
    "\n",
    "cust = Customer('Pallavi')\n",
    "print(id(cust))"
   ]
  },
  {
   "cell_type": "code",
   "execution_count": 69,
   "metadata": {},
   "outputs": [
    {
     "name": "stdout",
     "output_type": "stream",
     "text": [
      "4441331088\n",
      "4441331088\n"
     ]
    }
   ],
   "source": [
    "class Customer:\n",
    "    def __init__(self,name):\n",
    "        self.name = name\n",
    "\n",
    "def greet(customer):\n",
    "    print(id(customer))\n",
    "\n",
    "cust = Customer('Pallavi')\n",
    "print(id(cust))\n",
    "\n",
    "greet(cust)"
   ]
  },
  {
   "cell_type": "code",
   "execution_count": 70,
   "metadata": {},
   "outputs": [],
   "source": [
    "# Aliasing\n",
    "\n",
    "a = 3\n",
    "b = a"
   ]
  },
  {
   "cell_type": "code",
   "execution_count": 71,
   "metadata": {},
   "outputs": [
    {
     "data": {
      "text/plain": [
       "4364463536"
      ]
     },
     "execution_count": 71,
     "metadata": {},
     "output_type": "execute_result"
    }
   ],
   "source": [
    "id(a)"
   ]
  },
  {
   "cell_type": "code",
   "execution_count": 72,
   "metadata": {},
   "outputs": [
    {
     "data": {
      "text/plain": [
       "4364463536"
      ]
     },
     "execution_count": 72,
     "metadata": {},
     "output_type": "execute_result"
    }
   ],
   "source": [
    "id(b)"
   ]
  },
  {
   "cell_type": "code",
   "execution_count": null,
   "metadata": {},
   "outputs": [],
   "source": [
    "(customer)----->(Object)<--------(cust)\n",
    "|                                     |\n",
    "|                                     |\n",
    "|                                     |\n",
    "+---------------(greet)---------------+"
   ]
  },
  {
   "cell_type": "code",
   "execution_count": 74,
   "metadata": {},
   "outputs": [
    {
     "name": "stdout",
     "output_type": "stream",
     "text": [
      "Girish\n"
     ]
    }
   ],
   "source": [
    "class Customer:\n",
    "    def __init__(self,name):\n",
    "        self.name = name\n",
    "\n",
    "def greet(customer):\n",
    "    customer.name = 'Girish'\n",
    "    print(cust.name)\n",
    "\n",
    "cust = Customer('Pallavi')\n",
    "greet(cust)"
   ]
  },
  {
   "cell_type": "code",
   "execution_count": 75,
   "metadata": {},
   "outputs": [
    {
     "name": "stdout",
     "output_type": "stream",
     "text": [
      "Girish\n",
      "Girish\n"
     ]
    }
   ],
   "source": [
    "class Customer:\n",
    "\n",
    "    def __init__(self,name):\n",
    "        self.name = name\n",
    "\n",
    "def greet(customer):\n",
    "    customer.name = 'Girish'\n",
    "    print(customer.name)\n",
    "\n",
    "cust = Customer('Hridayesh')\n",
    "greet(cust)\n",
    "print(cust.name)"
   ]
  },
  {
   "cell_type": "code",
   "execution_count": null,
   "metadata": {},
   "outputs": [],
   "source": [
    "# Object mutation in functions :\n",
    "\n",
    "Passing obj to func --> func modifies obj --> Original object reflects changes"
   ]
  },
  {
   "cell_type": "code",
   "execution_count": 76,
   "metadata": {},
   "outputs": [
    {
     "name": "stdout",
     "output_type": "stream",
     "text": [
      "4447197648\n",
      "4447197648\n",
      "Girish\n",
      "4447197648\n",
      "Girish\n"
     ]
    }
   ],
   "source": [
    "class Customer:\n",
    "\n",
    "    def __init__(self,name):\n",
    "        self.name = name\n",
    "\n",
    "def greet(customer):\n",
    "    print(id(customer))\n",
    "    customer.name = 'Girish'\n",
    "    print(customer.name)\n",
    "    print(id(customer))\n",
    "\n",
    "cust = Customer('Hridayesh')\n",
    "print(id(cust))\n",
    "greet(cust)\n",
    "print(cust.name)"
   ]
  },
  {
   "cell_type": "markdown",
   "metadata": {},
   "source": [
    "class objects are mutable like list,dict sets"
   ]
  },
  {
   "cell_type": "code",
   "execution_count": 77,
   "metadata": {},
   "outputs": [
    {
     "name": "stdout",
     "output_type": "stream",
     "text": [
      "4448158400\n",
      "[1, 2, 3, 4]\n",
      "4448158400\n",
      "4448158400\n",
      "[1, 2, 3, 4, 5]\n"
     ]
    }
   ],
   "source": [
    "def change(L):\n",
    "    print(id(L))\n",
    "    L.append(5)\n",
    "    print(id(L))\n",
    "\n",
    "L1 = [1,2,3,4]\n",
    "print(id(L1))\n",
    "print(L1)\n",
    "\n",
    "change(L1)\n",
    "print(L1)"
   ]
  },
  {
   "cell_type": "code",
   "execution_count": 78,
   "metadata": {},
   "outputs": [
    {
     "name": "stdout",
     "output_type": "stream",
     "text": [
      "4441661888\n",
      "[1, 2, 3, 4]\n",
      "4443134464\n",
      "4443134464\n",
      "[1, 2, 3, 4]\n"
     ]
    }
   ],
   "source": [
    "def change(L):\n",
    "    print(id(L))\n",
    "    L.append(5)\n",
    "    print(id(L))\n",
    "\n",
    "L1 = [1,2,3,4]\n",
    "print(id(L1))\n",
    "print(L1)\n",
    "\n",
    "change(L1[:])\n",
    "\n",
    "print(L1)"
   ]
  },
  {
   "cell_type": "markdown",
   "metadata": {},
   "source": [
    "#### Funciton Call : List passing\n",
    "\n",
    "Avoud passing original list;inter operations may alter the original list\n",
    "\n",
    "Use 'cloning' to prevent external changes"
   ]
  },
  {
   "cell_type": "code",
   "execution_count": 1,
   "metadata": {},
   "outputs": [
    {
     "name": "stdout",
     "output_type": "stream",
     "text": [
      "4423106784\n",
      "(1, 2, 3, 4)\n",
      "4423106784\n",
      "4427845440\n",
      "(1, 2, 3, 4)\n"
     ]
    }
   ],
   "source": [
    "def change(L):\n",
    "    print(id(L))\n",
    "    L = L + (5,6)\n",
    "    print(id(L))\n",
    "\n",
    "L1 = (1,2,3,4)\n",
    "print(id(L1))\n",
    "print(L1)\n",
    "\n",
    "change(L1)\n",
    "\n",
    "print(L1)"
   ]
  },
  {
   "cell_type": "code",
   "execution_count": null,
   "metadata": {},
   "outputs": [],
   "source": [
    "Conclusion : In pass by reference ,changes to mutable data types (objects) affect the original.But in\n",
    "            immutable types,no effect on the original list(int,str) when passed"
   ]
  },
  {
   "cell_type": "markdown",
   "metadata": {},
   "source": [
    "#### Collection of Objects"
   ]
  },
  {
   "cell_type": "code",
   "execution_count": 2,
   "metadata": {},
   "outputs": [
    {
     "name": "stdout",
     "output_type": "stream",
     "text": [
      "<__main__.Customer object at 0x11803e3d0>\n",
      "<__main__.Customer object at 0x11808a610>\n",
      "<__main__.Customer object at 0x11811a150>\n"
     ]
    }
   ],
   "source": [
    "class Customer:\n",
    "    def __init__(self,name,age):\n",
    "        self.name = name\n",
    "        self.age = age\n",
    "\n",
    "c1 = Customer('Girish',50)\n",
    "c2 = Customer('Hridayesh',19)\n",
    "c3 = Customer('Pallavi',44)\n",
    "\n",
    "L = [c1,c2,c3]\n",
    "\n",
    "for i in L:\n",
    "    print(i)"
   ]
  },
  {
   "cell_type": "code",
   "execution_count": 3,
   "metadata": {},
   "outputs": [
    {
     "name": "stdout",
     "output_type": "stream",
     "text": [
      "Girish 50\n",
      "Hridayesh 19\n",
      "Pallavi 44\n"
     ]
    }
   ],
   "source": [
    "for i in L:\n",
    "    print(i.name,i.age)"
   ]
  },
  {
   "cell_type": "code",
   "execution_count": 4,
   "metadata": {},
   "outputs": [
    {
     "name": "stdout",
     "output_type": "stream",
     "text": [
      "I am Girish and I am 50\n",
      "I am Hridayesh and I am 19\n",
      "I am Pallavi and I am 45\n"
     ]
    }
   ],
   "source": [
    "class Customer:\n",
    "\n",
    "    def __init__(self,name,age):\n",
    "        self.name = name\n",
    "        self.age = age\n",
    "\n",
    "    def intro(self):\n",
    "        print('I am',self.name,'and I am',self.age)\n",
    "\n",
    "c1 = Customer('Girish',50)\n",
    "c2 = Customer('Hridayesh',19)\n",
    "c3 = Customer('Pallavi',45)\n",
    "\n",
    "L = [c1,c2,c3]\n",
    "\n",
    "for i in L:\n",
    "    i.intro()"
   ]
  },
  {
   "cell_type": "code",
   "execution_count": null,
   "metadata": {},
   "outputs": [],
   "source": [
    "# Looping & objects\n",
    "\n",
    "Loop + List : treat list as objects;compatible with looping\n",
    "Dict/Tuple : Compatible with loops,same approach as lists in loops\n",
    "Sets : immutable data types only,compatible with mutable objects in Loops"
   ]
  },
  {
   "cell_type": "markdown",
   "metadata": {},
   "source": [
    "***Object Collection*** List,tuples,dicts can store custom class objects"
   ]
  },
  {
   "cell_type": "markdown",
   "metadata": {},
   "source": [
    "#### Static variables and methods"
   ]
  },
  {
   "cell_type": "code",
   "execution_count": null,
   "metadata": {},
   "outputs": [],
   "source": [
    "# Back to atm code enhancement\n",
    "# Like adding unique serial number for each user"
   ]
  },
  {
   "cell_type": "code",
   "execution_count": 7,
   "metadata": {},
   "outputs": [
    {
     "name": "stdout",
     "output_type": "stream",
     "text": [
      "pin set successfully\n"
     ]
    }
   ],
   "source": [
    "c1 = Atm()"
   ]
  },
  {
   "cell_type": "code",
   "execution_count": 8,
   "metadata": {},
   "outputs": [
    {
     "name": "stdout",
     "output_type": "stream",
     "text": [
      "pin set successfully\n"
     ]
    }
   ],
   "source": [
    "c2 = Atm()"
   ]
  },
  {
   "cell_type": "code",
   "execution_count": 9,
   "metadata": {},
   "outputs": [
    {
     "name": "stdout",
     "output_type": "stream",
     "text": [
      "pin set successfully\n"
     ]
    }
   ],
   "source": [
    "c3 = Atm()"
   ]
  },
  {
   "cell_type": "code",
   "execution_count": 10,
   "metadata": {},
   "outputs": [
    {
     "data": {
      "text/plain": [
       "1"
      ]
     },
     "execution_count": 10,
     "metadata": {},
     "output_type": "execute_result"
    }
   ],
   "source": [
    "c1.sno"
   ]
  },
  {
   "cell_type": "code",
   "execution_count": 11,
   "metadata": {},
   "outputs": [
    {
     "data": {
      "text/plain": [
       "2"
      ]
     },
     "execution_count": 11,
     "metadata": {},
     "output_type": "execute_result"
    }
   ],
   "source": [
    "c2.sno"
   ]
  },
  {
   "cell_type": "code",
   "execution_count": 12,
   "metadata": {},
   "outputs": [
    {
     "data": {
      "text/plain": [
       "3"
      ]
     },
     "execution_count": 12,
     "metadata": {},
     "output_type": "execute_result"
    }
   ],
   "source": [
    "c3.sno"
   ]
  },
  {
   "cell_type": "code",
   "execution_count": null,
   "metadata": {},
   "outputs": [],
   "source": [
    "Code Issue : Constructor Re initialisation\n",
    "\n",
    "Problem : 'self.sno' resets on each object creation\n",
    "\n",
    "'self.sno' = 0' : Re initializes on each object creation\n",
    "\n",
    "'self.sno += 1' : No persistent increment always starts at 0"
   ]
  },
  {
   "cell_type": "markdown",
   "metadata": {},
   "source": [
    "#### Variable Types\n",
    "\n",
    "1. Instance variable : unique per object (e.g pin,balance,GPA)\n",
    "2. Static/Class variables : Same across objects (e.g IFSC code,Degree no)"
   ]
  },
  {
   "cell_type": "code",
   "execution_count": null,
   "metadata": {},
   "outputs": [],
   "source": [
    "# Now for this ATM code we will create a static variable\n",
    "\n",
    "Note : Static variable is defined outside constructor\n",
    "       Instance variable is defined in constructor"
   ]
  },
  {
   "cell_type": "code",
   "execution_count": null,
   "metadata": {},
   "outputs": [],
   "source": [
    "To access instance var --> 'self.var'\n",
    "\n",
    "To access class/static var --> 'Class.var'\n",
    "\n",
    "'self.sno' = 'Atm.counter'\n",
    "\n",
    "'Atm.counter' += 1"
   ]
  },
  {
   "cell_type": "code",
   "execution_count": 13,
   "metadata": {},
   "outputs": [
    {
     "name": "stdout",
     "output_type": "stream",
     "text": [
      "pin set successfully\n"
     ]
    }
   ],
   "source": [
    "c1 = Atm()"
   ]
  },
  {
   "cell_type": "code",
   "execution_count": 14,
   "metadata": {},
   "outputs": [
    {
     "name": "stdout",
     "output_type": "stream",
     "text": [
      "pin set successfully\n"
     ]
    }
   ],
   "source": [
    "c2 = Atm()"
   ]
  },
  {
   "cell_type": "code",
   "execution_count": 16,
   "metadata": {},
   "outputs": [
    {
     "name": "stdout",
     "output_type": "stream",
     "text": [
      "pin set successfully\n"
     ]
    }
   ],
   "source": [
    "c3 = Atm()"
   ]
  },
  {
   "cell_type": "code",
   "execution_count": 17,
   "metadata": {},
   "outputs": [
    {
     "data": {
      "text/plain": [
       "4"
      ]
     },
     "execution_count": 17,
     "metadata": {},
     "output_type": "execute_result"
    }
   ],
   "source": [
    "c1.sno"
   ]
  },
  {
   "cell_type": "code",
   "execution_count": 18,
   "metadata": {},
   "outputs": [
    {
     "data": {
      "text/plain": [
       "5"
      ]
     },
     "execution_count": 18,
     "metadata": {},
     "output_type": "execute_result"
    }
   ],
   "source": [
    "c2.sno"
   ]
  },
  {
   "cell_type": "code",
   "execution_count": 19,
   "metadata": {},
   "outputs": [
    {
     "data": {
      "text/plain": [
       "6"
      ]
     },
     "execution_count": 19,
     "metadata": {},
     "output_type": "execute_result"
    }
   ],
   "source": [
    "c3.sno"
   ]
  },
  {
   "cell_type": "code",
   "execution_count": 20,
   "metadata": {},
   "outputs": [
    {
     "data": {
      "text/plain": [
       "7"
      ]
     },
     "execution_count": 20,
     "metadata": {},
     "output_type": "execute_result"
    }
   ],
   "source": [
    "c3.get_counter()"
   ]
  },
  {
   "cell_type": "code",
   "execution_count": 21,
   "metadata": {},
   "outputs": [
    {
     "data": {
      "text/plain": [
       "7"
      ]
     },
     "execution_count": 21,
     "metadata": {},
     "output_type": "execute_result"
    }
   ],
   "source": [
    "c2.get_counter()"
   ]
  },
  {
   "cell_type": "code",
   "execution_count": 22,
   "metadata": {},
   "outputs": [
    {
     "data": {
      "text/plain": [
       "7"
      ]
     },
     "execution_count": 22,
     "metadata": {},
     "output_type": "execute_result"
    }
   ],
   "source": [
    "c1.get_counter()"
   ]
  },
  {
   "cell_type": "code",
   "execution_count": 23,
   "metadata": {},
   "outputs": [
    {
     "data": {
      "text/plain": [
       "7"
      ]
     },
     "execution_count": 23,
     "metadata": {},
     "output_type": "execute_result"
    }
   ],
   "source": [
    "Atm.get_counter()"
   ]
  },
  {
   "cell_type": "markdown",
   "metadata": {},
   "source": [
    "#### Static variables Need\n",
    "\n",
    "- Shared data (e.g bank,college name)\n",
    "- Object wise counters\n",
    "- Use static variables for shared/static data"
   ]
  },
  {
   "cell_type": "code",
   "execution_count": 24,
   "metadata": {},
   "outputs": [
    {
     "data": {
      "text/plain": [
       "7"
      ]
     },
     "execution_count": 24,
     "metadata": {},
     "output_type": "execute_result"
    }
   ],
   "source": [
    "Atm.get_counter()"
   ]
  },
  {
   "cell_type": "code",
   "execution_count": 25,
   "metadata": {},
   "outputs": [
    {
     "name": "stdout",
     "output_type": "stream",
     "text": [
      "Not Allowed\n"
     ]
    }
   ],
   "source": [
    "Atm.set_counter('jdjdj')"
   ]
  },
  {
   "cell_type": "code",
   "execution_count": null,
   "metadata": {},
   "outputs": [],
   "source": [
    "# Solution --> Add '__counter' = 1 in Atm class\n",
    "\n",
    "def __init__(self):\n",
    "    self.__pin = ''\n",
    "    self.__balance = 0\n",
    "    self.sno = Atm.__counter\n",
    "    Atm.__counter += 1\n",
    "\n",
    "# Changes now immutable\n",
    "# But need to update the couter functionality\n",
    "\n",
    "def get_counter(self):\n",
    "    return Atm.__counter\n",
    "\n",
    "def set_counter(self):\n",
    "    if isinstance(new,int):\n",
    "        Atm.__counter = new\n",
    "    else:\n",
    "        print('Not allowed')"
   ]
  },
  {
   "cell_type": "code",
   "execution_count": 26,
   "metadata": {},
   "outputs": [
    {
     "data": {
      "text/plain": [
       "7"
      ]
     },
     "execution_count": 26,
     "metadata": {},
     "output_type": "execute_result"
    }
   ],
   "source": [
    "Atm.get_counter()"
   ]
  },
  {
   "cell_type": "code",
   "execution_count": null,
   "metadata": {},
   "outputs": [],
   "source": [
    "# Static Methods :\n",
    "\n",
    "In get_counter() : no self needed uses class vars\n",
    "Static methods dont take self;use @staticmethod decorator\n",
    "\n",
    "@static method --> method that doesnt require object instance for access\n",
    "\n",
    "@staticmethod\n",
    "def get_counter():\n",
    "    return Atm.__counter\n",
    "\n",
    "@staticmethod\n",
    "def set_counter(new):\n",
    "    if type(new) == int:\n",
    "        Atm.counter = new\n",
    "    else:\n",
    "        print('Not allowed')"
   ]
  },
  {
   "cell_type": "code",
   "execution_count": 27,
   "metadata": {},
   "outputs": [
    {
     "data": {
      "text/plain": [
       "7"
      ]
     },
     "execution_count": 27,
     "metadata": {},
     "output_type": "execute_result"
    }
   ],
   "source": [
    "Atm.get_counter()"
   ]
  },
  {
   "cell_type": "code",
   "execution_count": 28,
   "metadata": {},
   "outputs": [],
   "source": [
    "Atm.set_counter(5)"
   ]
  },
  {
   "cell_type": "code",
   "execution_count": 29,
   "metadata": {},
   "outputs": [
    {
     "data": {
      "text/plain": [
       "5"
      ]
     },
     "execution_count": 29,
     "metadata": {},
     "output_type": "execute_result"
    }
   ],
   "source": [
    "Atm.get_counter()"
   ]
  },
  {
   "cell_type": "markdown",
   "metadata": {},
   "source": [
    "@staticmethods --> Accessed w/o objects used for static vars"
   ]
  },
  {
   "cell_type": "markdown",
   "metadata": {},
   "source": [
    "#### Class Relationship - Aggregation"
   ]
  },
  {
   "cell_type": "code",
   "execution_count": null,
   "metadata": {},
   "outputs": [],
   "source": [
    "So far,used only Single class\n",
    "But in real world scenario i.e \n",
    "Large Apps --> involves multiple classes --> involves complex inter class relationships"
   ]
  },
  {
   "cell_type": "markdown",
   "metadata": {},
   "source": [
    "#### relationships\n",
    "\n",
    "1. Aggregation (has-a)\n",
    "2. Inheritance (is-a)"
   ]
  },
  {
   "cell_type": "code",
   "execution_count": null,
   "metadata": {},
   "outputs": [],
   "source": [
    "# Aggregation Ex :\n",
    "\n",
    "Customer --> Has-A --> Address\n",
    "\n",
    "# Inheritance Ex:\n",
    "\n",
    "Smartphone --> Is-a --> Product\n",
    "\n",
    "Car --> Is-A --> Vehicle\n"
   ]
  },
  {
   "cell_type": "code",
   "execution_count": null,
   "metadata": {},
   "outputs": [],
   "source": [
    "Class Diagram - Aggregation:\n",
    "\n",
    "+--------------------+          1          +-------------------+\n",
    "|     Department     |<------------------->|     Employee      |\n",
    "+--------------------+                     +-------------------+\n",
    "| - name: str        |                     | - name: str       |\n",
    "| - location: str    |                     | - employeeID: int |\n",
    "+--------------------+                     +-------------------+\n",
    "| + addEmployee()    |                     | + getDetails()    |\n",
    "| + removeEmployee() |                     | + updateDetails() |\n",
    "+--------------------+                     +-------------------+\n",
    "         1..*                                       1..*        \n"
   ]
  },
  {
   "cell_type": "code",
   "execution_count": 30,
   "metadata": {},
   "outputs": [
    {
     "name": "stdout",
     "output_type": "stream",
     "text": [
      "<__main__.Address object at 0x1180b82d0>\n"
     ]
    }
   ],
   "source": [
    "class Customer:\n",
    "\n",
    "    def __init__(self,name,gender,address):\n",
    "        self.name = name\n",
    "        self.gender = gender\n",
    "        self.address = address\n",
    "\n",
    "class Address:\n",
    "\n",
    "    def __init__(self,city,pincode,state):\n",
    "        self.city = city\n",
    "        self.pincode = pincode\n",
    "        self.state = staticmethod\n",
    "\n",
    "add = Address('Mumbai','400080','MH')\n",
    "cust = Customer('Girish','Male',add)\n",
    "\n",
    "print(cust.address)"
   ]
  },
  {
   "cell_type": "code",
   "execution_count": 31,
   "metadata": {},
   "outputs": [
    {
     "name": "stdout",
     "output_type": "stream",
     "text": [
      "Mumbai\n"
     ]
    }
   ],
   "source": [
    "print(cust.address.city)"
   ]
  },
  {
   "cell_type": "code",
   "execution_count": 32,
   "metadata": {},
   "outputs": [
    {
     "name": "stdout",
     "output_type": "stream",
     "text": [
      "400080\n"
     ]
    }
   ],
   "source": [
    "print(cust.address.pincode)"
   ]
  },
  {
   "cell_type": "markdown",
   "metadata": {},
   "source": [
    "When creating an object if another object is passed the new object behaves like the passed one"
   ]
  },
  {
   "cell_type": "code",
   "execution_count": 33,
   "metadata": {},
   "outputs": [
    {
     "name": "stdout",
     "output_type": "stream",
     "text": [
      "12345\n"
     ]
    }
   ],
   "source": [
    "class Customer:\n",
    "\n",
    "    def __init__(self,name,gender,address):\n",
    "        self.name = name\n",
    "        self.gender = gender\n",
    "        self.address = address\n",
    "\n",
    "    def edit_profile(self,new_name,new_city,new_pin,new_state):\n",
    "        self.name = new_name\n",
    "        self.address.change_address(new_city,new_pin,new_state)\n",
    "\n",
    "class Address:\n",
    "\n",
    "    def __init__(self,city,pincode,state):\n",
    "        self.city = city\n",
    "        self.pincode = pincode\n",
    "        self.state = staticmethod\n",
    "    \n",
    "    def change_address(self,new_city,new_pin,new_state):\n",
    "        self.city = new_city\n",
    "        self.pincode = new_pin\n",
    "        self.state = new_state\n",
    "\n",
    "add = Address('Mumbai',400080,'MH')\n",
    "cust = Customer('Girish','Male',add)\n",
    "cust.edit_profile('Hridayesh','Pune',12345,'Maharashtra')\n",
    "print(cust.address.pincode)\n",
    "\n",
    "#' Customer class non functional\n",
    "# Relies on address class for operations"
   ]
  },
  {
   "cell_type": "markdown",
   "metadata": {},
   "source": [
    "#### Inheritance\n",
    "\n",
    "Real world concept : means to inherit"
   ]
  },
  {
   "cell_type": "code",
   "execution_count": null,
   "metadata": {},
   "outputs": [],
   "source": [
    "OOP -> Real world problem solving\n",
    "Aligns with rel-world concepts"
   ]
  },
  {
   "cell_type": "markdown",
   "metadata": {},
   "source": [
    "#### Inheritance Benefits\n",
    "\n",
    "DRY Principle : Dont Repeat Yourself\n",
    "\n",
    "Avoid redundant code,reuse existing code via inheritance\n",
    "\n",
    "#### Inheritance Code Reusability\n",
    "\n",
    "Saves Time,Consice,Optimized Code,effective"
   ]
  },
  {
   "cell_type": "code",
   "execution_count": null,
   "metadata": {},
   "outputs": [],
   "source": [
    "# Note : Inheritance Direction --> Upward\n",
    "\n",
    "Ex --> 'Student' inherits from 'User' (e.g login,registration)\n",
    "        'User' cannot inherit from 'Student'\n",
    "\n",
    "i.e child inherits properties/data from Parent"
   ]
  },
  {
   "cell_type": "code",
   "execution_count": null,
   "metadata": {},
   "outputs": [],
   "source": [
    "In Inheritance,\n",
    "\n",
    "Child Inherits --> Data members,methods and constructor\n",
    "               --> Doesnt inherit private members"
   ]
  },
  {
   "cell_type": "code",
   "execution_count": 34,
   "metadata": {},
   "outputs": [
    {
     "name": "stdout",
     "output_type": "stream",
     "text": [
      "Enroll\n",
      "Review\n",
      "login\n",
      "register\n"
     ]
    }
   ],
   "source": [
    "class User: # parent\n",
    "\n",
    "    def login(self):\n",
    "        print('login')\n",
    "\n",
    "    def register(self):\n",
    "        print('register')\n",
    "\n",
    "class Student(User): # Child\n",
    "\n",
    "    def enroll(self):\n",
    "        print('Enroll')\n",
    "\n",
    "    def review(self):\n",
    "        print('Review')\n",
    "\n",
    "stu1 = Student()\n",
    "\n",
    "stu1.enroll()\n",
    "stu1.review()\n",
    "stu1.login()\n",
    "stu1.register()"
   ]
  },
  {
   "cell_type": "code",
   "execution_count": 36,
   "metadata": {},
   "outputs": [
    {
     "ename": "AttributeError",
     "evalue": "'User' object has no attribute 'enroll'",
     "output_type": "error",
     "traceback": [
      "\u001b[0;31m---------------------------------------------------------------------------\u001b[0m",
      "\u001b[0;31mAttributeError\u001b[0m                            Traceback (most recent call last)",
      "Cell \u001b[0;32mIn[36], line 22\u001b[0m\n\u001b[1;32m     18\u001b[0m         \u001b[38;5;28mprint\u001b[39m(\u001b[38;5;124m'\u001b[39m\u001b[38;5;124mReview\u001b[39m\u001b[38;5;124m'\u001b[39m)\n\u001b[1;32m     20\u001b[0m u \u001b[38;5;241m=\u001b[39m User()\n\u001b[0;32m---> 22\u001b[0m \u001b[43mu\u001b[49m\u001b[38;5;241;43m.\u001b[39;49m\u001b[43menroll\u001b[49m()\n\u001b[1;32m     23\u001b[0m u\u001b[38;5;241m.\u001b[39mreview()\n\u001b[1;32m     24\u001b[0m u\u001b[38;5;241m.\u001b[39mlogin()\n",
      "\u001b[0;31mAttributeError\u001b[0m: 'User' object has no attribute 'enroll'"
     ]
    }
   ],
   "source": [
    "# The reverse is not true\n",
    "# i.e parent cant access child\n",
    "\n",
    "class User: #parent\n",
    "\n",
    "    def login(self):\n",
    "        print('login')\n",
    "\n",
    "    def register(self):\n",
    "        print('register')\n",
    "\n",
    "class Student(User): # Child\n",
    "\n",
    "    def enroll(self):\n",
    "        print('Enroll')\n",
    "\n",
    "    def review(self):\n",
    "        print('Review')\n",
    "\n",
    "u = User()\n",
    "\n",
    "u.enroll()\n",
    "u.review()\n",
    "u.login()\n",
    "u.register()\n"
   ]
  },
  {
   "cell_type": "code",
   "execution_count": null,
   "metadata": {},
   "outputs": [],
   "source": [
    "Class Diagram - Inheritence:\n",
    "\n",
    "               +-------------+\n",
    "               |   Animal    |\n",
    "               +-------------+\n",
    "               | - name: str |\n",
    "               | - age: int  |\n",
    "               +-------------+\n",
    "               | + eat()     |\n",
    "               | + sleep()   |\n",
    "               +-------------+\n",
    "              /       |       \\\n",
    "             /        |        \\\n",
    "            /         |         \\\n",
    "+----------+     +----------+    +---------+\n",
    "|   Dog    |     |   Cat    |    | Hamster |\n",
    "+----------+     +----------+    +---------+\n",
    "| - breed  |     | - color  |    | - size  |\n",
    "+----------+     +----------+    +---------+\n",
    "| + bark() |     | + meow() |    | + run() |\n",
    "+----------+     +----------+    +---------+"
   ]
  },
  {
   "cell_type": "markdown",
   "metadata": {},
   "source": [
    "#### Ex1 - Inheriting Constructor"
   ]
  },
  {
   "cell_type": "code",
   "execution_count": 37,
   "metadata": {},
   "outputs": [
    {
     "name": "stdout",
     "output_type": "stream",
     "text": [
      "Inside phone constructor\n"
     ]
    }
   ],
   "source": [
    "# Constructor ex\n",
    "\n",
    "class Phone:\n",
    "\n",
    "    def __init__(self,price,brand,camera):\n",
    "        print('Inside phone constructor')\n",
    "        self.price = price\n",
    "        self.brand = brand\n",
    "        self.camera = camera\n",
    "\n",
    "class SmartPhone(Phone):\n",
    "    pass\n",
    "\n",
    "s = SmartPhone(20000,'Apple',13)"
   ]
  },
  {
   "cell_type": "code",
   "execution_count": 38,
   "metadata": {},
   "outputs": [
    {
     "name": "stdout",
     "output_type": "stream",
     "text": [
      "Apple\n"
     ]
    }
   ],
   "source": [
    "print(s.brand)"
   ]
  },
  {
   "cell_type": "code",
   "execution_count": null,
   "metadata": {},
   "outputs": [],
   "source": [
    "'class B' inherits 'class A'\n",
    "\n",
    "No constructor in 'B' --> 'A''s constructor is invoked\n",
    "\n",
    "Parent class constructor is used if child lacks one"
   ]
  },
  {
   "cell_type": "markdown",
   "metadata": {},
   "source": [
    "#### Ex 2 : Inheriting private members"
   ]
  },
  {
   "cell_type": "code",
   "execution_count": 39,
   "metadata": {},
   "outputs": [
    {
     "name": "stdout",
     "output_type": "stream",
     "text": [
      "Inside phone constructor\n"
     ]
    },
    {
     "ename": "AttributeError",
     "evalue": "'SmartPhone' object has no attribute '__brand'",
     "output_type": "error",
     "traceback": [
      "\u001b[0;31m---------------------------------------------------------------------------\u001b[0m",
      "\u001b[0;31mAttributeError\u001b[0m                            Traceback (most recent call last)",
      "Cell \u001b[0;32mIn[39], line 14\u001b[0m\n\u001b[1;32m     10\u001b[0m     \u001b[38;5;28;01mpass\u001b[39;00m\n\u001b[1;32m     12\u001b[0m s \u001b[38;5;241m=\u001b[39m SmartPhone(\u001b[38;5;241m20000\u001b[39m,\u001b[38;5;124m'\u001b[39m\u001b[38;5;124mApple\u001b[39m\u001b[38;5;124m'\u001b[39m,\u001b[38;5;241m13\u001b[39m)\n\u001b[0;32m---> 14\u001b[0m \u001b[38;5;28mprint\u001b[39m(\u001b[43ms\u001b[49m\u001b[38;5;241;43m.\u001b[39;49m\u001b[43m__brand\u001b[49m)\n",
      "\u001b[0;31mAttributeError\u001b[0m: 'SmartPhone' object has no attribute '__brand'"
     ]
    }
   ],
   "source": [
    "class Phone:\n",
    "\n",
    "    def __init__(self,price,brand,camera):\n",
    "        print('Inside phone constructor')\n",
    "        self.price = price\n",
    "        self.__brand = brand\n",
    "        self.camera = camera\n",
    "\n",
    "class SmartPhone(Phone):\n",
    "    pass\n",
    "\n",
    "s = SmartPhone(20000,'Apple',13)\n",
    "\n",
    "print(s.__brand)"
   ]
  },
  {
   "cell_type": "markdown",
   "metadata": {},
   "source": [
    "Hidden members not accessible by child class\n",
    "\n",
    "#### Polymorphism\n",
    "\n",
    "Ex-3 Polymorphism"
   ]
  },
  {
   "cell_type": "code",
   "execution_count": 40,
   "metadata": {},
   "outputs": [
    {
     "name": "stdout",
     "output_type": "stream",
     "text": [
      "Inside phone constructor\n",
      "Buying smart phone\n"
     ]
    }
   ],
   "source": [
    "# Method overriding\n",
    "\n",
    "class Phone:\n",
    "\n",
    "    def __init__(self,price,brand,camera):\n",
    "        print('Inside phone constructor')\n",
    "        self.__price = price\n",
    "        self.brand = brand\n",
    "        self.camera = camera\n",
    "\n",
    "    def buy(self):\n",
    "        print('Buying a phone')\n",
    "\n",
    "class SmartPhone(Phone):\n",
    "    \n",
    "    def buy(self):\n",
    "        print('Buying smart phone')\n",
    "\n",
    "s = SmartPhone(20000,'Apple',13)\n",
    "s.buy()\n"
   ]
  },
  {
   "cell_type": "markdown",
   "metadata": {},
   "source": [
    "#### Method overriding\n",
    "\n",
    "Child Class method overrides Parent class method if they have the same name\n",
    "\n",
    "Child Class method is called in case of name conflict\n",
    "\n",
    "Parent Class method is overridden by child class method\n",
    "\n",
    "#### Polymorphism\n",
    "\n",
    "* Method overriding\n",
    "* Method Overloading\n",
    "* Operator Overloading\n",
    "\n",
    "#### Ex Class Parent"
   ]
  },
  {
   "cell_type": "code",
   "execution_count": 41,
   "metadata": {},
   "outputs": [
    {
     "name": "stdout",
     "output_type": "stream",
     "text": [
      "100\n",
      "This is in child class\n"
     ]
    }
   ],
   "source": [
    "class Parent:\n",
    "\n",
    "    def __init__(self,num):\n",
    "        self.__num = num\n",
    "\n",
    "    def get_num(self):\n",
    "        return self.__num\n",
    "\n",
    "class Child(Parent):\n",
    "\n",
    "    def show(self):\n",
    "        print('This is in child class')\n",
    "\n",
    "son = Child(100)\n",
    "print(son.get_num())\n",
    "\n",
    "son.show()"
   ]
  },
  {
   "cell_type": "markdown",
   "metadata": {},
   "source": [
    "#### Ex - 2"
   ]
  },
  {
   "cell_type": "code",
   "execution_count": 42,
   "metadata": {},
   "outputs": [
    {
     "ename": "AttributeError",
     "evalue": "'Child' object has no attribute '_Parent__num'",
     "output_type": "error",
     "traceback": [
      "\u001b[0;31m---------------------------------------------------------------------------\u001b[0m",
      "\u001b[0;31mAttributeError\u001b[0m                            Traceback (most recent call last)",
      "Cell \u001b[0;32mIn[42], line 18\u001b[0m\n\u001b[1;32m     15\u001b[0m         \u001b[38;5;28;01mreturn\u001b[39;00m \u001b[38;5;28mself\u001b[39m\u001b[38;5;241m.\u001b[39m__val\n\u001b[1;32m     17\u001b[0m son \u001b[38;5;241m=\u001b[39m Child(\u001b[38;5;241m100\u001b[39m,\u001b[38;5;241m10\u001b[39m)\n\u001b[0;32m---> 18\u001b[0m \u001b[38;5;28mprint\u001b[39m(\u001b[38;5;124m'\u001b[39m\u001b[38;5;124mParent : Num\u001b[39m\u001b[38;5;124m'\u001b[39m,\u001b[43mson\u001b[49m\u001b[38;5;241;43m.\u001b[39;49m\u001b[43mget_num\u001b[49m\u001b[43m(\u001b[49m\u001b[43m)\u001b[49m)\n\u001b[1;32m     19\u001b[0m \u001b[38;5;28mprint\u001b[39m(\u001b[38;5;124m'\u001b[39m\u001b[38;5;124mChild: Val\u001b[39m\u001b[38;5;124m'\u001b[39m,son\u001b[38;5;241m.\u001b[39mget_val())\n",
      "Cell \u001b[0;32mIn[42], line 7\u001b[0m, in \u001b[0;36mParent.get_num\u001b[0;34m(self)\u001b[0m\n\u001b[1;32m      6\u001b[0m \u001b[38;5;28;01mdef\u001b[39;00m \u001b[38;5;21mget_num\u001b[39m(\u001b[38;5;28mself\u001b[39m):\n\u001b[0;32m----> 7\u001b[0m     \u001b[38;5;28;01mreturn\u001b[39;00m \u001b[38;5;28;43mself\u001b[39;49m\u001b[38;5;241;43m.\u001b[39;49m\u001b[43m__num\u001b[49m\n",
      "\u001b[0;31mAttributeError\u001b[0m: 'Child' object has no attribute '_Parent__num'"
     ]
    }
   ],
   "source": [
    "class Parent:\n",
    "\n",
    "    def __init__(self,num):\n",
    "        self.__num = num\n",
    "\n",
    "    def get_num(self):\n",
    "        return self.__num\n",
    "\n",
    "class Child(Parent):\n",
    "\n",
    "    def __init__(self,val,num):\n",
    "        self.__val = val\n",
    "\n",
    "    def get_val(self):\n",
    "        return self.__val\n",
    "\n",
    "son = Child(100,10)\n",
    "print('Parent : Num',son.get_num())\n",
    "print('Child: Val',son.get_val())"
   ]
  },
  {
   "cell_type": "code",
   "execution_count": null,
   "metadata": {},
   "outputs": [],
   "source": [
    "No Chld Constructor --> Parent Constructor invoked automatically\n",
    "\n",
    "Child constructor present --> Parent Constructor not called"
   ]
  },
  {
   "cell_type": "markdown",
   "metadata": {},
   "source": [
    "#### Ex - 3"
   ]
  },
  {
   "cell_type": "code",
   "execution_count": 43,
   "metadata": {},
   "outputs": [
    {
     "name": "stdout",
     "output_type": "stream",
     "text": [
      "class A : 100\n"
     ]
    }
   ],
   "source": [
    "class A:\n",
    "\n",
    "    def __init__(self):\n",
    "        self.var1 = 100\n",
    "\n",
    "    def display1(self,var1):\n",
    "        print('class A :',self.var1)\n",
    "\n",
    "class B(A):\n",
    "\n",
    "    def display2(self,var1):\n",
    "        print('class B :',self.var1)\n",
    "\n",
    "obj = B()\n",
    "obj.display1(200)"
   ]
  },
  {
   "cell_type": "markdown",
   "metadata": {},
   "source": [
    "#### Ex - Super"
   ]
  },
  {
   "cell_type": "code",
   "execution_count": 44,
   "metadata": {},
   "outputs": [
    {
     "name": "stdout",
     "output_type": "stream",
     "text": [
      "100\n",
      "200\n"
     ]
    }
   ],
   "source": [
    "class Parent:\n",
    "\n",
    "    def __init__(self,num):\n",
    "        self.__num = num\n",
    "\n",
    "    def get_num(self):\n",
    "        return self.__num\n",
    "\n",
    "class Child(Parent):\n",
    "\n",
    "    def __init__(self,num,val):\n",
    "        super().__init__(num)\n",
    "        self.__val = val\n",
    "\n",
    "    def get_val(self):\n",
    "        return self.__val\n",
    "\n",
    "son = Child(100,200)\n",
    "print(son.get_num())\n",
    "print(son.get_val())"
   ]
  },
  {
   "cell_type": "markdown",
   "metadata": {},
   "source": [
    "Access parent attribute in child class via self\n",
    "\n",
    "self = current object(son)\n",
    "\n",
    "If accessible externally,accessible internally too"
   ]
  },
  {
   "cell_type": "code",
   "execution_count": 45,
   "metadata": {},
   "outputs": [
    {
     "name": "stdout",
     "output_type": "stream",
     "text": [
      "Parent: 100\n",
      "Child: 10\n"
     ]
    }
   ],
   "source": [
    "class Parent:\n",
    "\n",
    "    def __init__(self):\n",
    "        self.__num = 100\n",
    "\n",
    "    def show(self):\n",
    "        print('Parent:',self.__num)\n",
    "\n",
    "class Child(Parent):\n",
    "\n",
    "    def __init__(self):\n",
    "        super().__init__()\n",
    "        self.__var = 10\n",
    "\n",
    "    def show(self):\n",
    "        print('Child:',self.__var)\n",
    "\n",
    "dad = Parent()\n",
    "dad.show()\n",
    "son = Child()\n",
    "son.show()"
   ]
  },
  {
   "cell_type": "markdown",
   "metadata": {},
   "source": [
    "# Inheritance Summary\n",
    "\n",
    "Class Inheritance allows one class to inherit from another,enhances code reuse\n",
    "\n",
    "Inherited members --> Constructirs,Attributes,Methods\n",
    "\n",
    "Parent cannot access Child\n",
    "\n",
    "Private members are not directly accessible in Child\n",
    "\n",
    "Child can override parents methods/attributes\n",
    "\n",
    "'super()' --> Calls parents methods/contructor"
   ]
  },
  {
   "cell_type": "markdown",
   "metadata": {},
   "source": [
    "#### Types of Inheritance\n",
    "\n",
    "1. Single Inheritance\n",
    "2. Multilevel Inheritance\n",
    "3. Hierarchial Inheritance\n",
    "4. Multiple Inheritance (Diamond Problem)\n",
    "5. Hybrid Inheritance"
   ]
  },
  {
   "cell_type": "code",
   "execution_count": null,
   "metadata": {},
   "outputs": [],
   "source": [
    "Single Inheritance       Multilevel Inheritance                  Hierarchical Inheritance\n",
    "\n",
    "+-------------+          +-------------+                         +-------------+\n",
    "|   Animal    |          |   Animal    |                         |   Animal    |\n",
    "+-------------+          +-------------+                         +-------------+\n",
    "| - name: str |          | - name: str |                         | - name: str |\n",
    "| - age: int  |          | - age: int  |                         | - age: int  |\n",
    "+-------------+          +-------------+                         +-------------+\n",
    "| + eat()     |          | + eat()     |                         | + eat()     |\n",
    "| + sleep()   |          | + sleep()   |                         | + sleep()   |  \n",
    "+-------------+          +-------------+                         +-------------+  \n",
    "       |                        |                               /       |       \\\n",
    "       |                        |                              /        |        \\\n",
    "       |                        |                             /         |         \\\n",
    "+--------------+         +--------------+         +----------+    +----------+     +---------+\n",
    "|     Dog      |         |     Pet      |         |   Dog    |    |   Cat    |     | Hamster |\n",
    "+--------------+         +--------------+         +----------+    +----------+     +---------+\n",
    "| - breed: str |         | - owner: str |         | - breed  |    | - color  |     | - size  |\n",
    "+--------------+         +--------------+         +----------+    +----------+     +---------+\n",
    "| + bark()     |         | + play()     |         | + bark() |    | + meow() |     | + run() |\n",
    "+--------------+         +--------------+         +----------+    +----------+     +---------+\n",
    "                                 |         \n",
    "                                 |   \n",
    "                                 |   \n",
    "                         +--------------+\n",
    "                         |     Dog      |\n",
    "                         +--------------+\n",
    "                         | - breed: str |\n",
    "                         +--------------+\n",
    "                         | + bark()     |\n",
    "                         +--------------+\n"
   ]
  },
  {
   "cell_type": "code",
   "execution_count": null,
   "metadata": {},
   "outputs": [],
   "source": [
    "Multiple Inheritance (Diamond Problem)\n",
    "\n",
    "     +------------------+\n",
    "     |      Animal      |\n",
    "     +------------------+\n",
    "     |   - name: str    |\n",
    "     |   - age: int     |\n",
    "     +------------------+\n",
    "     |   + eat()        |\n",
    "     |   + sleep()      |\n",
    "     +------------------+\n",
    "        /           \\\n",
    "       /             \\\n",
    "      /               \\\n",
    "+----------+     +----------+\n",
    "|   Dog    |     |   Cat    |\n",
    "+----------+     +----------+ \n",
    "| - breed  |     | - color  | \n",
    "+----------+     +----------+  \n",
    "| + bark() |     | + meow() |\n",
    "+----------+     +----------+\n",
    "      \\               /\n",
    "       \\             /\n",
    "        \\           /\n",
    "     +------------------+\n",
    "     |     PetOwner     |\n",
    "     +------------------+\n",
    "     | - ownerName: str |\n",
    "     +------------------+\n",
    "     | + feed()         |\n",
    "     | + play()         |\n",
    "     +------------------+\n",
    "\n",
    "Hybrid Inheritance\n",
    "\n",
    "                            +------------------+\n",
    "                            |      Animal      |         \n",
    "                            +------------------+\n",
    "                            |   - name: str    |          \n",
    "                            |   - age: int     |          \n",
    "                            +------------------+\n",
    "                            |   + eat()        |          \n",
    "                            |   + sleep()      |          \n",
    "                            +------------------+\n",
    "                           /                    \\\n",
    "                          /                      \\\n",
    "                         /                        \\ \n",
    "          +-------------+                          +----------------+\n",
    "          |    Dog      |                          |      Cat       |\n",
    "          +-------------+                          +----------------+ \n",
    "          |  - breed    |                          |    - color     | \n",
    "          +-------------+                          +----------------+  \n",
    "          |  + bark()   |                          |    + meow()    |\n",
    "          +-------------+                          +----------------+\n",
    "         /               \\                        /                  \\\n",
    "        /                 \\                      /                    \\\n",
    "       /                   \\                    /                      \\       \n",
    "+-------------+     +-------------+     +----------------+     +----------------+\n",
    "|  Labrador   |     |   Bulldog   |     |    Siamese     |     |    Persian     |\n",
    "+-------------+     +-------------+     +----------------+     +----------------+\n",
    "| - size: str |     | - size: str |     | - pattern: str |     | - furType: str |\n",
    "+-------------+     +-------------+     +----------------+     +----------------+\n",
    "| + fetch()   |     | + guard()   |     | + purr()       |     | + groom()      |\n",
    "+-------------+     +-------------+     +----------------+     +----------------+\n",
    "                                   \\                          /\n",
    "                                    \\                        /\n",
    "                                     \\                      / \n",
    "                                      +--------------------+\n",
    "                                      |      PetOwner      |\n",
    "                                      +--------------------+\n",
    "                                      | - ownerName: str   |\n",
    "                                      +--------------------+\n",
    "                                      | + feed()           |\n",
    "                                      | + play()           |\n",
    "                                      +--------------------+"
   ]
  },
  {
   "cell_type": "code",
   "execution_count": null,
   "metadata": {},
   "outputs": [],
   "source": [
    "# Multiple Inheritance\n",
    "\n",
    "Java --> Not supported\n",
    "\n",
    "Python --> Supported"
   ]
  },
  {
   "cell_type": "markdown",
   "metadata": {},
   "source": [
    "#### Ex - Single level Inheritance"
   ]
  },
  {
   "cell_type": "code",
   "execution_count": 47,
   "metadata": {},
   "outputs": [
    {
     "name": "stdout",
     "output_type": "stream",
     "text": [
      "Inside phone constructor\n",
      "Buying a phone\n"
     ]
    }
   ],
   "source": [
    "class Phone:\n",
    "\n",
    "    def __init__(self,price,brand,camera):\n",
    "        print('Inside phone constructor')\n",
    "        self.__price = price\n",
    "        self.brand = brand\n",
    "        self.camera = camera\n",
    "\n",
    "    def buy(self):\n",
    "        print('Buying a phone')\n",
    "\n",
    "    def return_phone(self):\n",
    "        print('returning a phone')\n",
    "\n",
    "class SmartPhone(Phone):\n",
    "    pass\n",
    "\n",
    "SmartPhone(1000,'Apple','13px').buy()"
   ]
  },
  {
   "cell_type": "markdown",
   "metadata": {},
   "source": [
    "#### Ex - Multilevel inheritance"
   ]
  },
  {
   "cell_type": "code",
   "execution_count": 48,
   "metadata": {},
   "outputs": [
    {
     "name": "stdout",
     "output_type": "stream",
     "text": [
      "Inside phone constructor\n",
      "Inside phone constructor\n",
      "Buying a phone\n",
      "Product customer review\n",
      "Product customer review\n"
     ]
    }
   ],
   "source": [
    "class Product:\n",
    "\n",
    "    def review(self):\n",
    "        print('Product customer review')\n",
    "\n",
    "class Phone(Product):\n",
    "\n",
    "    def __init__(self,price,brand,camera):\n",
    "        print('Inside phone constructor')\n",
    "        self.__price = price\n",
    "        self.brand = brand\n",
    "        self.camera = camera\n",
    "\n",
    "    def buy(self):\n",
    "        print('Buying a phone')\n",
    "\n",
    "class SmartPhone(Phone):\n",
    "    pass\n",
    "\n",
    "s = SmartPhone(20000,'Apple',12)\n",
    "p = Phone(1000,'Samsung',1)\n",
    "\n",
    "s.buy()\n",
    "s.review()\n",
    "p.review()"
   ]
  },
  {
   "cell_type": "markdown",
   "metadata": {},
   "source": [
    "#### Ex - Hierarchial Inheritance"
   ]
  },
  {
   "cell_type": "code",
   "execution_count": 49,
   "metadata": {},
   "outputs": [
    {
     "name": "stdout",
     "output_type": "stream",
     "text": [
      "Inside phone constructor\n",
      "Buying a phone\n"
     ]
    }
   ],
   "source": [
    "class Phone:\n",
    "\n",
    "    def __init__(self,price,brand,camera):\n",
    "        print('Inside phone constructor')\n",
    "        self.__price = price\n",
    "        self.brand = brand\n",
    "        self.camera = camera\n",
    "\n",
    "    def buy(self):\n",
    "        print('Buying a phone')\n",
    "\n",
    "    def return_phone(self):\n",
    "        print('Returning a phone')\n",
    "\n",
    "class SmartPhone(Phone):\n",
    "    pass\n",
    "\n",
    "class FeaturePhone(Phone):\n",
    "    pass\n",
    "\n",
    "SmartPhone(1000,'Appe','13px').buy()"
   ]
  },
  {
   "cell_type": "markdown",
   "metadata": {},
   "source": [
    "#### Ex - Multiple Inheritance"
   ]
  },
  {
   "cell_type": "code",
   "execution_count": 50,
   "metadata": {},
   "outputs": [
    {
     "name": "stdout",
     "output_type": "stream",
     "text": [
      "inside phone constructor\n",
      "Buying a phone\n",
      "Customer review\n"
     ]
    }
   ],
   "source": [
    "class Phone:\n",
    "\n",
    "    def __init__(self,price,brand,camera):\n",
    "        print('inside phone constructor')\n",
    "        self.__price = price\n",
    "        self.brand = brand\n",
    "        self.camera = camera\n",
    "\n",
    "    def buy(self):\n",
    "        print('Buying a phone')\n",
    "\n",
    "class Product:\n",
    "    \n",
    "    def review(self):\n",
    "        print('Customer review')\n",
    "\n",
    "class SmartPhone(Phone,Product):\n",
    "    pass\n",
    "\n",
    "s = SmartPhone(20000,'Apple',12)\n",
    "\n",
    "s.buy()\n",
    "s.review()"
   ]
  },
  {
   "cell_type": "markdown",
   "metadata": {},
   "source": [
    "#### MRO : Method Resolution Order"
   ]
  },
  {
   "cell_type": "code",
   "execution_count": null,
   "metadata": {},
   "outputs": [],
   "source": [
    "class Phone:\n",
    "    "
   ]
  }
 ],
 "metadata": {
  "kernelspec": {
   "display_name": "Python 3",
   "language": "python",
   "name": "python3"
  },
  "language_info": {
   "codemirror_mode": {
    "name": "ipython",
    "version": 3
   },
   "file_extension": ".py",
   "mimetype": "text/x-python",
   "name": "python",
   "nbconvert_exporter": "python",
   "pygments_lexer": "ipython3",
   "version": "3.11.6"
  }
 },
 "nbformat": 4,
 "nbformat_minor": 2
}
