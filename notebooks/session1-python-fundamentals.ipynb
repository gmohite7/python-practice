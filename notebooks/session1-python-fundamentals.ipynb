{
 "cells": [
  {
   "cell_type": "code",
   "execution_count": 1,
   "id": "91804c34-1c93-40b9-8fee-d6e0129599e8",
   "metadata": {},
   "outputs": [
    {
     "name": "stdout",
     "output_type": "stream",
     "text": [
      "Hello world\n"
     ]
    }
   ],
   "source": [
    "print('Hello world')"
   ]
  },
  {
   "cell_type": "code",
   "execution_count": 2,
   "id": "3414396b-8715-404c-86e6-426448bf7662",
   "metadata": {},
   "outputs": [
    {
     "name": "stdout",
     "output_type": "stream",
     "text": [
      "Hello 1 4.5 True\n"
     ]
    }
   ],
   "source": [
    "print('Hello',1,4.5,True)"
   ]
  },
  {
   "cell_type": "code",
   "execution_count": 3,
   "id": "9c277e19-1573-4898-ae4b-21aaf9698d81",
   "metadata": {},
   "outputs": [
    {
     "name": "stdout",
     "output_type": "stream",
     "text": [
      "Hello/1/4.5/True\n"
     ]
    }
   ],
   "source": [
    "print('Hello',1,4.5,True,sep='/')"
   ]
  },
  {
   "cell_type": "code",
   "execution_count": 4,
   "id": "3b85bf64-1816-4105-98d3-4759ca889034",
   "metadata": {},
   "outputs": [
    {
     "name": "stdout",
     "output_type": "stream",
     "text": [
      "hello#world\n"
     ]
    }
   ],
   "source": [
    "print('hello',end='#')\n",
    "print('world')"
   ]
  },
  {
   "cell_type": "code",
   "execution_count": 5,
   "id": "8bdd1af1-751e-43af-abfe-26daf37f010c",
   "metadata": {},
   "outputs": [
    {
     "name": "stdout",
     "output_type": "stream",
     "text": [
      "hello\n",
      "world\n"
     ]
    }
   ],
   "source": [
    "print('hello')\n",
    "print('world')"
   ]
  },
  {
   "cell_type": "markdown",
   "id": "0124b789-f4e5-439d-a5f5-c36f4543fce2",
   "metadata": {},
   "source": [
    "## Topic 2 : Data Types"
   ]
  },
  {
   "cell_type": "code",
   "execution_count": 6,
   "id": "9aea1779-7a41-4e43-8761-e512ffefb43a",
   "metadata": {},
   "outputs": [
    {
     "name": "stdout",
     "output_type": "stream",
     "text": [
      "8.55\n"
     ]
    }
   ],
   "source": [
    "print(8.55)"
   ]
  },
  {
   "cell_type": "code",
   "execution_count": 7,
   "id": "da93a678-8f0a-4229-b42d-2948c774cd71",
   "metadata": {},
   "outputs": [
    {
     "name": "stdout",
     "output_type": "stream",
     "text": [
      "True\n",
      "False\n"
     ]
    }
   ],
   "source": [
    "# Boolean\n",
    "print(True)\n",
    "print(False)"
   ]
  },
  {
   "cell_type": "code",
   "execution_count": 8,
   "id": "f0f38b66-e0e9-4c46-b9c1-c1ab37df1aca",
   "metadata": {},
   "outputs": [
    {
     "name": "stdout",
     "output_type": "stream",
     "text": [
      "Hello World\n"
     ]
    }
   ],
   "source": [
    "# Text/String\n",
    "print('Hello World')"
   ]
  },
  {
   "cell_type": "code",
   "execution_count": 9,
   "id": "0469df5a-a061-4d15-a890-d0cb9ad66ced",
   "metadata": {},
   "outputs": [
    {
     "name": "stdout",
     "output_type": "stream",
     "text": [
      "(5+6j)\n"
     ]
    }
   ],
   "source": [
    "# complex\n",
    "print(5 + 6j)"
   ]
  },
  {
   "cell_type": "code",
   "execution_count": 10,
   "id": "dd5432d8-4812-4c42-8654-5de6c26f94d5",
   "metadata": {},
   "outputs": [
    {
     "name": "stdout",
     "output_type": "stream",
     "text": [
      "[1, 2, 3, 4, 5]\n"
     ]
    }
   ],
   "source": [
    "#List\n",
    "print([1,2,3,4,5])"
   ]
  },
  {
   "cell_type": "code",
   "execution_count": 11,
   "id": "e34fd36d-d721-41ad-9fd1-f3633f95a8af",
   "metadata": {},
   "outputs": [
    {
     "name": "stdout",
     "output_type": "stream",
     "text": [
      "(1, 2, 3, 4, 5)\n"
     ]
    }
   ],
   "source": [
    "#Tuple\n",
    "print((1,2,3,4,5))"
   ]
  },
  {
   "cell_type": "code",
   "execution_count": 12,
   "id": "28e8a0ce-fd93-4b58-8fc4-f65cbd2cf856",
   "metadata": {},
   "outputs": [
    {
     "name": "stdout",
     "output_type": "stream",
     "text": [
      "{1, 2, 3, 4, 5}\n"
     ]
    }
   ],
   "source": [
    "# Sets\n",
    "print({1,2,3,4,5})"
   ]
  },
  {
   "cell_type": "code",
   "execution_count": 13,
   "id": "9e1d9966-ee92-45ae-a37b-72c6914b52ca",
   "metadata": {},
   "outputs": [
    {
     "name": "stdout",
     "output_type": "stream",
     "text": [
      "{'name': 'Girish', 'gender': 'Male', 'weight': 70}\n"
     ]
    }
   ],
   "source": [
    "# Dictionaries\n",
    "print({'name':'Girish','gender':'Male','weight':70})"
   ]
  },
  {
   "cell_type": "markdown",
   "id": "fce65e2f-c569-48ea-850c-ec1cec30564d",
   "metadata": {},
   "source": [
    "## Topic 3 : Variables"
   ]
  },
  {
   "cell_type": "code",
   "execution_count": 14,
   "id": "443dad14-28e3-4dcc-8a84-a7a7ab49688a",
   "metadata": {},
   "outputs": [
    {
     "name": "stdout",
     "output_type": "stream",
     "text": [
      "Girish\n",
      "11\n"
     ]
    }
   ],
   "source": [
    "name  = 'Girish'\n",
    "print(name)\n",
    "\n",
    "a = 5\n",
    "b = 6\n",
    "print(a+b)"
   ]
  },
  {
   "cell_type": "code",
   "execution_count": 15,
   "id": "6cd4f536-568a-4073-8e35-2f11d0a853b6",
   "metadata": {},
   "outputs": [],
   "source": [
    "# Dynamic Typing (You do not tell the data type of the variable)\n",
    "a = 5\n",
    "# Static Typing int a = 5 (Supported by C,Java,C++)\n"
   ]
  },
  {
   "cell_type": "code",
   "execution_count": 16,
   "id": "b59b07d9-44b2-46b3-ae31-12db39821c6c",
   "metadata": {},
   "outputs": [
    {
     "name": "stdout",
     "output_type": "stream",
     "text": [
      "5\n",
      "Girish\n"
     ]
    }
   ],
   "source": [
    "# Dynamic Binding (No fixed data types of a same variable)\n",
    "a = 5\n",
    "print(a)\n",
    "a = 'Girish'\n",
    "print(a)\n",
    "\n",
    "# Static Binding  int a = 5.Means in variable a we cannot store any other data type"
   ]
  },
  {
   "cell_type": "code",
   "execution_count": 17,
   "id": "645f12ba-c6be-42b8-97be-58926184db11",
   "metadata": {},
   "outputs": [
    {
     "name": "stdout",
     "output_type": "stream",
     "text": [
      "1 2 3\n",
      "5 5 5\n"
     ]
    }
   ],
   "source": [
    "# Assign values in a single line\n",
    "a,b,c = 1,2,3\n",
    "print(a,b,c)\n",
    "\n",
    "a=b=c=5\n",
    "print(a,b,c)"
   ]
  },
  {
   "cell_type": "markdown",
   "id": "1a47ab95-247a-4beb-9fa3-d88852188738",
   "metadata": {},
   "source": [
    "## Topic 4 : Keywords & Identifiers"
   ]
  },
  {
   "cell_type": "code",
   "execution_count": 27,
   "id": "7e7655a8-2ed2-40ef-a1ad-776231801f17",
   "metadata": {},
   "outputs": [],
   "source": [
    "# keywords (if else,print,\n",
    "# Compilation/Interpreter : Converts english language to binary.Python converts line by line.Certain words are reserved by compiler and interpreter\n",
    "# Python has 32 keywords\n",
    "\n",
    "# DO NOT USE KEYWORDS AS VARIABLE NAMES\n"
   ]
  },
  {
   "cell_type": "code",
   "execution_count": 28,
   "id": "ef1d47a8-03d6-4eea-85a4-6124a15d3cb9",
   "metadata": {},
   "outputs": [
    {
     "name": "stdout",
     "output_type": "stream",
     "text": [
      "Girish\n",
      "Girish\n"
     ]
    }
   ],
   "source": [
    "# Identifiers\n",
    "# You cant start with a digit\n",
    "name1 = 'Girish'\n",
    "print(name1)\n",
    "# You can use special chars \n",
    "_ = 'Girish'\n",
    "print(_)\n",
    "# Identifiers cannot be a keyword"
   ]
  },
  {
   "cell_type": "markdown",
   "id": "61022b75-7433-49de-a0e8-7916073fe999",
   "metadata": {},
   "source": [
    "## Topic 5 : User Input"
   ]
  },
  {
   "cell_type": "code",
   "execution_count": 31,
   "id": "1ef00a50-d297-459a-bb0f-657daeed885b",
   "metadata": {},
   "outputs": [
    {
     "name": "stdout",
     "output_type": "stream",
     "text": [
      "Enter email girish_mohite@hotmail.com\n"
     ]
    },
    {
     "data": {
      "text/plain": [
       "'girish_mohite@hotmail.com'"
      ]
     },
     "execution_count": 31,
     "metadata": {},
     "output_type": "execute_result"
    }
   ],
   "source": [
    "# we always need to take input from users.In the world there are 2 types of softwares Static(Calendar,Clock,Blog) \n",
    "# vs Dynamic(You tube : You talk to the software)\n",
    "\n",
    "input('Enter email')\n",
    "\n"
   ]
  },
  {
   "cell_type": "code",
   "execution_count": 42,
   "id": "f043499a-5da1-41c5-be7b-6ea30b5b020e",
   "metadata": {},
   "outputs": [
    {
     "name": "stdout",
     "output_type": "stream",
     "text": [
      "Enter first number  10\n",
      "Enter second number  20\n"
     ]
    },
    {
     "name": "stdout",
     "output_type": "stream",
     "text": [
      "30\n",
      "<class 'str'>\n",
      "<class 'int'>\n"
     ]
    }
   ],
   "source": [
    "# take input from users and store them in a variable\n",
    "fnum = input('Enter first number ')\n",
    "snum = input('Enter second number ')\n",
    "# add the 2 variables\n",
    "result = int(fnum) + int(snum)\n",
    "# print the result\n",
    "print(result)\n",
    "print(type(fnum))\n",
    "print(type(result))\n",
    "      "
   ]
  },
  {
   "cell_type": "code",
   "execution_count": 43,
   "id": "fedfb18d-76fa-45f5-9a5d-821e9d1f7f76",
   "metadata": {},
   "outputs": [],
   "source": [
    "# Implicit vs Explicit\n",
    "# Python type conversion DOES NOT change the original data.It creates a temp new value"
   ]
  },
  {
   "cell_type": "markdown",
   "id": "30b47de9-1995-4f3f-b2a0-935394b642ce",
   "metadata": {},
   "source": [
    "## Topic 7 : Literals"
   ]
  },
  {
   "cell_type": "code",
   "execution_count": 44,
   "id": "78314dd4-909f-454d-8e28-dab17ee31048",
   "metadata": {},
   "outputs": [
    {
     "name": "stdout",
     "output_type": "stream",
     "text": [
      "10\n"
     ]
    }
   ],
   "source": [
    "a = 0b1010 #Binary literal\n",
    "print(a)\n",
    "b = 100 #Decimal literal\n",
    "c = 0o310\n",
    "print(c)\n",
    "d = 0x12c\n",
    "\n",
    "# Float literal\n",
    "\n",
    "float_1 = 10.5\n",
    "float_2. = 1.5e2 # 1.5 * 10^2\n",
    "float_3 = 1.5e3 # 1.5 * 10^3\n"
   ]
  },
  {
   "cell_type": "code",
   "execution_count": 45,
   "id": "8e289eb5-2f01-4d36-84af-1c4938bbff6f",
   "metadata": {},
   "outputs": [
    {
     "name": "stdout",
     "output_type": "stream",
     "text": [
      "a =  5\n",
      "b =  10\n"
     ]
    }
   ],
   "source": [
    "# Pythn internally considers True as 1 and False as 0\n",
    "\n",
    "a = True + 4\n",
    "b = False + 10\n",
    "\n",
    "print(\"a = \",a)\n",
    "print(\"b = \",b)"
   ]
  },
  {
   "cell_type": "code",
   "execution_count": 46,
   "id": "cad8b7ce-41d4-41e0-abeb-10e6cf40ca0f",
   "metadata": {},
   "outputs": [
    {
     "name": "stdout",
     "output_type": "stream",
     "text": [
      "None\n"
     ]
    }
   ],
   "source": [
    "a = None\n",
    "print(a)"
   ]
  },
  {
   "cell_type": "code",
   "execution_count": 50,
   "id": "55296df0-2f2f-41f2-b6c5-2c6ca599ae35",
   "metadata": {},
   "outputs": [
    {
     "name": "stdout",
     "output_type": "stream",
     "text": [
      "Enter numerator:  4\n",
      "Enter ndenominator:  2\n"
     ]
    },
    {
     "name": "stdout",
     "output_type": "stream",
     "text": [
      "\n",
      "Value = 2.0\n",
      "\n",
      "This always gets executed\n"
     ]
    }
   ],
   "source": [
    "num = int(input(\"Enter numerator: \"))\n",
    "denom = int(input(\"Enter ndenominator: \"))\n",
    "\n",
    "try:\n",
    "    result = num/denom\n",
    "except ZeroDivisionError as exc:\n",
    "    print(f\"Error: {exc}\")\n",
    "else:\n",
    "    print(f\"\\nValue = {result}\")\n",
    "finally:\n",
    "    print(\"\\nThis always gets executed\")\n"
   ]
  }
 ],
 "metadata": {
  "kernelspec": {
   "display_name": "Python 3 (ipykernel)",
   "language": "python",
   "name": "python3"
  },
  "language_info": {
   "codemirror_mode": {
    "name": "ipython",
    "version": 3
   },
   "file_extension": ".py",
   "mimetype": "text/x-python",
   "name": "python",
   "nbconvert_exporter": "python",
   "pygments_lexer": "ipython3",
   "version": "3.11.6"
  }
 },
 "nbformat": 4,
 "nbformat_minor": 5
}
