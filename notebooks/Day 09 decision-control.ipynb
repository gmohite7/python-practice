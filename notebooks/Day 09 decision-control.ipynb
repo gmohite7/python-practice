{
 "cells": [
  {
   "cell_type": "markdown",
   "metadata": {},
   "source": [
    "#### if-else"
   ]
  },
  {
   "cell_type": "code",
   "execution_count": 2,
   "metadata": {},
   "outputs": [
    {
     "name": "stdout",
     "output_type": "stream",
     "text": [
      "password incorrect\n",
      "Still incorrect\n"
     ]
    }
   ],
   "source": [
    "# correct email : girish@gmail.com\n",
    "# password = 1234\n",
    "\n",
    "email = input('Please enter your email: ')\n",
    "if '@' in email:\n",
    "    password = input('Please enter your password: ')\n",
    "    if email == 'girish@gmail.com' and password == '1234':\n",
    "        print('Welcome')\n",
    "    elif email == 'girish@gmail.com' and password != '1234':\n",
    "        print('Password incorrect')\n",
    "        password = input('Please enter your password again:')\n",
    "        if password == '1234':\n",
    "            print('Finally correct')\n",
    "        else:\n",
    "            print('Still incorrect')\n",
    "    else:\n",
    "        print('Incorrect credentials')\n",
    "else:\n",
    "    print('Email is incorrect ,pls correct')\n",
    "\n"
   ]
  },
  {
   "cell_type": "code",
   "execution_count": 3,
   "metadata": {},
   "outputs": [],
   "source": [
    "# if-else examples\n",
    "# minimum of 3 numbers\n",
    "# menu driven program"
   ]
  },
  {
   "cell_type": "code",
   "execution_count": 4,
   "metadata": {},
   "outputs": [
    {
     "name": "stdout",
     "output_type": "stream",
     "text": [
      "smallest is  1\n"
     ]
    }
   ],
   "source": [
    "#minimum of 3 numbers\n",
    "a = int(input('First num: '))\n",
    "b = int(input('Second num '))\n",
    "c = int(input('Third num '))\n",
    "\n",
    "if a < b and a < c:\n",
    "    print('smallest is ',a)\n",
    "elif b < c:\n",
    "    print('smallest is ',b)\n",
    "else:\n",
    "    print('smallest is ',c)\n"
   ]
  },
  {
   "cell_type": "code",
   "execution_count": 5,
   "metadata": {},
   "outputs": [
    {
     "name": "stdout",
     "output_type": "stream",
     "text": [
      "pin change\n"
     ]
    }
   ],
   "source": [
    "# Menu driven calculator\n",
    "menu = input(\"\"\"\n",
    "Hi! How can I help you.\n",
    "1. Enter 1 for pin change\n",
    "2. Enter 2 for balance check\n",
    "3. Enter 3 for withdrawal\n",
    "4. Enter 4 for exit\n",
    "\"\"\")\n",
    "if menu == '1':\n",
    "    print('pin change')\n",
    "elif menu == '2':\n",
    "    print('balance')\n",
    "elif menu == '3':\n",
    "    print('withdrawal')\n",
    "else:\n",
    "    print('exit')"
   ]
  }
 ],
 "metadata": {
  "kernelspec": {
   "display_name": "Python 3",
   "language": "python",
   "name": "python3"
  },
  "language_info": {
   "codemirror_mode": {
    "name": "ipython",
    "version": 3
   },
   "file_extension": ".py",
   "mimetype": "text/x-python",
   "name": "python",
   "nbconvert_exporter": "python",
   "pygments_lexer": "ipython3",
   "version": "3.11.6"
  }
 },
 "nbformat": 4,
 "nbformat_minor": 2
}
