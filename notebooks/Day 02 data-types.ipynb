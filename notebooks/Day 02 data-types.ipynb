{
 "cells": [
  {
   "cell_type": "markdown",
   "metadata": {},
   "source": [
    "### Python Data Types Categories"
   ]
  },
  {
   "cell_type": "markdown",
   "metadata": {
    "vscode": {
     "languageId": "plaintext"
    }
   },
   "source": [
    "#### Basic Types :\n",
    "\n",
    "* int : whole numbers (1,2,3)\n",
    "* float : Decimeals (3.14,2.5)\n",
    "* complex : real+imag(1 + 2j)\n",
    "* bool : True/False\n",
    "* str : Text ('Hello')"
   ]
  },
  {
   "cell_type": "markdown",
   "metadata": {},
   "source": [
    "#### Container Types :\n",
    "\n",
    "* list : Ordered collection of mutable objects :\n",
    "[1,2,3]\n",
    "\n",
    "* tuple : Ordered collection of immutable objects :\n",
    "(1,2,3)\n",
    "\n",
    "* dict : Unordered list of key:value pairs\n",
    "{'k1':'v1','k2':'v2'}\n",
    "\n",
    "* set : unordered list of unique values\n",
    "{1,2,3}"
   ]
  },
  {
   "cell_type": "markdown",
   "metadata": {
    "vscode": {
     "languageId": "plaintext"
    }
   },
   "source": [
    "#### User defined Types\n",
    "\n",
    "* class : obj blueprint"
   ]
  },
  {
   "cell_type": "code",
   "execution_count": 1,
   "metadata": {},
   "outputs": [
    {
     "name": "stdout",
     "output_type": "stream",
     "text": [
      "4\n",
      "1e+308\n",
      "inf\n"
     ]
    }
   ],
   "source": [
    "# int\n",
    "print(4)\n",
    "\n",
    "# large numbers\n",
    "print(1e308) # 1 * 10^308\n",
    "print(1e309) # inf (exeeds int limit)"
   ]
  },
  {
   "cell_type": "code",
   "execution_count": 5,
   "metadata": {},
   "outputs": [
    {
     "name": "stdout",
     "output_type": "stream",
     "text": [
      "4.5\n",
      "1.8e+307\n",
      "inf\n",
      "inf\n"
     ]
    }
   ],
   "source": [
    "# float\n",
    "print(4.5)\n",
    "\n",
    "#large floats\n",
    "print(1.8e307) #Larger\n",
    "print(1.8e308) # Larger\n",
    "print(1.9e309) # Too Large (inf)\n",
    "\n"
   ]
  },
  {
   "cell_type": "code",
   "execution_count": 6,
   "metadata": {},
   "outputs": [
    {
     "name": "stdout",
     "output_type": "stream",
     "text": [
      "True\n",
      "False\n"
     ]
    }
   ],
   "source": [
    "#bool\n",
    "print(True)\n",
    "print(False)"
   ]
  },
  {
   "cell_type": "code",
   "execution_count": 7,
   "metadata": {},
   "outputs": [
    {
     "name": "stdout",
     "output_type": "stream",
     "text": [
      "(4+5j)\n"
     ]
    }
   ],
   "source": [
    "#complex\n",
    "print(4 + 5j)"
   ]
  },
  {
   "cell_type": "code",
   "execution_count": 8,
   "metadata": {},
   "outputs": [
    {
     "name": "stdout",
     "output_type": "stream",
     "text": [
      "Mumbai\n",
      "Mumbai\n",
      "Mumbai\n",
      "Mumbai\n"
     ]
    }
   ],
   "source": [
    "# str with different quotation styles\n",
    "print('Mumbai')\n",
    "print(\"Mumbai\")\n",
    "print('''Mumbai''')\n",
    "print(\"\"\"Mumbai\"\"\")\n",
    "\n"
   ]
  },
  {
   "cell_type": "code",
   "execution_count": 9,
   "metadata": {},
   "outputs": [
    {
     "name": "stdout",
     "output_type": "stream",
     "text": [
      "[1, 2, 3, 4]\n"
     ]
    }
   ],
   "source": [
    "#list\n",
    "print([1,2,3,4])"
   ]
  },
  {
   "cell_type": "code",
   "execution_count": 10,
   "metadata": {},
   "outputs": [
    {
     "name": "stdout",
     "output_type": "stream",
     "text": [
      "(1, 2, 3, 4)\n"
     ]
    }
   ],
   "source": [
    "# tuples\n",
    "print((1,2,3,4))"
   ]
  },
  {
   "cell_type": "code",
   "execution_count": 12,
   "metadata": {},
   "outputs": [
    {
     "name": "stdout",
     "output_type": "stream",
     "text": [
      "{'Name': 'Girish', 'Age': '30', 'Gender': 'Male'}\n"
     ]
    }
   ],
   "source": [
    "# dict\n",
    "print({'Name':'Girish','Age':'30','Gender':'Male'})"
   ]
  },
  {
   "cell_type": "code",
   "execution_count": 13,
   "metadata": {},
   "outputs": [
    {
     "name": "stdout",
     "output_type": "stream",
     "text": [
      "(1, 2, 3, 4)\n"
     ]
    }
   ],
   "source": [
    "# set\n",
    "print((1,2,3,4))"
   ]
  }
 ],
 "metadata": {
  "kernelspec": {
   "display_name": "Python 3",
   "language": "python",
   "name": "python3"
  },
  "language_info": {
   "codemirror_mode": {
    "name": "ipython",
    "version": 3
   },
   "file_extension": ".py",
   "mimetype": "text/x-python",
   "name": "python",
   "nbconvert_exporter": "python",
   "pygments_lexer": "ipython3",
   "version": "3.11.6"
  }
 },
 "nbformat": 4,
 "nbformat_minor": 2
}
