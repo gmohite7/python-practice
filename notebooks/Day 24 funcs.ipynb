{
 "cells": [
  {
   "cell_type": "markdown",
   "metadata": {},
   "source": [
    "#### What are Functions ?\n",
    "\n",
    "Block of code for specific tasks\n",
    "\n",
    "#### Blackbox concept :\n",
    "\n",
    "Ignore internal code,focus on inputs/outputs\n",
    "\n",
    "#### Advantages :\n",
    "\n",
    "- Reusability\n",
    "- Avoids repitition\n",
    "\n",
    "#### Two points regarding functions\n",
    "\n",
    "1. Abstraction\n",
    "\n",
    "    * Hides internal workings\n",
    "    * Users know 'what' it does ,not 'how'\n",
    "\n",
    "2. Decomposition\n",
    "\n",
    "    * Splits systems into modules\n",
    "    * Each modules offers specific functionality\n",
    "    * Modules can impact others"
   ]
  },
  {
   "cell_type": "markdown",
   "metadata": {},
   "source": [
    "#### Components of a Function\n",
    "\n",
    "def function_name(paraneters):\n",
    "    \"\"\"docstring\"\"\"\n",
    "    statements\n",
    "\n",
    "- 'def' --> Function start\n",
    "- Name  --> Function identifier\n",
    "- Params --> Input values\n",
    "- Colon : --> Ends header.\n",
    "- Docstring --> Function description\n",
    "- Body --> Statements\n",
    "- 'return' --> Output value\n",
    "\n",
    "function_name(values)\n"
   ]
  },
  {
   "cell_type": "markdown",
   "metadata": {},
   "source": [
    "#### Lets create a Function"
   ]
  },
  {
   "cell_type": "code",
   "execution_count": 1,
   "metadata": {},
   "outputs": [],
   "source": [
    "# Check if number is even or odd\n",
    "\n",
    "def is_even(number):\n",
    "    \"\"\"This function tells if a given number is odd or even\n",
    "    Input - any valid integer\n",
    "    Output - odd or even\n",
    "    Created By - Girish\n",
    "    Last Edited - 13 Dec 2024\n",
    "    \"\"\"\n",
    "    if number % 2 == 0:\n",
    "        return 'even'\n",
    "    else:\n",
    "        return 'odd'"
   ]
  },
  {
   "cell_type": "code",
   "execution_count": 3,
   "metadata": {},
   "outputs": [
    {
     "name": "stdout",
     "output_type": "stream",
     "text": [
      "odd\n",
      "even\n",
      "odd\n",
      "even\n",
      "odd\n",
      "even\n",
      "odd\n",
      "even\n",
      "odd\n",
      "even\n"
     ]
    }
   ],
   "source": [
    "for i in range(1,11):\n",
    "    print(is_even(i))"
   ]
  },
  {
   "cell_type": "code",
   "execution_count": 4,
   "metadata": {},
   "outputs": [
    {
     "name": "stdout",
     "output_type": "stream",
     "text": [
      "This function tells if a given number is odd or even\n",
      "    Input - any valid integer\n",
      "    Output - odd or even\n",
      "    Created By - Girish\n",
      "    Last Edited - 13 Dec 2024\n",
      "    \n"
     ]
    }
   ],
   "source": [
    "print(is_even.__doc__)"
   ]
  },
  {
   "cell_type": "code",
   "execution_count": 5,
   "metadata": {},
   "outputs": [
    {
     "data": {
      "text/plain": [
       "'Prints the values to a stream, or to sys.stdout by default.\\n\\n  sep\\n    string inserted between values, default a space.\\n  end\\n    string appended after the last value, default a newline.\\n  file\\n    a file-like object (stream); defaults to the current sys.stdout.\\n  flush\\n    whether to forcibly flush the stream.'"
      ]
     },
     "execution_count": 5,
     "metadata": {},
     "output_type": "execute_result"
    }
   ],
   "source": [
    "print.__doc__"
   ]
  },
  {
   "cell_type": "code",
   "execution_count": 6,
   "metadata": {},
   "outputs": [
    {
     "data": {
      "text/plain": [
       "\"type(object) -> the object's type\\ntype(name, bases, dict, **kwds) -> a new type\""
      ]
     },
     "execution_count": 6,
     "metadata": {},
     "output_type": "execute_result"
    }
   ],
   "source": [
    "type.__doc__"
   ]
  },
  {
   "cell_type": "markdown",
   "metadata": {},
   "source": [
    "#### Functions : 2 Perspectives\n",
    "\n",
    "1. Creators perspective\n",
    "2. Users perspective"
   ]
  },
  {
   "cell_type": "code",
   "execution_count": 7,
   "metadata": {},
   "outputs": [
    {
     "data": {
      "text/plain": [
       "'/Users/girishmohite/gmohite7/python-practice/notebooks'"
      ]
     },
     "execution_count": 7,
     "metadata": {},
     "output_type": "execute_result"
    }
   ],
   "source": [
    "pwd"
   ]
  },
  {
   "cell_type": "code",
   "execution_count": 13,
   "metadata": {},
   "outputs": [],
   "source": [
    "# Creating func_demo.py file with 'is_even' function --> to import to Jupyter notebooks"
   ]
  },
  {
   "cell_type": "code",
   "execution_count": 12,
   "metadata": {},
   "outputs": [],
   "source": [
    "import func_demo"
   ]
  },
  {
   "cell_type": "code",
   "execution_count": 14,
   "metadata": {},
   "outputs": [
    {
     "data": {
      "text/plain": [
       "'even'"
      ]
     },
     "execution_count": 14,
     "metadata": {},
     "output_type": "execute_result"
    }
   ],
   "source": [
    "func_demo.is_even(34)"
   ]
  },
  {
   "cell_type": "code",
   "execution_count": 15,
   "metadata": {},
   "outputs": [
    {
     "ename": "TypeError",
     "evalue": "not all arguments converted during string formatting",
     "output_type": "error",
     "traceback": [
      "\u001b[0;31m---------------------------------------------------------------------------\u001b[0m",
      "\u001b[0;31mTypeError\u001b[0m                                 Traceback (most recent call last)",
      "Cell \u001b[0;32mIn[15], line 1\u001b[0m\n\u001b[0;32m----> 1\u001b[0m \u001b[43mfunc_demo\u001b[49m\u001b[38;5;241;43m.\u001b[39;49m\u001b[43mis_even\u001b[49m\u001b[43m(\u001b[49m\u001b[38;5;124;43m'\u001b[39;49m\u001b[38;5;124;43mHello\u001b[39;49m\u001b[38;5;124;43m'\u001b[39;49m\u001b[43m)\u001b[49m\n",
      "File \u001b[0;32m~/gmohite7/python-practice/notebooks/func_demo.py:9\u001b[0m, in \u001b[0;36mis_even\u001b[0;34m(number)\u001b[0m\n\u001b[1;32m      2\u001b[0m \u001b[38;5;28;01mdef\u001b[39;00m \u001b[38;5;21mis_even\u001b[39m(number):\n\u001b[1;32m      3\u001b[0m \u001b[38;5;250m    \u001b[39m\u001b[38;5;124;03m\"\"\"This function tells if a given number is odd or even\u001b[39;00m\n\u001b[1;32m      4\u001b[0m \u001b[38;5;124;03m    Input - any valid integer\u001b[39;00m\n\u001b[1;32m      5\u001b[0m \u001b[38;5;124;03m    Output - odd or even\u001b[39;00m\n\u001b[1;32m      6\u001b[0m \u001b[38;5;124;03m    Created By - Girish\u001b[39;00m\n\u001b[1;32m      7\u001b[0m \u001b[38;5;124;03m    Last Edited - 13 Dec 2024\u001b[39;00m\n\u001b[1;32m      8\u001b[0m \u001b[38;5;124;03m    \"\"\"\u001b[39;00m\n\u001b[0;32m----> 9\u001b[0m     \u001b[38;5;28;01mif\u001b[39;00m \u001b[43mnumber\u001b[49m\u001b[43m \u001b[49m\u001b[38;5;241;43m%\u001b[39;49m\u001b[43m \u001b[49m\u001b[38;5;241;43m2\u001b[39;49m \u001b[38;5;241m==\u001b[39m \u001b[38;5;241m0\u001b[39m:\n\u001b[1;32m     10\u001b[0m         \u001b[38;5;28;01mreturn\u001b[39;00m \u001b[38;5;124m'\u001b[39m\u001b[38;5;124meven\u001b[39m\u001b[38;5;124m'\u001b[39m\n\u001b[1;32m     11\u001b[0m     \u001b[38;5;28;01melse\u001b[39;00m:\n",
      "\u001b[0;31mTypeError\u001b[0m: not all arguments converted during string formatting"
     ]
    }
   ],
   "source": [
    "func_demo.is_even('Hello')"
   ]
  },
  {
   "cell_type": "code",
   "execution_count": 16,
   "metadata": {},
   "outputs": [],
   "source": [
    "def is_even(number):\n",
    "    if type(number) == int:\n",
    "        if number % 2 == 0:\n",
    "            return 'Even'\n",
    "        else:\n",
    "            return 'Odd'\n",
    "    else:\n",
    "        return 'Not allowed'"
   ]
  },
  {
   "cell_type": "code",
   "execution_count": 17,
   "metadata": {},
   "outputs": [
    {
     "data": {
      "text/plain": [
       "'Not allowed'"
      ]
     },
     "execution_count": 17,
     "metadata": {},
     "output_type": "execute_result"
    }
   ],
   "source": [
    "is_even('Hello')"
   ]
  },
  {
   "cell_type": "markdown",
   "metadata": {},
   "source": [
    "#### Parameters vs Arguments\n",
    "\n",
    "- Parameters\n",
    "\n",
    "    1. vars in () during function definition\n",
    "    2. Defined in func declaration\n",
    "\n",
    "def func(param1,param2):\n",
    "    - Body\n",
    "\n",
    "#### Arguments\n",
    "\n",
    "    - values passed at func call\n",
    "    - inputs during function invocation\n",
    "\n",
    "func(arg1,arg2):\n",
    "\n",
    "1. Default argument\n",
    "2. Positional argument\n",
    "3. Keyword argument\n",
    "4. Arbitrary argument(*args)*"
   ]
  },
  {
   "cell_type": "code",
   "execution_count": 18,
   "metadata": {},
   "outputs": [],
   "source": [
    "def power(a,b):\n",
    "    return a**b"
   ]
  },
  {
   "cell_type": "code",
   "execution_count": 19,
   "metadata": {},
   "outputs": [
    {
     "data": {
      "text/plain": [
       "8"
      ]
     },
     "execution_count": 19,
     "metadata": {},
     "output_type": "execute_result"
    }
   ],
   "source": [
    "power(2,3)"
   ]
  },
  {
   "cell_type": "code",
   "execution_count": 20,
   "metadata": {},
   "outputs": [
    {
     "data": {
      "text/plain": [
       "9"
      ]
     },
     "execution_count": 20,
     "metadata": {},
     "output_type": "execute_result"
    }
   ],
   "source": [
    "power(3,2)"
   ]
  },
  {
   "cell_type": "code",
   "execution_count": 21,
   "metadata": {},
   "outputs": [
    {
     "ename": "TypeError",
     "evalue": "power() missing 1 required positional argument: 'b'",
     "output_type": "error",
     "traceback": [
      "\u001b[0;31m---------------------------------------------------------------------------\u001b[0m",
      "\u001b[0;31mTypeError\u001b[0m                                 Traceback (most recent call last)",
      "Cell \u001b[0;32mIn[21], line 1\u001b[0m\n\u001b[0;32m----> 1\u001b[0m \u001b[43mpower\u001b[49m\u001b[43m(\u001b[49m\u001b[38;5;241;43m3\u001b[39;49m\u001b[43m)\u001b[49m\n",
      "\u001b[0;31mTypeError\u001b[0m: power() missing 1 required positional argument: 'b'"
     ]
    }
   ],
   "source": [
    "power(3)"
   ]
  },
  {
   "cell_type": "code",
   "execution_count": 22,
   "metadata": {},
   "outputs": [
    {
     "ename": "TypeError",
     "evalue": "power() missing 2 required positional arguments: 'a' and 'b'",
     "output_type": "error",
     "traceback": [
      "\u001b[0;31m---------------------------------------------------------------------------\u001b[0m",
      "\u001b[0;31mTypeError\u001b[0m                                 Traceback (most recent call last)",
      "Cell \u001b[0;32mIn[22], line 1\u001b[0m\n\u001b[0;32m----> 1\u001b[0m \u001b[43mpower\u001b[49m\u001b[43m(\u001b[49m\u001b[43m)\u001b[49m\n",
      "\u001b[0;31mTypeError\u001b[0m: power() missing 2 required positional arguments: 'a' and 'b'"
     ]
    }
   ],
   "source": [
    "power()"
   ]
  },
  {
   "cell_type": "code",
   "execution_count": 23,
   "metadata": {},
   "outputs": [],
   "source": [
    "# default argument : function argument with default values\n",
    "def power(a=1,b=1):\n",
    "    return a**b"
   ]
  },
  {
   "cell_type": "code",
   "execution_count": 24,
   "metadata": {},
   "outputs": [
    {
     "data": {
      "text/plain": [
       "8"
      ]
     },
     "execution_count": 24,
     "metadata": {},
     "output_type": "execute_result"
    }
   ],
   "source": [
    "power(2,3)"
   ]
  },
  {
   "cell_type": "code",
   "execution_count": 25,
   "metadata": {},
   "outputs": [
    {
     "data": {
      "text/plain": [
       "2"
      ]
     },
     "execution_count": 25,
     "metadata": {},
     "output_type": "execute_result"
    }
   ],
   "source": [
    "power(2)"
   ]
  },
  {
   "cell_type": "code",
   "execution_count": 26,
   "metadata": {},
   "outputs": [
    {
     "data": {
      "text/plain": [
       "1"
      ]
     },
     "execution_count": 26,
     "metadata": {},
     "output_type": "execute_result"
    }
   ],
   "source": [
    "power()"
   ]
  },
  {
   "cell_type": "code",
   "execution_count": 27,
   "metadata": {},
   "outputs": [
    {
     "data": {
      "text/plain": [
       "8"
      ]
     },
     "execution_count": 27,
     "metadata": {},
     "output_type": "execute_result"
    }
   ],
   "source": [
    "# Positional arguments :values assigned by call order\n",
    "power(2,3)"
   ]
  },
  {
   "cell_type": "code",
   "execution_count": 28,
   "metadata": {},
   "outputs": [
    {
     "data": {
      "text/plain": [
       "9"
      ]
     },
     "execution_count": 28,
     "metadata": {},
     "output_type": "execute_result"
    }
   ],
   "source": [
    "# keyword arguments : Values assigned to args by name at call time.\n",
    "# Note : keyword args override positional arguments\n",
    "\n",
    "# Priority Keyword args --> Positional args\n",
    "\n",
    "power(b=2,a=3)"
   ]
  },
  {
   "cell_type": "code",
   "execution_count": 29,
   "metadata": {},
   "outputs": [],
   "source": [
    "# Arbitrary argument : Accepts any number of args\n",
    "\n",
    "# Useful when the number of argument is unknown\n",
    "def flexi(*number):\n",
    "    product = 1\n",
    "    for i in number:\n",
    "        product *= i\n",
    "    print(product)"
   ]
  },
  {
   "cell_type": "code",
   "execution_count": 30,
   "metadata": {},
   "outputs": [
    {
     "name": "stdout",
     "output_type": "stream",
     "text": [
      "1\n"
     ]
    }
   ],
   "source": [
    "flexi(1)"
   ]
  },
  {
   "cell_type": "code",
   "execution_count": 31,
   "metadata": {},
   "outputs": [
    {
     "name": "stdout",
     "output_type": "stream",
     "text": [
      "2\n"
     ]
    }
   ],
   "source": [
    "flexi(1,2)"
   ]
  },
  {
   "cell_type": "code",
   "execution_count": 32,
   "metadata": {},
   "outputs": [
    {
     "name": "stdout",
     "output_type": "stream",
     "text": [
      "362880\n"
     ]
    }
   ],
   "source": [
    "flexi(1,2,3,4,5,6,7,8,9)"
   ]
  },
  {
   "cell_type": "code",
   "execution_count": 33,
   "metadata": {},
   "outputs": [],
   "source": [
    "def flexi(*number): # Flexible inputs : Tuple\n",
    "    product = 1\n",
    "    print(number)\n",
    "    print(type(number))\n",
    "    for i in number:\n",
    "        product *= i\n",
    "    print(product)\n"
   ]
  },
  {
   "cell_type": "code",
   "execution_count": 34,
   "metadata": {},
   "outputs": [
    {
     "name": "stdout",
     "output_type": "stream",
     "text": [
      "(1, 2, 3, 4, 5)\n",
      "<class 'tuple'>\n",
      "120\n"
     ]
    }
   ],
   "source": [
    "flexi(1,2,3,4,5)"
   ]
  },
  {
   "cell_type": "markdown",
   "metadata": {},
   "source": [
    "#### *args & **kwargs\n",
    "\n",
    "- *args : variable length positional arguments\n",
    "\n",
    "def func(*args):\n",
    "\n",
    "- **kwargs : Variable length keyword arguments\n",
    "\n",
    "def func(**kwargs):"
   ]
  },
  {
   "cell_type": "code",
   "execution_count": 37,
   "metadata": {},
   "outputs": [],
   "source": [
    "#*args\n",
    "# Pass variable non-keyword args to func\n",
    "def multiply(*args):\n",
    "    product = 1\n",
    "    for i in args:\n",
    "        product *= i\n",
    "    print(args)\n",
    "    return product"
   ]
  },
  {
   "cell_type": "code",
   "execution_count": 38,
   "metadata": {},
   "outputs": [
    {
     "name": "stdout",
     "output_type": "stream",
     "text": [
      "(1, 2, 3, 4, 5, 6, 7, 8, 9, 10, 12)\n"
     ]
    },
    {
     "data": {
      "text/plain": [
       "43545600"
      ]
     },
     "execution_count": 38,
     "metadata": {},
     "output_type": "execute_result"
    }
   ],
   "source": [
    "multiply(1,2,3,4,5,6,7,8,9,10,12)"
   ]
  },
  {
   "cell_type": "code",
   "execution_count": 39,
   "metadata": {},
   "outputs": [],
   "source": [
    "# Pass any number of keyword arguments (key-value pairs)\n",
    "# Acts like a dict\n",
    "def display(**kwargs):\n",
    "    for k,v in kwargs.items():\n",
    "        print(k,'->',v)"
   ]
  },
  {
   "cell_type": "code",
   "execution_count": 40,
   "metadata": {},
   "outputs": [
    {
     "name": "stdout",
     "output_type": "stream",
     "text": [
      "india -> delhi\n",
      "srilanka -> colombo\n",
      "nepal -> kathmandu\n",
      "pakistan -> islamabad\n"
     ]
    }
   ],
   "source": [
    "display(india='delhi',srilanka='colombo',nepal='kathmandu',pakistan='islamabad')"
   ]
  },
  {
   "cell_type": "markdown",
   "metadata": {},
   "source": [
    "#### Notes : while using *args and **kwargs\n",
    "\n",
    "- Argument order : normal --> *args --> ** kwargs\n",
    "- The words args and kwargs are only convention,you can use any name of your choice\n",
    "\n",
    "#### How functions are executed in memory\n",
    "\n",
    "Functions in python are defined when def is encountered.Execution continues until a function call(e.g print) is made.Each call allocates a separate memory block for that function.Variables within a function are confined to its own block\n",
    "\n",
    "analogy --> RAM == city,program == house,function == room\n",
    "\n",
    "Functions operate independently ,like distinct programs their memory is released post completion\n",
    "\n",
    "\n"
   ]
  },
  {
   "cell_type": "markdown",
   "metadata": {},
   "source": [
    "#### Global var and Local var\n",
    "\n",
    "#### Examples :"
   ]
  },
  {
   "cell_type": "code",
   "execution_count": 42,
   "metadata": {},
   "outputs": [
    {
     "name": "stdout",
     "output_type": "stream",
     "text": [
      "inside func_a: \n",
      "None\n",
      "inside func_b: \n",
      "7\n",
      "inside func_c: \n",
      "inside func_a: \n",
      "None\n"
     ]
    }
   ],
   "source": [
    "# Functions as arguments\n",
    "\n",
    "def func_a():\n",
    "    print('inside func_a: ')\n",
    "    # No return value --> 'None'\n",
    "def func_b(y):\n",
    "    print('inside func_b: ')\n",
    "    return y\n",
    "def func_c(z):\n",
    "    print('inside func_c: ')\n",
    "    return z()\n",
    "\n",
    "print(func_a())\n",
    "print(5 + func_b(2))\n",
    "print(func_c(func_a))"
   ]
  },
  {
   "cell_type": "code",
   "execution_count": 43,
   "metadata": {},
   "outputs": [
    {
     "name": "stdout",
     "output_type": "stream",
     "text": [
      "2\n",
      "5\n"
     ]
    }
   ],
   "source": [
    "# Variable scope and function behaviour\n",
    "\n",
    "def f(y):\n",
    "    x = 1\n",
    "    x += 1\n",
    "    print(x)\n",
    "\n",
    "x = 5 # Global x\n",
    "f(x)  # Calls f()\n",
    "print(x)\n",
    "\n",
    "# Functions have local scope .Global vars coexist but are not affected"
   ]
  },
  {
   "cell_type": "markdown",
   "metadata": {},
   "source": [
    "#### Local variables : Inside function\n",
    "\n",
    "#### Global variables : Outside any function ,in main program"
   ]
  },
  {
   "cell_type": "code",
   "execution_count": 44,
   "metadata": {},
   "outputs": [
    {
     "name": "stdout",
     "output_type": "stream",
     "text": [
      "5\n",
      "6\n",
      "5\n"
     ]
    }
   ],
   "source": [
    "def g(y):\n",
    "    print(x)\n",
    "    print(x+1)\n",
    "\n",
    "x = 5\n",
    "g(x)\n",
    "print(x)"
   ]
  },
  {
   "cell_type": "code",
   "execution_count": 45,
   "metadata": {},
   "outputs": [
    {
     "ename": "UnboundLocalError",
     "evalue": "cannot access local variable 'x' where it is not associated with a value",
     "output_type": "error",
     "traceback": [
      "\u001b[0;31m---------------------------------------------------------------------------\u001b[0m",
      "\u001b[0;31mUnboundLocalError\u001b[0m                         Traceback (most recent call last)",
      "Cell \u001b[0;32mIn[45], line 4\u001b[0m\n\u001b[1;32m      2\u001b[0m     x \u001b[38;5;241m+\u001b[39m\u001b[38;5;241m=\u001b[39m \u001b[38;5;241m1\u001b[39m \u001b[38;5;66;03m# Error : needs global x to modify x\u001b[39;00m\n\u001b[1;32m      3\u001b[0m x \u001b[38;5;241m=\u001b[39m \u001b[38;5;241m5\u001b[39m\n\u001b[0;32m----> 4\u001b[0m \u001b[43mh\u001b[49m\u001b[43m(\u001b[49m\u001b[43mx\u001b[49m\u001b[43m)\u001b[49m\n\u001b[1;32m      5\u001b[0m \u001b[38;5;28mprint\u001b[39m(x)\n\u001b[1;32m      7\u001b[0m \u001b[38;5;66;03m# Rule : Global vars : Accessed but not modified in functions\u001b[39;00m\n\u001b[1;32m      8\u001b[0m \u001b[38;5;66;03m# Concept 1: Globals exist outside any func,accessed by any function\u001b[39;00m\n\u001b[1;32m      9\u001b[0m \u001b[38;5;66;03m# Concept 2 : Functions without local vars can use globals.\u001b[39;00m\n\u001b[1;32m     10\u001b[0m \u001b[38;5;66;03m# Concept 3 : Locals can access globals but cant modify\u001b[39;00m\n",
      "Cell \u001b[0;32mIn[45], line 2\u001b[0m, in \u001b[0;36mh\u001b[0;34m(y)\u001b[0m\n\u001b[1;32m      1\u001b[0m \u001b[38;5;28;01mdef\u001b[39;00m \u001b[38;5;21mh\u001b[39m(y):\n\u001b[0;32m----> 2\u001b[0m     \u001b[43mx\u001b[49m \u001b[38;5;241m+\u001b[39m\u001b[38;5;241m=\u001b[39m \u001b[38;5;241m1\u001b[39m\n",
      "\u001b[0;31mUnboundLocalError\u001b[0m: cannot access local variable 'x' where it is not associated with a value"
     ]
    }
   ],
   "source": [
    "def h(y):\n",
    "    x += 1 # Error : needs global x to modify x\n",
    "x = 5\n",
    "h(x)\n",
    "print(x)\n",
    "\n",
    "# Rule : Global vars : Accessed but not modified in functions\n",
    "# Concept 1: Globals exist outside any func,accessed by any function\n",
    "# Concept 2 : Functions without local vars can use globals.\n",
    "# Concept 3 : Locals can access globals but cant modify\n",
    "\n",
    "\n"
   ]
  },
  {
   "cell_type": "code",
   "execution_count": 46,
   "metadata": {},
   "outputs": [
    {
     "name": "stdout",
     "output_type": "stream",
     "text": [
      "6\n"
     ]
    }
   ],
   "source": [
    "# Explicitly Modifying global variables locally\n",
    "\n",
    "def h(y):\n",
    "    global x # Note modifying global variables is discouraged\n",
    "    x += 1\n",
    "\n",
    "x = 5\n",
    "h(x)\n",
    "print(x)\n"
   ]
  },
  {
   "cell_type": "code",
   "execution_count": 47,
   "metadata": {},
   "outputs": [
    {
     "name": "stdout",
     "output_type": "stream",
     "text": [
      "in f(x): x = 4\n",
      "in main program scope: z = 4\n",
      "in main program scope: x = 3\n"
     ]
    }
   ],
   "source": [
    "# Complicated scope\n",
    "def f(x):\n",
    "    x += 1\n",
    "    print('in f(x): x =',x)\n",
    "    return x\n",
    "\n",
    "x = 3\n",
    "z = f(x)\n",
    "print('in main program scope: z =',z)\n",
    "print('in main program scope: x =',x)\n"
   ]
  },
  {
   "cell_type": "markdown",
   "metadata": {},
   "source": [
    "#### Nested Functions\n"
   ]
  },
  {
   "cell_type": "code",
   "execution_count": 48,
   "metadata": {},
   "outputs": [],
   "source": [
    "def f():\n",
    "    print('Inside f():')\n",
    "    def g():\n",
    "        print('inside g():')\n",
    "    g()\n",
    "    "
   ]
  },
  {
   "cell_type": "code",
   "execution_count": 49,
   "metadata": {},
   "outputs": [
    {
     "name": "stdout",
     "output_type": "stream",
     "text": [
      "Inside f():\n",
      "inside g():\n"
     ]
    }
   ],
   "source": [
    "f()"
   ]
  },
  {
   "cell_type": "code",
   "execution_count": 50,
   "metadata": {},
   "outputs": [
    {
     "ename": "TypeError",
     "evalue": "g() missing 1 required positional argument: 'y'",
     "output_type": "error",
     "traceback": [
      "\u001b[0;31m---------------------------------------------------------------------------\u001b[0m",
      "\u001b[0;31mTypeError\u001b[0m                                 Traceback (most recent call last)",
      "Cell \u001b[0;32mIn[50], line 1\u001b[0m\n\u001b[0;32m----> 1\u001b[0m \u001b[43mg\u001b[49m\u001b[43m(\u001b[49m\u001b[43m)\u001b[49m\n\u001b[1;32m      2\u001b[0m \u001b[38;5;66;03m# Nested functions stays Abstracted/Hidden from main program\u001b[39;00m\n",
      "\u001b[0;31mTypeError\u001b[0m: g() missing 1 required positional argument: 'y'"
     ]
    }
   ],
   "source": [
    "g()\n",
    "# Nested functions stays Abstracted/Hidden from main program"
   ]
  },
  {
   "cell_type": "code",
   "execution_count": 51,
   "metadata": {},
   "outputs": [],
   "source": [
    "def f():\n",
    "    print('inside f()')\n",
    "    def g():\n",
    "        print('inside g()')\n",
    "        f()\n",
    "    g()"
   ]
  },
  {
   "cell_type": "code",
   "execution_count": null,
   "metadata": {},
   "outputs": [],
   "source": [
    "f()\n",
    "# Infinite Loop --> Code will crash --> Kernel dead"
   ]
  },
  {
   "cell_type": "code",
   "execution_count": 53,
   "metadata": {},
   "outputs": [
    {
     "name": "stdout",
     "output_type": "stream",
     "text": [
      "in g(x): x= 4\n"
     ]
    }
   ],
   "source": [
    "# Harder scope\n",
    "def g(x):\n",
    "    def h():\n",
    "        x = 'abc'\n",
    "    x += 1\n",
    "    print('in g(x): x=',x)\n",
    "    h()\n",
    "    return x\n",
    "x = 3\n",
    "z = g(x)"
   ]
  },
  {
   "cell_type": "code",
   "execution_count": 54,
   "metadata": {},
   "outputs": [
    {
     "name": "stdout",
     "output_type": "stream",
     "text": [
      "in g(x): x= 4\n",
      "in h(x) x= 5\n",
      "In main program scope: x= 3\n",
      "In main program scope: z= 4\n"
     ]
    }
   ],
   "source": [
    "# Complicated scope\n",
    "def g(x):\n",
    "    def h(x):\n",
    "        x += 1\n",
    "        print('in h(x) x=',x)\n",
    "    x += 1\n",
    "    print('in g(x): x=',x)\n",
    "    h(x)\n",
    "    return x\n",
    "x = 3\n",
    "z = g(x)\n",
    "print('In main program scope: x=',x)\n",
    "print('In main program scope: z=',z)\n"
   ]
  },
  {
   "cell_type": "markdown",
   "metadata": {},
   "source": [
    "#### Evenything in Python is a object\n",
    "\n",
    "#### Functions too\n"
   ]
  },
  {
   "cell_type": "code",
   "execution_count": null,
   "metadata": {},
   "outputs": [],
   "source": [
    "# Functions as objects"
   ]
  },
  {
   "cell_type": "code",
   "execution_count": 55,
   "metadata": {},
   "outputs": [],
   "source": [
    "def f(num):\n",
    "    return num**2"
   ]
  },
  {
   "cell_type": "code",
   "execution_count": 56,
   "metadata": {},
   "outputs": [
    {
     "data": {
      "text/plain": [
       "4"
      ]
     },
     "execution_count": 56,
     "metadata": {},
     "output_type": "execute_result"
    }
   ],
   "source": [
    "f(2)"
   ]
  },
  {
   "cell_type": "code",
   "execution_count": 57,
   "metadata": {},
   "outputs": [
    {
     "data": {
      "text/plain": [
       "16"
      ]
     },
     "execution_count": 57,
     "metadata": {},
     "output_type": "execute_result"
    }
   ],
   "source": [
    "f(4)"
   ]
  },
  {
   "cell_type": "code",
   "execution_count": 58,
   "metadata": {},
   "outputs": [],
   "source": [
    "x = f # Aliasing"
   ]
  },
  {
   "cell_type": "code",
   "execution_count": 59,
   "metadata": {},
   "outputs": [
    {
     "data": {
      "text/plain": [
       "4"
      ]
     },
     "execution_count": 59,
     "metadata": {},
     "output_type": "execute_result"
    }
   ],
   "source": [
    "x(2)"
   ]
  },
  {
   "cell_type": "code",
   "execution_count": 60,
   "metadata": {},
   "outputs": [
    {
     "data": {
      "text/plain": [
       "16"
      ]
     },
     "execution_count": 60,
     "metadata": {},
     "output_type": "execute_result"
    }
   ],
   "source": [
    "x(4)"
   ]
  },
  {
   "cell_type": "code",
   "execution_count": 61,
   "metadata": {},
   "outputs": [],
   "source": [
    "del f # Del functions in python"
   ]
  },
  {
   "cell_type": "code",
   "execution_count": 62,
   "metadata": {},
   "outputs": [
    {
     "ename": "NameError",
     "evalue": "name 'f' is not defined",
     "output_type": "error",
     "traceback": [
      "\u001b[0;31m---------------------------------------------------------------------------\u001b[0m",
      "\u001b[0;31mNameError\u001b[0m                                 Traceback (most recent call last)",
      "Cell \u001b[0;32mIn[62], line 1\u001b[0m\n\u001b[0;32m----> 1\u001b[0m \u001b[43mf\u001b[49m(\u001b[38;5;241m2\u001b[39m)\n",
      "\u001b[0;31mNameError\u001b[0m: name 'f' is not defined"
     ]
    }
   ],
   "source": [
    "f(2)"
   ]
  },
  {
   "cell_type": "code",
   "execution_count": 63,
   "metadata": {},
   "outputs": [
    {
     "data": {
      "text/plain": [
       "4"
      ]
     },
     "execution_count": 63,
     "metadata": {},
     "output_type": "execute_result"
    }
   ],
   "source": [
    "x(2) # Call by object reference"
   ]
  },
  {
   "cell_type": "code",
   "execution_count": 64,
   "metadata": {},
   "outputs": [
    {
     "data": {
      "text/plain": [
       "function"
      ]
     },
     "execution_count": 64,
     "metadata": {},
     "output_type": "execute_result"
    }
   ],
   "source": [
    "type(x)"
   ]
  },
  {
   "cell_type": "code",
   "execution_count": 65,
   "metadata": {},
   "outputs": [
    {
     "data": {
      "text/plain": [
       "[1, 2, 3, 4]"
      ]
     },
     "execution_count": 65,
     "metadata": {},
     "output_type": "execute_result"
    }
   ],
   "source": [
    "L = [1,2,3,4]\n",
    "L"
   ]
  },
  {
   "cell_type": "code",
   "execution_count": 66,
   "metadata": {},
   "outputs": [
    {
     "data": {
      "text/plain": [
       "[1, 2, 3, 4, <function __main__.f(num)>]"
      ]
     },
     "execution_count": 66,
     "metadata": {},
     "output_type": "execute_result"
    }
   ],
   "source": [
    "L = [1,2,3,4,x]\n",
    "L"
   ]
  },
  {
   "cell_type": "code",
   "execution_count": 67,
   "metadata": {},
   "outputs": [
    {
     "data": {
      "text/plain": [
       "9"
      ]
     },
     "execution_count": 67,
     "metadata": {},
     "output_type": "execute_result"
    }
   ],
   "source": [
    "L[-1](-3) # square"
   ]
  },
  {
   "cell_type": "code",
   "execution_count": 68,
   "metadata": {},
   "outputs": [
    {
     "data": {
      "text/plain": [
       "[1, 2, 3, 4, 25]"
      ]
     },
     "execution_count": 68,
     "metadata": {},
     "output_type": "execute_result"
    }
   ],
   "source": [
    "L = [1,2,3,4,x(5)]\n",
    "L"
   ]
  },
  {
   "cell_type": "code",
   "execution_count": 69,
   "metadata": {},
   "outputs": [],
   "source": [
    "# In Python functions behave as any other data types\n",
    "# Can be assigned,passed and returned"
   ]
  },
  {
   "cell_type": "markdown",
   "metadata": {},
   "source": [
    "#### So what ?\n",
    "\n",
    "1. Renaming function : def new_name(old_name):\n",
    "2. Deleting function : del func_name\n",
    "3. Storing function : func_var = def_func()\n",
    "4. Returning function : return func_name\n",
    "5. Function as argument : def outer(func): func()\n"
   ]
  },
  {
   "cell_type": "code",
   "execution_count": 72,
   "metadata": {},
   "outputs": [
    {
     "name": "stdout",
     "output_type": "stream",
     "text": [
      "inside func_c:\n",
      "inside func_a:\n",
      "None\n"
     ]
    }
   ],
   "source": [
    "# Functions as argument/input\n",
    "def func_a():\n",
    "    print('inside func_a:')\n",
    "def func_c(z):\n",
    "    print('inside func_c:')\n",
    "    return z()\n",
    "print(func_c(func_a))\n",
    "\n"
   ]
  },
  {
   "cell_type": "code",
   "execution_count": 73,
   "metadata": {},
   "outputs": [
    {
     "name": "stdout",
     "output_type": "stream",
     "text": [
      "7\n"
     ]
    }
   ],
   "source": [
    "# Returning function + Nested calling\n",
    "def f():\n",
    "    def x(a,b):\n",
    "        return a + b\n",
    "    return x\n",
    "val = f()(3,4)\n",
    "print(val)"
   ]
  },
  {
   "cell_type": "markdown",
   "metadata": {},
   "source": [
    "##### Functions are first class citizens in python"
   ]
  },
  {
   "cell_type": "code",
   "execution_count": 80,
   "metadata": {},
   "outputs": [
    {
     "data": {
      "text/plain": [
       "4428360384"
      ]
     },
     "execution_count": 80,
     "metadata": {},
     "output_type": "execute_result"
    }
   ],
   "source": [
    "# type & id\n",
    "def square(num):\n",
    "    return num**2\n",
    "type(square)\n",
    "id(square)"
   ]
  },
  {
   "cell_type": "code",
   "execution_count": 75,
   "metadata": {},
   "outputs": [
    {
     "data": {
      "text/plain": [
       "9"
      ]
     },
     "execution_count": 75,
     "metadata": {},
     "output_type": "execute_result"
    }
   ],
   "source": [
    "# reassign\n",
    "x = square\n",
    "id(x)\n",
    "x(3)"
   ]
  },
  {
   "cell_type": "code",
   "execution_count": 76,
   "metadata": {},
   "outputs": [
    {
     "data": {
      "text/plain": [
       "2"
      ]
     },
     "execution_count": 76,
     "metadata": {},
     "output_type": "execute_result"
    }
   ],
   "source": [
    "a = 2\n",
    "b = a\n",
    "b"
   ]
  },
  {
   "cell_type": "code",
   "execution_count": 77,
   "metadata": {},
   "outputs": [],
   "source": [
    "# deleting function\n",
    "del square"
   ]
  },
  {
   "cell_type": "code",
   "execution_count": 78,
   "metadata": {},
   "outputs": [
    {
     "ename": "NameError",
     "evalue": "name 'square' is not defined",
     "output_type": "error",
     "traceback": [
      "\u001b[0;31m---------------------------------------------------------------------------\u001b[0m",
      "\u001b[0;31mNameError\u001b[0m                                 Traceback (most recent call last)",
      "Cell \u001b[0;32mIn[78], line 1\u001b[0m\n\u001b[0;32m----> 1\u001b[0m \u001b[43msquare\u001b[49m(\u001b[38;5;241m3\u001b[39m)\n",
      "\u001b[0;31mNameError\u001b[0m: name 'square' is not defined"
     ]
    }
   ],
   "source": [
    "square(3)"
   ]
  },
  {
   "cell_type": "code",
   "execution_count": 81,
   "metadata": {},
   "outputs": [
    {
     "data": {
      "text/plain": [
       "{<function __main__.square(num)>}"
      ]
     },
     "execution_count": 81,
     "metadata": {},
     "output_type": "execute_result"
    }
   ],
   "source": [
    "s = {square}\n",
    "s"
   ]
  },
  {
   "cell_type": "code",
   "execution_count": 83,
   "metadata": {},
   "outputs": [
    {
     "data": {
      "text/plain": [
       "9"
      ]
     },
     "execution_count": 83,
     "metadata": {},
     "output_type": "execute_result"
    }
   ],
   "source": [
    "# Storing\n",
    "L = [1,2,3,4,square]\n",
    "L[-1](3)"
   ]
  },
  {
   "cell_type": "markdown",
   "metadata": {},
   "source": [
    "#### Benefits of function\n",
    "\n",
    "* Modularity : Self contained code,modularizes the login\n",
    "* Reusability : Write once use forever\n",
    "* Readability : Organized and coherent\n"
   ]
  }
 ],
 "metadata": {
  "kernelspec": {
   "display_name": "Python 3",
   "language": "python",
   "name": "python3"
  },
  "language_info": {
   "codemirror_mode": {
    "name": "ipython",
    "version": 3
   },
   "file_extension": ".py",
   "mimetype": "text/x-python",
   "name": "python",
   "nbconvert_exporter": "python",
   "pygments_lexer": "ipython3",
   "version": "3.11.6"
  }
 },
 "nbformat": 4,
 "nbformat_minor": 2
}
