{
 "cells": [
  {
   "cell_type": "markdown",
   "metadata": {},
   "source": [
    "#### List\n",
    "\n",
    "* Ordere collection of mutable objects\n",
    "\n",
    "#### List vs Array\n",
    "\n",
    "* Array : homogenous,Contigous memory,Fast,numerical scientific use\n",
    "* List : Heterogenous,non contiguous memory,programmer friendly,general purpose\n",
    "\n",
    "1. Create\n",
    "2. Access\n",
    "3. Edit\n",
    "4. Add\n",
    "5. Delete\n",
    "6. Operations\n",
    "7. Functions\n",
    "\n",
    "#### Arrays vs List in memory\n",
    "\n",
    "* Arrays :\n",
    "\n",
    "    * int arr[50] : 50 contiguous memory blocks\n",
    "    * elements stored in binary form at consecutive address\n",
    "\n",
    "* Lists :\n",
    "\n",
    "    * list_example = [1,2,3] --> elements at different locations\n",
    "    * stores references/pointers and not the valuues"
   ]
  },
  {
   "cell_type": "code",
   "execution_count": 1,
   "metadata": {},
   "outputs": [
    {
     "name": "stdout",
     "output_type": "stream",
     "text": [
      "4368199872\n",
      "4333546864\n",
      "4333546896\n",
      "4333546928\n",
      "4333546864\n",
      "4333546896\n",
      "4333546928\n"
     ]
    }
   ],
   "source": [
    "# proof\n",
    "L = [1,2,3]\n",
    "\n",
    "print(id(L))\n",
    "print(id(L[0]))\n",
    "print(id(L[1]))\n",
    "print(id(L[2]))\n",
    "print(id(1))\n",
    "print(id(2))\n",
    "print(id(3))"
   ]
  },
  {
   "cell_type": "markdown",
   "metadata": {},
   "source": [
    "#### List characteristics\n",
    "\n",
    "* Ordered\n",
    "* Mutable\n",
    "* Heterogenous\n",
    "* Duplicates allowed\n",
    "* Dynamic size\n",
    "* Nesting supported\n",
    "* Indexible\n",
    "* Any object type"
   ]
  }
 ],
 "metadata": {
  "kernelspec": {
   "display_name": "Python 3",
   "language": "python",
   "name": "python3"
  },
  "language_info": {
   "codemirror_mode": {
    "name": "ipython",
    "version": 3
   },
   "file_extension": ".py",
   "mimetype": "text/x-python",
   "name": "python",
   "nbconvert_exporter": "python",
   "pygments_lexer": "ipython3",
   "version": "3.11.6"
  }
 },
 "nbformat": 4,
 "nbformat_minor": 2
}
