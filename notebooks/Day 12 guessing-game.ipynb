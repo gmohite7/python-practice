{
 "cells": [
  {
   "cell_type": "code",
   "execution_count": 1,
   "metadata": {},
   "outputs": [],
   "source": [
    "import random"
   ]
  },
  {
   "cell_type": "code",
   "execution_count": 2,
   "metadata": {},
   "outputs": [
    {
     "data": {
      "text/plain": [
       "38"
      ]
     },
     "execution_count": 2,
     "metadata": {},
     "output_type": "execute_result"
    }
   ],
   "source": [
    "random.randint(1,100)"
   ]
  },
  {
   "cell_type": "code",
   "execution_count": 4,
   "metadata": {},
   "outputs": [
    {
     "name": "stdout",
     "output_type": "stream",
     "text": [
      "48\n",
      "Guess higher\n",
      "Guess lower\n",
      "Guess lower\n",
      "Guess higher\n",
      "You are correct\n",
      "you took 5 number of attempts\n"
     ]
    }
   ],
   "source": [
    "jackpot = random.randint(1,100)\n",
    "print(jackpot)\n",
    "\n",
    "guess = int(input('Guess a number between 1-100 : '))\n",
    "\n",
    "counter = 1\n",
    "while guess != jackpot:\n",
    "    if guess < jackpot:\n",
    "        print('Guess higher')\n",
    "    else:\n",
    "        print('Guess lower')\n",
    "    guess = int(input('Guess a number between 1-100 : '))\n",
    "    counter += 1\n",
    "print('You are correct')\n",
    "print(f'you took {counter} number of attempts')"
   ]
  }
 ],
 "metadata": {
  "kernelspec": {
   "display_name": "Python 3",
   "language": "python",
   "name": "python3"
  },
  "language_info": {
   "codemirror_mode": {
    "name": "ipython",
    "version": 3
   },
   "file_extension": ".py",
   "mimetype": "text/x-python",
   "name": "python",
   "nbconvert_exporter": "python",
   "pygments_lexer": "ipython3",
   "version": "3.11.6"
  }
 },
 "nbformat": 4,
 "nbformat_minor": 2
}
