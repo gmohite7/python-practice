{
 "cells": [
  {
   "cell_type": "markdown",
   "metadata": {},
   "source": [
    "#### Why Python ?\n",
    "\n",
    "1. Design Philosophy : Very simple and intuitive\n",
    "2. Batteries included : for e.g code to reverse string\n",
    "3. General purpose : Can be used in day to day.Can be used anywhere\n",
    "4. Libraries/Community : Supported by a vast community of python developers\n",
    "\n",
    "#### Why Python for DataScience ?\n",
    "\n",
    "1. Easy to learn\n",
    "2. Proximity to maths\n",
    "3. Community"
   ]
  },
  {
   "cell_type": "markdown",
   "metadata": {
    "vscode": {
     "languageId": "plaintext"
    }
   },
   "source": [
    "#### Python output"
   ]
  },
  {
   "cell_type": "code",
   "execution_count": 2,
   "metadata": {},
   "outputs": [
    {
     "name": "stdout",
     "output_type": "stream",
     "text": [
      "1*2*3*4\n"
     ]
    }
   ],
   "source": [
    "print(1,2,3,4,sep = '*')"
   ]
  }
 ],
 "metadata": {
  "kernelspec": {
   "display_name": "Python 3",
   "language": "python",
   "name": "python3"
  },
  "language_info": {
   "codemirror_mode": {
    "name": "ipython",
    "version": 3
   },
   "file_extension": ".py",
   "mimetype": "text/x-python",
   "name": "python",
   "nbconvert_exporter": "python",
   "pygments_lexer": "ipython3",
   "version": "3.11.6"
  }
 },
 "nbformat": 4,
 "nbformat_minor": 2
}
